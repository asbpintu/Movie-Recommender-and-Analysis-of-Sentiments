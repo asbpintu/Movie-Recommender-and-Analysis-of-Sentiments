{
 "cells": [
  {
   "cell_type": "code",
   "execution_count": 1,
   "id": "58a7ae14",
   "metadata": {},
   "outputs": [],
   "source": [
    "import os\n",
    "path = os.getcwd()"
   ]
  },
  {
   "cell_type": "code",
   "execution_count": 3,
   "id": "8eefe33d",
   "metadata": {},
   "outputs": [],
   "source": [
    "import warnings\n",
    "warnings.filterwarnings(\"ignore\")\n"
   ]
  },
  {
   "cell_type": "code",
   "execution_count": 1,
   "id": "45c82801",
   "metadata": {},
   "outputs": [],
   "source": [
    "\n",
    "import pandas as pd\n",
    "import numpy as np\n",
    "import ast\n",
    "import re\n",
    "\n",
    "\n",
    "import nltk\n",
    "from nltk import word_tokenize\n",
    "from nltk.stem import PorterStemmer\n",
    "\n",
    "from sklearn.feature_extraction.text import TfidfVectorizer\n",
    "from sklearn.metrics.pairwise import cosine_similarity\n",
    "import pickle"
   ]
  },
  {
   "cell_type": "code",
   "execution_count": 4,
   "id": "7ecc9eb4",
   "metadata": {},
   "outputs": [],
   "source": [
    "movie = pd.read_csv(path + r'\\trial data\\tmdb_5000_movies.csv')\n",
    "credit = pd.read_csv(path + r'\\trial data\\tmdb_5000_credits.csv')\n",
    "\n"
   ]
  },
  {
   "cell_type": "code",
   "execution_count": 5,
   "id": "74915d5a",
   "metadata": {},
   "outputs": [
    {
     "data": {
      "text/html": [
       "<div>\n",
       "<style scoped>\n",
       "    .dataframe tbody tr th:only-of-type {\n",
       "        vertical-align: middle;\n",
       "    }\n",
       "\n",
       "    .dataframe tbody tr th {\n",
       "        vertical-align: top;\n",
       "    }\n",
       "\n",
       "    .dataframe thead th {\n",
       "        text-align: right;\n",
       "    }\n",
       "</style>\n",
       "<table border=\"1\" class=\"dataframe\">\n",
       "  <thead>\n",
       "    <tr style=\"text-align: right;\">\n",
       "      <th></th>\n",
       "      <th>budget</th>\n",
       "      <th>genres</th>\n",
       "      <th>homepage</th>\n",
       "      <th>id</th>\n",
       "      <th>keywords</th>\n",
       "      <th>original_language</th>\n",
       "      <th>original_title</th>\n",
       "      <th>overview</th>\n",
       "      <th>popularity</th>\n",
       "      <th>production_companies</th>\n",
       "      <th>production_countries</th>\n",
       "      <th>release_date</th>\n",
       "      <th>revenue</th>\n",
       "      <th>runtime</th>\n",
       "      <th>spoken_languages</th>\n",
       "      <th>status</th>\n",
       "      <th>tagline</th>\n",
       "      <th>title</th>\n",
       "      <th>vote_average</th>\n",
       "      <th>vote_count</th>\n",
       "    </tr>\n",
       "  </thead>\n",
       "  <tbody>\n",
       "    <tr>\n",
       "      <th>0</th>\n",
       "      <td>237000000</td>\n",
       "      <td>[{\"id\": 28, \"name\": \"Action\"}, {\"id\": 12, \"nam...</td>\n",
       "      <td>http://www.avatarmovie.com/</td>\n",
       "      <td>19995</td>\n",
       "      <td>[{\"id\": 1463, \"name\": \"culture clash\"}, {\"id\":...</td>\n",
       "      <td>en</td>\n",
       "      <td>Avatar</td>\n",
       "      <td>In the 22nd century, a paraplegic Marine is di...</td>\n",
       "      <td>150.437577</td>\n",
       "      <td>[{\"name\": \"Ingenious Film Partners\", \"id\": 289...</td>\n",
       "      <td>[{\"iso_3166_1\": \"US\", \"name\": \"United States o...</td>\n",
       "      <td>2009-12-10</td>\n",
       "      <td>2787965087</td>\n",
       "      <td>162.0</td>\n",
       "      <td>[{\"iso_639_1\": \"en\", \"name\": \"English\"}, {\"iso...</td>\n",
       "      <td>Released</td>\n",
       "      <td>Enter the World of Pandora.</td>\n",
       "      <td>Avatar</td>\n",
       "      <td>7.2</td>\n",
       "      <td>11800</td>\n",
       "    </tr>\n",
       "  </tbody>\n",
       "</table>\n",
       "</div>"
      ],
      "text/plain": [
       "      budget                                             genres  \\\n",
       "0  237000000  [{\"id\": 28, \"name\": \"Action\"}, {\"id\": 12, \"nam...   \n",
       "\n",
       "                      homepage     id  \\\n",
       "0  http://www.avatarmovie.com/  19995   \n",
       "\n",
       "                                            keywords original_language  \\\n",
       "0  [{\"id\": 1463, \"name\": \"culture clash\"}, {\"id\":...                en   \n",
       "\n",
       "  original_title                                           overview  \\\n",
       "0         Avatar  In the 22nd century, a paraplegic Marine is di...   \n",
       "\n",
       "   popularity                               production_companies  \\\n",
       "0  150.437577  [{\"name\": \"Ingenious Film Partners\", \"id\": 289...   \n",
       "\n",
       "                                production_countries release_date     revenue  \\\n",
       "0  [{\"iso_3166_1\": \"US\", \"name\": \"United States o...   2009-12-10  2787965087   \n",
       "\n",
       "   runtime                                   spoken_languages    status  \\\n",
       "0    162.0  [{\"iso_639_1\": \"en\", \"name\": \"English\"}, {\"iso...  Released   \n",
       "\n",
       "                       tagline   title  vote_average  vote_count  \n",
       "0  Enter the World of Pandora.  Avatar           7.2       11800  "
      ]
     },
     "execution_count": 5,
     "metadata": {},
     "output_type": "execute_result"
    }
   ],
   "source": [
    "movie.head(1)"
   ]
  },
  {
   "cell_type": "code",
   "execution_count": 7,
   "id": "8b438428",
   "metadata": {},
   "outputs": [
    {
     "data": {
      "text/html": [
       "<div>\n",
       "<style scoped>\n",
       "    .dataframe tbody tr th:only-of-type {\n",
       "        vertical-align: middle;\n",
       "    }\n",
       "\n",
       "    .dataframe tbody tr th {\n",
       "        vertical-align: top;\n",
       "    }\n",
       "\n",
       "    .dataframe thead th {\n",
       "        text-align: right;\n",
       "    }\n",
       "</style>\n",
       "<table border=\"1\" class=\"dataframe\">\n",
       "  <thead>\n",
       "    <tr style=\"text-align: right;\">\n",
       "      <th></th>\n",
       "      <th>movie_id</th>\n",
       "      <th>title</th>\n",
       "      <th>cast</th>\n",
       "      <th>crew</th>\n",
       "    </tr>\n",
       "  </thead>\n",
       "  <tbody>\n",
       "    <tr>\n",
       "      <th>0</th>\n",
       "      <td>19995</td>\n",
       "      <td>Avatar</td>\n",
       "      <td>[{\"cast_id\": 242, \"character\": \"Jake Sully\", \"...</td>\n",
       "      <td>[{\"credit_id\": \"52fe48009251416c750aca23\", \"de...</td>\n",
       "    </tr>\n",
       "  </tbody>\n",
       "</table>\n",
       "</div>"
      ],
      "text/plain": [
       "   movie_id   title                                               cast  \\\n",
       "0     19995  Avatar  [{\"cast_id\": 242, \"character\": \"Jake Sully\", \"...   \n",
       "\n",
       "                                                crew  \n",
       "0  [{\"credit_id\": \"52fe48009251416c750aca23\", \"de...  "
      ]
     },
     "execution_count": 7,
     "metadata": {},
     "output_type": "execute_result"
    }
   ],
   "source": [
    "credit.head(1)"
   ]
  },
  {
   "cell_type": "code",
   "execution_count": 8,
   "id": "eeb5b29b",
   "metadata": {},
   "outputs": [],
   "source": [
    "root = pd.merge(movie , credit , on='title')"
   ]
  },
  {
   "cell_type": "code",
   "execution_count": 9,
   "id": "ac80fba4",
   "metadata": {},
   "outputs": [
    {
     "data": {
      "text/html": [
       "<div>\n",
       "<style scoped>\n",
       "    .dataframe tbody tr th:only-of-type {\n",
       "        vertical-align: middle;\n",
       "    }\n",
       "\n",
       "    .dataframe tbody tr th {\n",
       "        vertical-align: top;\n",
       "    }\n",
       "\n",
       "    .dataframe thead th {\n",
       "        text-align: right;\n",
       "    }\n",
       "</style>\n",
       "<table border=\"1\" class=\"dataframe\">\n",
       "  <thead>\n",
       "    <tr style=\"text-align: right;\">\n",
       "      <th></th>\n",
       "      <th>budget</th>\n",
       "      <th>genres</th>\n",
       "      <th>homepage</th>\n",
       "      <th>id</th>\n",
       "      <th>keywords</th>\n",
       "      <th>original_language</th>\n",
       "      <th>original_title</th>\n",
       "      <th>overview</th>\n",
       "      <th>popularity</th>\n",
       "      <th>production_companies</th>\n",
       "      <th>...</th>\n",
       "      <th>runtime</th>\n",
       "      <th>spoken_languages</th>\n",
       "      <th>status</th>\n",
       "      <th>tagline</th>\n",
       "      <th>title</th>\n",
       "      <th>vote_average</th>\n",
       "      <th>vote_count</th>\n",
       "      <th>movie_id</th>\n",
       "      <th>cast</th>\n",
       "      <th>crew</th>\n",
       "    </tr>\n",
       "  </thead>\n",
       "  <tbody>\n",
       "    <tr>\n",
       "      <th>0</th>\n",
       "      <td>237000000</td>\n",
       "      <td>[{\"id\": 28, \"name\": \"Action\"}, {\"id\": 12, \"nam...</td>\n",
       "      <td>http://www.avatarmovie.com/</td>\n",
       "      <td>19995</td>\n",
       "      <td>[{\"id\": 1463, \"name\": \"culture clash\"}, {\"id\":...</td>\n",
       "      <td>en</td>\n",
       "      <td>Avatar</td>\n",
       "      <td>In the 22nd century, a paraplegic Marine is di...</td>\n",
       "      <td>150.437577</td>\n",
       "      <td>[{\"name\": \"Ingenious Film Partners\", \"id\": 289...</td>\n",
       "      <td>...</td>\n",
       "      <td>162.0</td>\n",
       "      <td>[{\"iso_639_1\": \"en\", \"name\": \"English\"}, {\"iso...</td>\n",
       "      <td>Released</td>\n",
       "      <td>Enter the World of Pandora.</td>\n",
       "      <td>Avatar</td>\n",
       "      <td>7.2</td>\n",
       "      <td>11800</td>\n",
       "      <td>19995</td>\n",
       "      <td>[{\"cast_id\": 242, \"character\": \"Jake Sully\", \"...</td>\n",
       "      <td>[{\"credit_id\": \"52fe48009251416c750aca23\", \"de...</td>\n",
       "    </tr>\n",
       "  </tbody>\n",
       "</table>\n",
       "<p>1 rows × 23 columns</p>\n",
       "</div>"
      ],
      "text/plain": [
       "      budget                                             genres  \\\n",
       "0  237000000  [{\"id\": 28, \"name\": \"Action\"}, {\"id\": 12, \"nam...   \n",
       "\n",
       "                      homepage     id  \\\n",
       "0  http://www.avatarmovie.com/  19995   \n",
       "\n",
       "                                            keywords original_language  \\\n",
       "0  [{\"id\": 1463, \"name\": \"culture clash\"}, {\"id\":...                en   \n",
       "\n",
       "  original_title                                           overview  \\\n",
       "0         Avatar  In the 22nd century, a paraplegic Marine is di...   \n",
       "\n",
       "   popularity                               production_companies  ... runtime  \\\n",
       "0  150.437577  [{\"name\": \"Ingenious Film Partners\", \"id\": 289...  ...   162.0   \n",
       "\n",
       "                                    spoken_languages    status  \\\n",
       "0  [{\"iso_639_1\": \"en\", \"name\": \"English\"}, {\"iso...  Released   \n",
       "\n",
       "                       tagline   title vote_average vote_count movie_id  \\\n",
       "0  Enter the World of Pandora.  Avatar          7.2      11800    19995   \n",
       "\n",
       "                                                cast  \\\n",
       "0  [{\"cast_id\": 242, \"character\": \"Jake Sully\", \"...   \n",
       "\n",
       "                                                crew  \n",
       "0  [{\"credit_id\": \"52fe48009251416c750aca23\", \"de...  \n",
       "\n",
       "[1 rows x 23 columns]"
      ]
     },
     "execution_count": 9,
     "metadata": {},
     "output_type": "execute_result"
    }
   ],
   "source": [
    "root.head(1)"
   ]
  },
  {
   "cell_type": "code",
   "execution_count": 10,
   "id": "af0863cf",
   "metadata": {},
   "outputs": [
    {
     "data": {
      "text/plain": [
       "Index(['budget', 'genres', 'homepage', 'id', 'keywords', 'original_language',\n",
       "       'original_title', 'overview', 'popularity', 'production_companies',\n",
       "       'production_countries', 'release_date', 'revenue', 'runtime',\n",
       "       'spoken_languages', 'status', 'tagline', 'title', 'vote_average',\n",
       "       'vote_count', 'movie_id', 'cast', 'crew'],\n",
       "      dtype='object')"
      ]
     },
     "execution_count": 10,
     "metadata": {},
     "output_type": "execute_result"
    }
   ],
   "source": [
    "root.columns"
   ]
  },
  {
   "cell_type": "code",
   "execution_count": 11,
   "id": "04879b74",
   "metadata": {},
   "outputs": [
    {
     "data": {
      "text/plain": [
       "('id', 'title', 'genres', 'keywords', 'overview', 'cast', 'crew')"
      ]
     },
     "execution_count": 11,
     "metadata": {},
     "output_type": "execute_result"
    }
   ],
   "source": [
    "'id' , 'title' , 'genres' , 'keywords' , 'overview' , 'cast' , 'crew'"
   ]
  },
  {
   "cell_type": "code",
   "execution_count": 12,
   "id": "a46e58fa",
   "metadata": {},
   "outputs": [],
   "source": [
    "data = root[['id' , 'title' , 'genres' , 'keywords' , 'overview' , 'cast' , 'crew']]"
   ]
  },
  {
   "cell_type": "code",
   "execution_count": 13,
   "id": "677dd5f5",
   "metadata": {},
   "outputs": [
    {
     "data": {
      "text/html": [
       "<div>\n",
       "<style scoped>\n",
       "    .dataframe tbody tr th:only-of-type {\n",
       "        vertical-align: middle;\n",
       "    }\n",
       "\n",
       "    .dataframe tbody tr th {\n",
       "        vertical-align: top;\n",
       "    }\n",
       "\n",
       "    .dataframe thead th {\n",
       "        text-align: right;\n",
       "    }\n",
       "</style>\n",
       "<table border=\"1\" class=\"dataframe\">\n",
       "  <thead>\n",
       "    <tr style=\"text-align: right;\">\n",
       "      <th></th>\n",
       "      <th>id</th>\n",
       "      <th>title</th>\n",
       "      <th>genres</th>\n",
       "      <th>keywords</th>\n",
       "      <th>overview</th>\n",
       "      <th>cast</th>\n",
       "      <th>crew</th>\n",
       "    </tr>\n",
       "  </thead>\n",
       "  <tbody>\n",
       "    <tr>\n",
       "      <th>0</th>\n",
       "      <td>19995</td>\n",
       "      <td>Avatar</td>\n",
       "      <td>[{\"id\": 28, \"name\": \"Action\"}, {\"id\": 12, \"nam...</td>\n",
       "      <td>[{\"id\": 1463, \"name\": \"culture clash\"}, {\"id\":...</td>\n",
       "      <td>In the 22nd century, a paraplegic Marine is di...</td>\n",
       "      <td>[{\"cast_id\": 242, \"character\": \"Jake Sully\", \"...</td>\n",
       "      <td>[{\"credit_id\": \"52fe48009251416c750aca23\", \"de...</td>\n",
       "    </tr>\n",
       "  </tbody>\n",
       "</table>\n",
       "</div>"
      ],
      "text/plain": [
       "      id   title                                             genres  \\\n",
       "0  19995  Avatar  [{\"id\": 28, \"name\": \"Action\"}, {\"id\": 12, \"nam...   \n",
       "\n",
       "                                            keywords  \\\n",
       "0  [{\"id\": 1463, \"name\": \"culture clash\"}, {\"id\":...   \n",
       "\n",
       "                                            overview  \\\n",
       "0  In the 22nd century, a paraplegic Marine is di...   \n",
       "\n",
       "                                                cast  \\\n",
       "0  [{\"cast_id\": 242, \"character\": \"Jake Sully\", \"...   \n",
       "\n",
       "                                                crew  \n",
       "0  [{\"credit_id\": \"52fe48009251416c750aca23\", \"de...  "
      ]
     },
     "execution_count": 13,
     "metadata": {},
     "output_type": "execute_result"
    }
   ],
   "source": [
    "data.head(1)"
   ]
  },
  {
   "cell_type": "markdown",
   "id": "e7f1a3d3",
   "metadata": {},
   "source": [
    "### Pre-Processing"
   ]
  },
  {
   "cell_type": "code",
   "execution_count": 14,
   "id": "35081eaf",
   "metadata": {},
   "outputs": [
    {
     "data": {
      "text/html": [
       "<div>\n",
       "<style scoped>\n",
       "    .dataframe tbody tr th:only-of-type {\n",
       "        vertical-align: middle;\n",
       "    }\n",
       "\n",
       "    .dataframe tbody tr th {\n",
       "        vertical-align: top;\n",
       "    }\n",
       "\n",
       "    .dataframe thead th {\n",
       "        text-align: right;\n",
       "    }\n",
       "</style>\n",
       "<table border=\"1\" class=\"dataframe\">\n",
       "  <thead>\n",
       "    <tr style=\"text-align: right;\">\n",
       "      <th></th>\n",
       "      <th>id</th>\n",
       "      <th>title</th>\n",
       "      <th>genres</th>\n",
       "      <th>keywords</th>\n",
       "      <th>overview</th>\n",
       "      <th>cast</th>\n",
       "      <th>crew</th>\n",
       "    </tr>\n",
       "  </thead>\n",
       "  <tbody>\n",
       "    <tr>\n",
       "      <th>0</th>\n",
       "      <td>19995</td>\n",
       "      <td>Avatar</td>\n",
       "      <td>[{\"id\": 28, \"name\": \"Action\"}, {\"id\": 12, \"nam...</td>\n",
       "      <td>[{\"id\": 1463, \"name\": \"culture clash\"}, {\"id\":...</td>\n",
       "      <td>In the 22nd century, a paraplegic Marine is di...</td>\n",
       "      <td>[{\"cast_id\": 242, \"character\": \"Jake Sully\", \"...</td>\n",
       "      <td>[{\"credit_id\": \"52fe48009251416c750aca23\", \"de...</td>\n",
       "    </tr>\n",
       "  </tbody>\n",
       "</table>\n",
       "</div>"
      ],
      "text/plain": [
       "      id   title                                             genres  \\\n",
       "0  19995  Avatar  [{\"id\": 28, \"name\": \"Action\"}, {\"id\": 12, \"nam...   \n",
       "\n",
       "                                            keywords  \\\n",
       "0  [{\"id\": 1463, \"name\": \"culture clash\"}, {\"id\":...   \n",
       "\n",
       "                                            overview  \\\n",
       "0  In the 22nd century, a paraplegic Marine is di...   \n",
       "\n",
       "                                                cast  \\\n",
       "0  [{\"cast_id\": 242, \"character\": \"Jake Sully\", \"...   \n",
       "\n",
       "                                                crew  \n",
       "0  [{\"credit_id\": \"52fe48009251416c750aca23\", \"de...  "
      ]
     },
     "execution_count": 14,
     "metadata": {},
     "output_type": "execute_result"
    }
   ],
   "source": [
    "data.head(1)"
   ]
  },
  {
   "cell_type": "code",
   "execution_count": 15,
   "id": "855f2ed2",
   "metadata": {},
   "outputs": [
    {
     "data": {
      "text/plain": [
       "id          0\n",
       "title       0\n",
       "genres      0\n",
       "keywords    0\n",
       "overview    3\n",
       "cast        0\n",
       "crew        0\n",
       "dtype: int64"
      ]
     },
     "execution_count": 15,
     "metadata": {},
     "output_type": "execute_result"
    }
   ],
   "source": [
    "data.isnull().sum()"
   ]
  },
  {
   "cell_type": "code",
   "execution_count": 16,
   "id": "e54dd641",
   "metadata": {},
   "outputs": [],
   "source": [
    "data.dropna(inplace=True)"
   ]
  },
  {
   "cell_type": "code",
   "execution_count": 17,
   "id": "9314089e",
   "metadata": {},
   "outputs": [
    {
     "data": {
      "text/plain": [
       "id          0\n",
       "title       0\n",
       "genres      0\n",
       "keywords    0\n",
       "overview    0\n",
       "cast        0\n",
       "crew        0\n",
       "dtype: int64"
      ]
     },
     "execution_count": 17,
     "metadata": {},
     "output_type": "execute_result"
    }
   ],
   "source": [
    "data.isnull().sum()"
   ]
  },
  {
   "cell_type": "code",
   "execution_count": 18,
   "id": "e340cc2a",
   "metadata": {},
   "outputs": [
    {
     "data": {
      "text/plain": [
       "0"
      ]
     },
     "execution_count": 18,
     "metadata": {},
     "output_type": "execute_result"
    }
   ],
   "source": [
    "data.duplicated().sum()"
   ]
  },
  {
   "cell_type": "markdown",
   "id": "de36234a",
   "metadata": {},
   "source": [
    "#### Genres"
   ]
  },
  {
   "cell_type": "code",
   "execution_count": 19,
   "id": "a715c566",
   "metadata": {},
   "outputs": [
    {
     "data": {
      "text/plain": [
       "'[{\"id\": 28, \"name\": \"Action\"}, {\"id\": 12, \"name\": \"Adventure\"}, {\"id\": 14, \"name\": \"Fantasy\"}, {\"id\": 878, \"name\": \"Science Fiction\"}]'"
      ]
     },
     "execution_count": 19,
     "metadata": {},
     "output_type": "execute_result"
    }
   ],
   "source": [
    "data.iloc[0].genres"
   ]
  },
  {
   "cell_type": "code",
   "execution_count": 20,
   "id": "c8ccf410",
   "metadata": {},
   "outputs": [],
   "source": [
    "def extract_name(items):\n",
    "    list = []\n",
    "    items = ast.literal_eval(items)\n",
    "    for i in items:\n",
    "        list.append(i['name'])\n",
    "    return list"
   ]
  },
  {
   "cell_type": "code",
   "execution_count": 21,
   "id": "9a6de0a2",
   "metadata": {},
   "outputs": [],
   "source": [
    "data['genres'] = data['genres'].apply(extract_name)"
   ]
  },
  {
   "cell_type": "code",
   "execution_count": 22,
   "id": "42916980",
   "metadata": {},
   "outputs": [
    {
     "data": {
      "text/plain": [
       "['Action', 'Adventure', 'Fantasy', 'Science Fiction']"
      ]
     },
     "execution_count": 22,
     "metadata": {},
     "output_type": "execute_result"
    }
   ],
   "source": [
    "data['genres'][0]"
   ]
  },
  {
   "cell_type": "code",
   "execution_count": 23,
   "id": "8d6adc49",
   "metadata": {},
   "outputs": [
    {
     "data": {
      "text/plain": [
       "['Action', 'Adventure', 'Fantasy', 'Science Fiction']"
      ]
     },
     "execution_count": 23,
     "metadata": {},
     "output_type": "execute_result"
    }
   ],
   "source": [
    "data['genres'][0]"
   ]
  },
  {
   "cell_type": "markdown",
   "id": "b16c7ca4",
   "metadata": {},
   "source": [
    "#### Keywords"
   ]
  },
  {
   "cell_type": "code",
   "execution_count": 24,
   "id": "39de3da1",
   "metadata": {},
   "outputs": [
    {
     "data": {
      "text/plain": [
       "'[{\"id\": 1463, \"name\": \"culture clash\"}, {\"id\": 2964, \"name\": \"future\"}, {\"id\": 3386, \"name\": \"space war\"}, {\"id\": 3388, \"name\": \"space colony\"}, {\"id\": 3679, \"name\": \"society\"}, {\"id\": 3801, \"name\": \"space travel\"}, {\"id\": 9685, \"name\": \"futuristic\"}, {\"id\": 9840, \"name\": \"romance\"}, {\"id\": 9882, \"name\": \"space\"}, {\"id\": 9951, \"name\": \"alien\"}, {\"id\": 10148, \"name\": \"tribe\"}, {\"id\": 10158, \"name\": \"alien planet\"}, {\"id\": 10987, \"name\": \"cgi\"}, {\"id\": 11399, \"name\": \"marine\"}, {\"id\": 13065, \"name\": \"soldier\"}, {\"id\": 14643, \"name\": \"battle\"}, {\"id\": 14720, \"name\": \"love affair\"}, {\"id\": 165431, \"name\": \"anti war\"}, {\"id\": 193554, \"name\": \"power relations\"}, {\"id\": 206690, \"name\": \"mind and soul\"}, {\"id\": 209714, \"name\": \"3d\"}]'"
      ]
     },
     "execution_count": 24,
     "metadata": {},
     "output_type": "execute_result"
    }
   ],
   "source": [
    "data['keywords'][0]"
   ]
  },
  {
   "cell_type": "code",
   "execution_count": 25,
   "id": "dba7c93e",
   "metadata": {},
   "outputs": [],
   "source": [
    "data['keywords'] = data['keywords'].apply(extract_name)"
   ]
  },
  {
   "cell_type": "markdown",
   "id": "501c1aeb",
   "metadata": {},
   "source": [
    "#### Cast"
   ]
  },
  {
   "cell_type": "markdown",
   "id": "819ac05a",
   "metadata": {},
   "source": [
    "##### Here we are taking top 3 actors, because top 3 actors are the important actors in every movies"
   ]
  },
  {
   "cell_type": "code",
   "execution_count": 26,
   "id": "2fcd835a",
   "metadata": {
    "scrolled": true
   },
   "outputs": [],
   "source": [
    "# data['cast'][0]"
   ]
  },
  {
   "cell_type": "code",
   "execution_count": 27,
   "id": "ff61511f",
   "metadata": {},
   "outputs": [],
   "source": [
    "def cast_name(items):\n",
    "    list = []\n",
    "    items = ast.literal_eval(items)\n",
    "    index = 0\n",
    "    for i in items:\n",
    "        if index !=3:\n",
    "            list.append(i['name'])\n",
    "            index += 1\n",
    "        else:\n",
    "            break\n",
    "    return list"
   ]
  },
  {
   "cell_type": "code",
   "execution_count": 28,
   "id": "180bd2e2",
   "metadata": {},
   "outputs": [],
   "source": [
    "data['cast'] = data['cast'].apply(cast_name)"
   ]
  },
  {
   "cell_type": "code",
   "execution_count": 29,
   "id": "5c9d20ca",
   "metadata": {},
   "outputs": [
    {
     "data": {
      "text/plain": [
       "['Sam Worthington', 'Zoe Saldana', 'Sigourney Weaver']"
      ]
     },
     "execution_count": 29,
     "metadata": {},
     "output_type": "execute_result"
    }
   ],
   "source": [
    "data['cast'][0]"
   ]
  },
  {
   "cell_type": "markdown",
   "id": "3f93ec94",
   "metadata": {},
   "source": [
    "#### Crew"
   ]
  },
  {
   "cell_type": "markdown",
   "id": "2cda90d4",
   "metadata": {},
   "source": [
    "##### Here we are taking only director, because all others are not important for recommender"
   ]
  },
  {
   "cell_type": "code",
   "execution_count": 30,
   "id": "6be02610",
   "metadata": {},
   "outputs": [],
   "source": [
    "# data['crew'][0]"
   ]
  },
  {
   "cell_type": "code",
   "execution_count": 31,
   "id": "deea2916",
   "metadata": {},
   "outputs": [],
   "source": [
    "def director_name(items):\n",
    "    list = []\n",
    "    items = ast.literal_eval(items)\n",
    "    for i in items:\n",
    "        if i['job'] == 'Director':\n",
    "            list.append(i['name'])\n",
    "            break\n",
    "    return list"
   ]
  },
  {
   "cell_type": "code",
   "execution_count": 32,
   "id": "3b3c7675",
   "metadata": {},
   "outputs": [],
   "source": [
    "data['crew'] = data['crew'].apply(director_name)"
   ]
  },
  {
   "cell_type": "code",
   "execution_count": 33,
   "id": "d25753c0",
   "metadata": {},
   "outputs": [
    {
     "data": {
      "text/plain": [
       "4806         [Scott Smith]\n",
       "4807         [Daniel Hsia]\n",
       "4808    [Brian Herzlinger]\n",
       "Name: crew, dtype: object"
      ]
     },
     "execution_count": 33,
     "metadata": {},
     "output_type": "execute_result"
    }
   ],
   "source": [
    "data['crew'].tail(3)"
   ]
  },
  {
   "cell_type": "markdown",
   "id": "c2a52e89",
   "metadata": {},
   "source": [
    "#### Making a copy of data for app "
   ]
  },
  {
   "cell_type": "code",
   "execution_count": 34,
   "id": "aa4d0740",
   "metadata": {},
   "outputs": [],
   "source": [
    "data_app = data[['id','title','genres','overview','cast','crew']]"
   ]
  },
  {
   "cell_type": "markdown",
   "id": "9a4a7e8f",
   "metadata": {},
   "source": [
    "#### Overview"
   ]
  },
  {
   "cell_type": "code",
   "execution_count": 35,
   "id": "859e6d87",
   "metadata": {},
   "outputs": [
    {
     "data": {
      "text/plain": [
       "'In the 22nd century, a paraplegic Marine is dispatched to the moon Pandora on a unique mission, but becomes torn between following orders and protecting an alien civilization.'"
      ]
     },
     "execution_count": 35,
     "metadata": {},
     "output_type": "execute_result"
    }
   ],
   "source": [
    "data['overview'][0]"
   ]
  },
  {
   "cell_type": "code",
   "execution_count": 36,
   "id": "a4e70d82",
   "metadata": {},
   "outputs": [],
   "source": [
    "data['overview'] = data['overview'].apply(lambda i: i.split())"
   ]
  },
  {
   "cell_type": "markdown",
   "id": "1f335455",
   "metadata": {},
   "source": [
    "#### Removing space from cast, crew, keywored and genres"
   ]
  },
  {
   "cell_type": "code",
   "execution_count": 37,
   "id": "b973997b",
   "metadata": {},
   "outputs": [],
   "source": [
    "data['genres'] = data['genres'].apply(lambda i : [j.replace(' ','') for j in i])"
   ]
  },
  {
   "cell_type": "code",
   "execution_count": 38,
   "id": "7704c33b",
   "metadata": {},
   "outputs": [],
   "source": [
    "data['keywords'] = data['keywords'].apply(lambda i : [j.replace(' ','') for j in i])"
   ]
  },
  {
   "cell_type": "code",
   "execution_count": 39,
   "id": "d7816cfb",
   "metadata": {},
   "outputs": [],
   "source": [
    "data['cast'] = data['cast'].apply(lambda i : [j.replace(' ','') for j in i])"
   ]
  },
  {
   "cell_type": "code",
   "execution_count": 40,
   "id": "71c57396",
   "metadata": {},
   "outputs": [],
   "source": [
    "data['crew'] = data['crew'].apply(lambda i : [j.replace(' ','') for j in i])"
   ]
  },
  {
   "cell_type": "markdown",
   "id": "ff99678a",
   "metadata": {},
   "source": [
    "#### Making a new column tokens"
   ]
  },
  {
   "cell_type": "code",
   "execution_count": 41,
   "id": "5ba28ee1",
   "metadata": {},
   "outputs": [],
   "source": [
    "data['tokens'] = data['cast'] + data['crew'] + data['genres'] + data['keywords'] + data['overview']"
   ]
  },
  {
   "cell_type": "code",
   "execution_count": 42,
   "id": "508a4ac4",
   "metadata": {},
   "outputs": [
    {
     "data": {
      "text/html": [
       "<div>\n",
       "<style scoped>\n",
       "    .dataframe tbody tr th:only-of-type {\n",
       "        vertical-align: middle;\n",
       "    }\n",
       "\n",
       "    .dataframe tbody tr th {\n",
       "        vertical-align: top;\n",
       "    }\n",
       "\n",
       "    .dataframe thead th {\n",
       "        text-align: right;\n",
       "    }\n",
       "</style>\n",
       "<table border=\"1\" class=\"dataframe\">\n",
       "  <thead>\n",
       "    <tr style=\"text-align: right;\">\n",
       "      <th></th>\n",
       "      <th>id</th>\n",
       "      <th>title</th>\n",
       "      <th>genres</th>\n",
       "      <th>keywords</th>\n",
       "      <th>overview</th>\n",
       "      <th>cast</th>\n",
       "      <th>crew</th>\n",
       "      <th>tokens</th>\n",
       "    </tr>\n",
       "  </thead>\n",
       "  <tbody>\n",
       "    <tr>\n",
       "      <th>0</th>\n",
       "      <td>19995</td>\n",
       "      <td>Avatar</td>\n",
       "      <td>[Action, Adventure, Fantasy, ScienceFiction]</td>\n",
       "      <td>[cultureclash, future, spacewar, spacecolony, ...</td>\n",
       "      <td>[In, the, 22nd, century,, a, paraplegic, Marin...</td>\n",
       "      <td>[SamWorthington, ZoeSaldana, SigourneyWeaver]</td>\n",
       "      <td>[JamesCameron]</td>\n",
       "      <td>[SamWorthington, ZoeSaldana, SigourneyWeaver, ...</td>\n",
       "    </tr>\n",
       "  </tbody>\n",
       "</table>\n",
       "</div>"
      ],
      "text/plain": [
       "      id   title                                        genres  \\\n",
       "0  19995  Avatar  [Action, Adventure, Fantasy, ScienceFiction]   \n",
       "\n",
       "                                            keywords  \\\n",
       "0  [cultureclash, future, spacewar, spacecolony, ...   \n",
       "\n",
       "                                            overview  \\\n",
       "0  [In, the, 22nd, century,, a, paraplegic, Marin...   \n",
       "\n",
       "                                            cast            crew  \\\n",
       "0  [SamWorthington, ZoeSaldana, SigourneyWeaver]  [JamesCameron]   \n",
       "\n",
       "                                              tokens  \n",
       "0  [SamWorthington, ZoeSaldana, SigourneyWeaver, ...  "
      ]
     },
     "execution_count": 42,
     "metadata": {},
     "output_type": "execute_result"
    }
   ],
   "source": [
    "data.head(1)"
   ]
  },
  {
   "cell_type": "markdown",
   "id": "8781e988",
   "metadata": {},
   "source": [
    "#### Making new Data-Frame"
   ]
  },
  {
   "cell_type": "code",
   "execution_count": 43,
   "id": "7879653a",
   "metadata": {},
   "outputs": [],
   "source": [
    "new_data = data[['id' , 'title' , 'tokens']]"
   ]
  },
  {
   "cell_type": "code",
   "execution_count": 44,
   "id": "daa8cd8f",
   "metadata": {},
   "outputs": [
    {
     "data": {
      "text/html": [
       "<div>\n",
       "<style scoped>\n",
       "    .dataframe tbody tr th:only-of-type {\n",
       "        vertical-align: middle;\n",
       "    }\n",
       "\n",
       "    .dataframe tbody tr th {\n",
       "        vertical-align: top;\n",
       "    }\n",
       "\n",
       "    .dataframe thead th {\n",
       "        text-align: right;\n",
       "    }\n",
       "</style>\n",
       "<table border=\"1\" class=\"dataframe\">\n",
       "  <thead>\n",
       "    <tr style=\"text-align: right;\">\n",
       "      <th></th>\n",
       "      <th>id</th>\n",
       "      <th>title</th>\n",
       "      <th>tokens</th>\n",
       "    </tr>\n",
       "  </thead>\n",
       "  <tbody>\n",
       "    <tr>\n",
       "      <th>0</th>\n",
       "      <td>19995</td>\n",
       "      <td>Avatar</td>\n",
       "      <td>[SamWorthington, ZoeSaldana, SigourneyWeaver, ...</td>\n",
       "    </tr>\n",
       "    <tr>\n",
       "      <th>1</th>\n",
       "      <td>285</td>\n",
       "      <td>Pirates of the Caribbean: At World's End</td>\n",
       "      <td>[JohnnyDepp, OrlandoBloom, KeiraKnightley, Gor...</td>\n",
       "    </tr>\n",
       "    <tr>\n",
       "      <th>2</th>\n",
       "      <td>206647</td>\n",
       "      <td>Spectre</td>\n",
       "      <td>[DanielCraig, ChristophWaltz, LéaSeydoux, SamM...</td>\n",
       "    </tr>\n",
       "    <tr>\n",
       "      <th>3</th>\n",
       "      <td>49026</td>\n",
       "      <td>The Dark Knight Rises</td>\n",
       "      <td>[ChristianBale, MichaelCaine, GaryOldman, Chri...</td>\n",
       "    </tr>\n",
       "    <tr>\n",
       "      <th>4</th>\n",
       "      <td>49529</td>\n",
       "      <td>John Carter</td>\n",
       "      <td>[TaylorKitsch, LynnCollins, SamanthaMorton, An...</td>\n",
       "    </tr>\n",
       "  </tbody>\n",
       "</table>\n",
       "</div>"
      ],
      "text/plain": [
       "       id                                     title  \\\n",
       "0   19995                                    Avatar   \n",
       "1     285  Pirates of the Caribbean: At World's End   \n",
       "2  206647                                   Spectre   \n",
       "3   49026                     The Dark Knight Rises   \n",
       "4   49529                               John Carter   \n",
       "\n",
       "                                              tokens  \n",
       "0  [SamWorthington, ZoeSaldana, SigourneyWeaver, ...  \n",
       "1  [JohnnyDepp, OrlandoBloom, KeiraKnightley, Gor...  \n",
       "2  [DanielCraig, ChristophWaltz, LéaSeydoux, SamM...  \n",
       "3  [ChristianBale, MichaelCaine, GaryOldman, Chri...  \n",
       "4  [TaylorKitsch, LynnCollins, SamanthaMorton, An...  "
      ]
     },
     "execution_count": 44,
     "metadata": {},
     "output_type": "execute_result"
    }
   ],
   "source": [
    "new_data.head()"
   ]
  },
  {
   "cell_type": "code",
   "execution_count": 45,
   "id": "61bf8551",
   "metadata": {},
   "outputs": [],
   "source": [
    "# new_data['tokens'][0]"
   ]
  },
  {
   "cell_type": "code",
   "execution_count": 46,
   "id": "426d1c42",
   "metadata": {},
   "outputs": [],
   "source": [
    "new_data['tokens'] = new_data['tokens'].apply(lambda i : ' '.join(i))"
   ]
  },
  {
   "cell_type": "code",
   "execution_count": 47,
   "id": "dcdd7eda",
   "metadata": {},
   "outputs": [],
   "source": [
    "new_data['tokens'] = new_data['tokens'].apply(lambda i : i.lower())"
   ]
  },
  {
   "cell_type": "code",
   "execution_count": 48,
   "id": "fe718e48",
   "metadata": {},
   "outputs": [
    {
     "data": {
      "text/html": [
       "<div>\n",
       "<style scoped>\n",
       "    .dataframe tbody tr th:only-of-type {\n",
       "        vertical-align: middle;\n",
       "    }\n",
       "\n",
       "    .dataframe tbody tr th {\n",
       "        vertical-align: top;\n",
       "    }\n",
       "\n",
       "    .dataframe thead th {\n",
       "        text-align: right;\n",
       "    }\n",
       "</style>\n",
       "<table border=\"1\" class=\"dataframe\">\n",
       "  <thead>\n",
       "    <tr style=\"text-align: right;\">\n",
       "      <th></th>\n",
       "      <th>id</th>\n",
       "      <th>title</th>\n",
       "      <th>tokens</th>\n",
       "    </tr>\n",
       "  </thead>\n",
       "  <tbody>\n",
       "    <tr>\n",
       "      <th>0</th>\n",
       "      <td>19995</td>\n",
       "      <td>Avatar</td>\n",
       "      <td>samworthington zoesaldana sigourneyweaver jame...</td>\n",
       "    </tr>\n",
       "    <tr>\n",
       "      <th>1</th>\n",
       "      <td>285</td>\n",
       "      <td>Pirates of the Caribbean: At World's End</td>\n",
       "      <td>johnnydepp orlandobloom keiraknightley gorever...</td>\n",
       "    </tr>\n",
       "    <tr>\n",
       "      <th>2</th>\n",
       "      <td>206647</td>\n",
       "      <td>Spectre</td>\n",
       "      <td>danielcraig christophwaltz léaseydoux sammende...</td>\n",
       "    </tr>\n",
       "    <tr>\n",
       "      <th>3</th>\n",
       "      <td>49026</td>\n",
       "      <td>The Dark Knight Rises</td>\n",
       "      <td>christianbale michaelcaine garyoldman christop...</td>\n",
       "    </tr>\n",
       "    <tr>\n",
       "      <th>4</th>\n",
       "      <td>49529</td>\n",
       "      <td>John Carter</td>\n",
       "      <td>taylorkitsch lynncollins samanthamorton andrew...</td>\n",
       "    </tr>\n",
       "  </tbody>\n",
       "</table>\n",
       "</div>"
      ],
      "text/plain": [
       "       id                                     title  \\\n",
       "0   19995                                    Avatar   \n",
       "1     285  Pirates of the Caribbean: At World's End   \n",
       "2  206647                                   Spectre   \n",
       "3   49026                     The Dark Knight Rises   \n",
       "4   49529                               John Carter   \n",
       "\n",
       "                                              tokens  \n",
       "0  samworthington zoesaldana sigourneyweaver jame...  \n",
       "1  johnnydepp orlandobloom keiraknightley gorever...  \n",
       "2  danielcraig christophwaltz léaseydoux sammende...  \n",
       "3  christianbale michaelcaine garyoldman christop...  \n",
       "4  taylorkitsch lynncollins samanthamorton andrew...  "
      ]
     },
     "execution_count": 48,
     "metadata": {},
     "output_type": "execute_result"
    }
   ],
   "source": [
    "new_data.head()"
   ]
  },
  {
   "cell_type": "markdown",
   "id": "ba6a959e",
   "metadata": {},
   "source": [
    "#### Cleansing"
   ]
  },
  {
   "cell_type": "code",
   "execution_count": 49,
   "id": "e246b986",
   "metadata": {},
   "outputs": [],
   "source": [
    "def clean_text(token):\n",
    "    \n",
    "    token = re.sub(r'\\[[0-9]*\\]', ' ',token)\n",
    "    token = re.sub(r'\\s+', ' ', token)\n",
    "    token = re.sub('[^a-zA-Z]', ' ', token )\n",
    "    token = re.sub(r'\\s+', ' ', token)\n",
    "    \n",
    "    return token"
   ]
  },
  {
   "cell_type": "code",
   "execution_count": 50,
   "id": "1a7b6b76",
   "metadata": {},
   "outputs": [],
   "source": [
    "new_data['tokens'] = new_data['tokens'].apply(clean_text)"
   ]
  },
  {
   "cell_type": "code",
   "execution_count": 51,
   "id": "5344cced",
   "metadata": {},
   "outputs": [],
   "source": [
    "word = word_tokenize\n",
    "stemmer = PorterStemmer()"
   ]
  },
  {
   "cell_type": "code",
   "execution_count": 52,
   "id": "209e019f",
   "metadata": {},
   "outputs": [],
   "source": [
    "def stem(token):\n",
    "    token = word(token)\n",
    "    token = [stemmer.stem(x) for x in token]\n",
    "    return ' '.join(token)"
   ]
  },
  {
   "cell_type": "code",
   "execution_count": 53,
   "id": "760f715e",
   "metadata": {},
   "outputs": [],
   "source": [
    "new_data['tokens'] = new_data['tokens'].apply(stem)"
   ]
  },
  {
   "cell_type": "markdown",
   "id": "4d2f43ab",
   "metadata": {},
   "source": [
    "#### Vectorization"
   ]
  },
  {
   "cell_type": "code",
   "execution_count": 54,
   "id": "3514689d",
   "metadata": {},
   "outputs": [
    {
     "data": {
      "text/plain": [
       "'samworthington zoesaldana sigourneyweav jamescameron action adventur fantasi sciencefict cultureclash futur spacewar spacecoloni societi spacetravel futurist romanc space alien tribe alienplanet cgi marin soldier battl loveaffair antiwar powerrel mindandsoul d in the nd centuri a parapleg marin is dispatch to the moon pandora on a uniqu mission but becom torn between follow order and protect an alien civil'"
      ]
     },
     "execution_count": 54,
     "metadata": {},
     "output_type": "execute_result"
    }
   ],
   "source": [
    "new_data['tokens'][0]"
   ]
  },
  {
   "cell_type": "code",
   "execution_count": 55,
   "id": "9b7d3daa",
   "metadata": {},
   "outputs": [],
   "source": [
    "tfidf = TfidfVectorizer(max_features=5000 , stop_words='english')"
   ]
  },
  {
   "cell_type": "code",
   "execution_count": 56,
   "id": "a2c810c8",
   "metadata": {},
   "outputs": [],
   "source": [
    "vectors = tfidf.fit_transform(new_data['tokens']).toarray()"
   ]
  },
  {
   "cell_type": "code",
   "execution_count": 57,
   "id": "27ecb97e",
   "metadata": {
    "scrolled": true
   },
   "outputs": [],
   "source": [
    "# list(tfidf.get_feature_names_out())"
   ]
  },
  {
   "cell_type": "code",
   "execution_count": 58,
   "id": "c5c9c61b",
   "metadata": {},
   "outputs": [
    {
     "data": {
      "text/plain": [
       "array([[0., 0., 0., ..., 0., 0., 0.],\n",
       "       [0., 0., 0., ..., 0., 0., 0.],\n",
       "       [0., 0., 0., ..., 0., 0., 0.],\n",
       "       ...,\n",
       "       [0., 0., 0., ..., 0., 0., 0.],\n",
       "       [0., 0., 0., ..., 0., 0., 0.],\n",
       "       [0., 0., 0., ..., 0., 0., 0.]])"
      ]
     },
     "execution_count": 58,
     "metadata": {},
     "output_type": "execute_result"
    }
   ],
   "source": [
    "vectors"
   ]
  },
  {
   "cell_type": "markdown",
   "id": "df963957",
   "metadata": {},
   "source": [
    "#### Finding Similarity"
   ]
  },
  {
   "cell_type": "markdown",
   "id": "0988f427",
   "metadata": {},
   "source": [
    "##### Here we are using Cosine Similarity instead of Euclidean Distance."
   ]
  },
  {
   "cell_type": "code",
   "execution_count": 59,
   "id": "b0a0e0e0",
   "metadata": {},
   "outputs": [],
   "source": [
    "similarity = cosine_similarity(vectors)"
   ]
  },
  {
   "cell_type": "code",
   "execution_count": 60,
   "id": "2392b18c",
   "metadata": {},
   "outputs": [
    {
     "data": {
      "text/plain": [
       "[(0, 1.0),\n",
       " (2409, 0.2686399725888631),\n",
       " (3730, 0.19979624522845663),\n",
       " (582, 0.17218768130870638),\n",
       " (3608, 0.1637100584828132),\n",
       " (778, 0.1554159824453532),\n",
       " (1204, 0.15086525561125635),\n",
       " (539, 0.14844079993530182),\n",
       " (260, 0.14640644875261327),\n",
       " (1920, 0.14490284985777993),\n",
       " (942, 0.14401855391898977),\n",
       " (47, 0.14245312410726896),\n",
       " (838, 0.1399002113891752),\n",
       " (1216, 0.13713505732354234),\n",
       " (557, 0.13354393470184212),\n",
       " (507, 0.1332505890480841),\n",
       " (438, 0.12789086681749368),\n",
       " (3538, 0.12782260654493238),\n",
       " (1344, 0.12631795778574917),\n",
       " (311, 0.12580870515614762),\n",
       " (1089, 0.12460471688064093),\n",
       " (2786, 0.12315445721735753),\n",
       " (2284, 0.12263670472167659),\n",
       " (83, 0.12245309541831703),\n",
       " (3736, 0.12132102089120288),\n",
       " (2938, 0.12118163885670877),\n",
       " (74, 0.12082630520404496),\n",
       " (3218, 0.12017131750225378),\n",
       " (4336, 0.11846740799483274),\n",
       " (2204, 0.11786261663703262),\n",
       " (1831, 0.11631748639199836),\n",
       " (1747, 0.11615675135299178),\n",
       " (4048, 0.1158769248587853),\n",
       " (300, 0.11402060150839799),\n",
       " (1348, 0.11336768775009914),\n",
       " (91, 0.11325529950255205),\n",
       " (322, 0.11278498225619744),\n",
       " (301, 0.1125142483571187),\n",
       " (513, 0.11230457121284766),\n",
       " (1201, 0.11140378019706007),\n",
       " (4192, 0.1111590437742596),\n",
       " (151, 0.11036021636735342),\n",
       " (3628, 0.110252721753553),\n",
       " (373, 0.110220423976254),\n",
       " (94, 0.10979889804070878),\n",
       " (3162, 0.10963341171722897),\n",
       " (1097, 0.10861277372896683),\n",
       " (595, 0.10851951873877631),\n",
       " (52, 0.10802326988294324),\n",
       " (184, 0.10728845815470528),\n",
       " (3675, 0.10638670963165686),\n",
       " (4230, 0.10629502666085812),\n",
       " (1329, 0.10336080373942358),\n",
       " (1071, 0.10318135819535246),\n",
       " (1056, 0.1031050575037519),\n",
       " (466, 0.10285925357318365),\n",
       " (1275, 0.10281261793768244),\n",
       " (305, 0.10254723407261945),\n",
       " (3443, 0.10207394857045021),\n",
       " (529, 0.1018297565761691),\n",
       " (2971, 0.10177748118890685),\n",
       " (2584, 0.10113489447981067),\n",
       " (2873, 0.10094537092210346),\n",
       " (1321, 0.10040637116709535),\n",
       " (3327, 0.10010147808752817),\n",
       " (2515, 0.1000918028316225),\n",
       " (3954, 0.09936032953853056),\n",
       " (4405, 0.0982115784942105),\n",
       " (220, 0.09810421481204455),\n",
       " (577, 0.09731905239578109),\n",
       " (149, 0.09721904043584265),\n",
       " (369, 0.09653343255189356),\n",
       " (1444, 0.0955486390215638),\n",
       " (236, 0.09486090654443309),\n",
       " (2731, 0.09398156821757618),\n",
       " (1479, 0.09368864141225527),\n",
       " (2970, 0.09326987534008882),\n",
       " (1194, 0.0932479252933694),\n",
       " (27, 0.09322728846874727),\n",
       " (1130, 0.09256669848287766),\n",
       " (972, 0.09238646968057317),\n",
       " (775, 0.09110111240028121),\n",
       " (476, 0.09110077476220198),\n",
       " (878, 0.09108459445168816),\n",
       " (3376, 0.09089939752651593),\n",
       " (2333, 0.0905475361447531),\n",
       " (740, 0.08952791444336808),\n",
       " (541, 0.08951398591609526),\n",
       " (754, 0.08913160258883962),\n",
       " (579, 0.08856205576551265),\n",
       " (661, 0.0883441104652006),\n",
       " (1355, 0.0883138866946534),\n",
       " (1982, 0.08803545418735728),\n",
       " (2701, 0.08718505108589247),\n",
       " (3982, 0.08585627987514828),\n",
       " (36, 0.08566054064582497),\n",
       " (1149, 0.085548756887218),\n",
       " (2551, 0.08540572722988374),\n",
       " (2999, 0.08522765907780835),\n",
       " (1537, 0.08505641537654227),\n",
       " (1715, 0.08467444676732626),\n",
       " (843, 0.08443110299947922),\n",
       " (150, 0.08433592261196877),\n",
       " (18, 0.08428592294119339),\n",
       " (168, 0.08374405140493647),\n",
       " (342, 0.0836122293870286),\n",
       " (95, 0.08335317093402576),\n",
       " (1015, 0.08307760727033633),\n",
       " (502, 0.08290673697629705),\n",
       " (4353, 0.08290488440815541),\n",
       " (41, 0.08237908382063328),\n",
       " (4, 0.08222971013841007),\n",
       " (973, 0.08194341624566263),\n",
       " (172, 0.0816653208496034),\n",
       " (3409, 0.08151451896063164),\n",
       " (3999, 0.08114329931297859),\n",
       " (1774, 0.08107552965833495),\n",
       " (1965, 0.08056582498584867),\n",
       " (2136, 0.08053302735953996),\n",
       " (3783, 0.0797640373069518),\n",
       " (278, 0.07875105874225585),\n",
       " (1322, 0.07859972352907325),\n",
       " (3716, 0.07858011925855454),\n",
       " (3976, 0.07837974005071072),\n",
       " (67, 0.07784711084115395),\n",
       " (279, 0.07757554417223564),\n",
       " (1031, 0.07715281853339369),\n",
       " (1560, 0.07623839798149612),\n",
       " (1383, 0.07560186658537589),\n",
       " (4640, 0.07550669614672248),\n",
       " (61, 0.07545991246408054),\n",
       " (1808, 0.07520893375560679),\n",
       " (3093, 0.07478738472984965),\n",
       " (43, 0.07450065444863649),\n",
       " (461, 0.07388247620997807),\n",
       " (1616, 0.07331150719533294),\n",
       " (3864, 0.07311770410708378),\n",
       " (1497, 0.07300316239639439),\n",
       " (1166, 0.07225883416498963),\n",
       " (2253, 0.07157794451005059),\n",
       " (931, 0.07148598008689402),\n",
       " (1178, 0.07139990942028644),\n",
       " (3195, 0.07138073254037024),\n",
       " (777, 0.07130670017193022),\n",
       " (3147, 0.07114634959942437),\n",
       " (1202, 0.07093736451075618),\n",
       " (294, 0.07073025398071267),\n",
       " (549, 0.07038628715334169),\n",
       " (1378, 0.07037946450473395),\n",
       " (2760, 0.07032061388087382),\n",
       " (495, 0.0700761010030586),\n",
       " (3309, 0.06987326654535284),\n",
       " (46, 0.0692018555968354),\n",
       " (3235, 0.06841545931026032),\n",
       " (1220, 0.06839464008048565),\n",
       " (108, 0.06836117429624947),\n",
       " (275, 0.06828319735093664),\n",
       " (2547, 0.0682517369918195),\n",
       " (634, 0.06751402123597097),\n",
       " (1512, 0.06737734218669417),\n",
       " (1301, 0.0673594142838285),\n",
       " (1488, 0.0670038836366254),\n",
       " (2634, 0.06680917105847602),\n",
       " (1455, 0.06660065576886794),\n",
       " (3781, 0.06631140092791554),\n",
       " (1357, 0.06619891351957355),\n",
       " (4538, 0.06608311293784126),\n",
       " (4079, 0.06603976135684016),\n",
       " (3301, 0.06602865801489963),\n",
       " (3622, 0.06574042587540627),\n",
       " (422, 0.06568883847267327),\n",
       " (1741, 0.06564998242144067),\n",
       " (2644, 0.06564345280376545),\n",
       " (2792, 0.06544295659753518),\n",
       " (1938, 0.06536115641321569),\n",
       " (1277, 0.06528962238431453),\n",
       " (2789, 0.06520083646215638),\n",
       " (2620, 0.06488671390921169),\n",
       " (1765, 0.06475610904228744),\n",
       " (456, 0.06466729147599676),\n",
       " (2250, 0.06464144973932492),\n",
       " (1846, 0.06462511850317364),\n",
       " (1929, 0.06457332458047636),\n",
       " (1273, 0.06399943353614876),\n",
       " (900, 0.0637440272044944),\n",
       " (3462, 0.06363098618065757),\n",
       " (158, 0.06348700930423753),\n",
       " (737, 0.0633594479246586),\n",
       " (454, 0.06316815377253386),\n",
       " (4042, 0.06293059547407875),\n",
       " (889, 0.06287943981600447),\n",
       " (855, 0.06280888883233647),\n",
       " (2674, 0.06257329533119939),\n",
       " (898, 0.06243840063125882),\n",
       " (2133, 0.062309892752047104),\n",
       " (111, 0.06213026933694869),\n",
       " (1745, 0.0620438189217167),\n",
       " (3083, 0.061958007391560294),\n",
       " (1002, 0.061831747722919786),\n",
       " (568, 0.061793864230346635),\n",
       " (432, 0.06126425455212149),\n",
       " (1574, 0.06121546302524058),\n",
       " (4018, 0.060846691631368785),\n",
       " (312, 0.06067059907622417),\n",
       " (635, 0.06052134084073493),\n",
       " (1926, 0.06041226151486745),\n",
       " (4568, 0.060268568514849456),\n",
       " (483, 0.06009033726420414),\n",
       " (239, 0.060086242987560684),\n",
       " (692, 0.05997200628953295),\n",
       " (3102, 0.059880142529602304),\n",
       " (3109, 0.05955133052636079),\n",
       " (847, 0.059394828510997845),\n",
       " (2556, 0.059346653491804006),\n",
       " (3206, 0.05921333120976938),\n",
       " (332, 0.059061744731919455),\n",
       " (7, 0.05900698898988408),\n",
       " (2652, 0.05896932178470203),\n",
       " (1639, 0.05866493052104011),\n",
       " (2496, 0.058620460422028786),\n",
       " (4468, 0.05848060160765429),\n",
       " (2713, 0.05837123224574753),\n",
       " (127, 0.058324045330258326),\n",
       " (1945, 0.05812264470867391),\n",
       " (207, 0.0579550072594352),\n",
       " (1373, 0.05790807516942617),\n",
       " (3839, 0.057882994595376415),\n",
       " (643, 0.05787075950702647),\n",
       " (2109, 0.05763271318567095),\n",
       " (908, 0.057537021619599206),\n",
       " (2740, 0.05748385560926776),\n",
       " (2181, 0.057319671173369974),\n",
       " (647, 0.05718619944741045),\n",
       " (1473, 0.05705100136508738),\n",
       " (1297, 0.05688145361365457),\n",
       " (668, 0.056763798751521724),\n",
       " (4198, 0.05673428171934413),\n",
       " (2450, 0.056690333529934744),\n",
       " (2488, 0.05661351978815361),\n",
       " (1531, 0.05641655642546395),\n",
       " (4545, 0.05637243962286103),\n",
       " (581, 0.05604222989880002),\n",
       " (587, 0.055994869186268253),\n",
       " (1823, 0.055994560332742825),\n",
       " (1396, 0.055977191508719375),\n",
       " (56, 0.05596653997379277),\n",
       " (1082, 0.05588577266456436),\n",
       " (1418, 0.055812832200522765),\n",
       " (3116, 0.05573367672795473),\n",
       " (589, 0.05558840624987915),\n",
       " (1700, 0.055395647456655706),\n",
       " (249, 0.05533291979774152),\n",
       " (1156, 0.0551949393044392),\n",
       " (4587, 0.05511093606458796),\n",
       " (1274, 0.05500832576055245),\n",
       " (3663, 0.05499470860521771),\n",
       " (4259, 0.05495132541863343),\n",
       " (2112, 0.05489607580595281),\n",
       " (281, 0.054690322987953545),\n",
       " (2506, 0.05451058378534148),\n",
       " (206, 0.05441713623686199),\n",
       " (1019, 0.05416255734168473),\n",
       " (282, 0.05409612136795417),\n",
       " (1802, 0.05407021444585066),\n",
       " (1790, 0.053965097805370135),\n",
       " (2372, 0.05386861051266835),\n",
       " (1878, 0.05383552039379829),\n",
       " (31, 0.05382783941778111),\n",
       " (3091, 0.0535062784631572),\n",
       " (3008, 0.05340987390937828),\n",
       " (2840, 0.05337906880913696),\n",
       " (790, 0.053363374303038405),\n",
       " (4045, 0.053154555521288026),\n",
       " (134, 0.05309677019336785),\n",
       " (3720, 0.05308154927389438),\n",
       " (3874, 0.05307980636430394),\n",
       " (1145, 0.05302859744901874),\n",
       " (487, 0.05283762102881146),\n",
       " (2021, 0.05281338412374474),\n",
       " (1898, 0.05265857503151656),\n",
       " (68, 0.05255976719872246),\n",
       " (45, 0.05250050775238177),\n",
       " (4578, 0.05244908431842695),\n",
       " (1439, 0.052340500071091214),\n",
       " (1086, 0.05218201817864861),\n",
       " (449, 0.052072983078350066),\n",
       " (139, 0.05205469775213798),\n",
       " (1007, 0.052015706495666766),\n",
       " (646, 0.05192137634980818),\n",
       " (3117, 0.051831771539170624),\n",
       " (3464, 0.05177196617766105),\n",
       " (1446, 0.05172733940322152),\n",
       " (3441, 0.051654025383507295),\n",
       " (230, 0.0511896846113827),\n",
       " (166, 0.051187681059197646),\n",
       " (87, 0.05109749597348061),\n",
       " (4506, 0.050905268891301994),\n",
       " (2060, 0.0508881991742416),\n",
       " (297, 0.05084792685706499),\n",
       " (3553, 0.0508362351735209),\n",
       " (505, 0.050722291108533206),\n",
       " (564, 0.050640936283457796),\n",
       " (4000, 0.05049122175649441),\n",
       " (1278, 0.05044579929993035),\n",
       " (2159, 0.05037806009511227),\n",
       " (1617, 0.05027170365333637),\n",
       " (1996, 0.05018374806828563),\n",
       " (3448, 0.050135227840894685),\n",
       " (2169, 0.05008498666816793),\n",
       " (2787, 0.05005017245266877),\n",
       " (3478, 0.04993447760496486),\n",
       " (170, 0.04979992811304199),\n",
       " (2660, 0.0497208988742863),\n",
       " (3212, 0.04969191484238759),\n",
       " (4408, 0.0496704869680149),\n",
       " (4268, 0.04930597510129023),\n",
       " (859, 0.0492562004853878),\n",
       " (75, 0.04917113935436013),\n",
       " (4097, 0.04910392020475556),\n",
       " (2241, 0.049009151439000816),\n",
       " (3935, 0.04899852658357135),\n",
       " (48, 0.048827125436017665),\n",
       " (4793, 0.048752438228121156),\n",
       " (2718, 0.04857697745604457),\n",
       " (3630, 0.048543416968037864),\n",
       " (228, 0.048300715788822966),\n",
       " (1668, 0.04828333714861472),\n",
       " (2772, 0.048250724806452275),\n",
       " (17, 0.04819167856330264),\n",
       " (4412, 0.04817173997706091),\n",
       " (2247, 0.04799796336780225),\n",
       " (2331, 0.04773453727666091),\n",
       " (1667, 0.04772664938173449),\n",
       " (1045, 0.04763078163186454),\n",
       " (4181, 0.04758703622523853),\n",
       " (1304, 0.04754098996370629),\n",
       " (854, 0.047475346617521494),\n",
       " (939, 0.047409142753933396),\n",
       " (1405, 0.047221550186665816),\n",
       " (4718, 0.04716375722406381),\n",
       " (473, 0.04716294358853229),\n",
       " (2219, 0.04714063135528454),\n",
       " (1454, 0.04711898756916472),\n",
       " (535, 0.0471121546462653),\n",
       " (3486, 0.047078969667900816),\n",
       " (808, 0.04665319899347143),\n",
       " (174, 0.04658712654563535),\n",
       " (4325, 0.046573078277918484),\n",
       " (2648, 0.04653562120832514),\n",
       " (4305, 0.0465113365899843),\n",
       " (1248, 0.046494294697762256),\n",
       " (4216, 0.04643824118021415),\n",
       " (3228, 0.04609190561577253),\n",
       " (3431, 0.046088507582649804),\n",
       " (570, 0.04597350564937856),\n",
       " (1016, 0.04586052718783939),\n",
       " (307, 0.045795432144568576),\n",
       " (812, 0.04564108866221638),\n",
       " (26, 0.04562761376727381),\n",
       " (3449, 0.045487292413956056),\n",
       " (510, 0.045411896133875106),\n",
       " (1109, 0.04537953783236137),\n",
       " (404, 0.04528382343222178),\n",
       " (807, 0.04527518321934382),\n",
       " (752, 0.04511463072175978),\n",
       " (2783, 0.04509023627452462),\n",
       " (626, 0.045043654034038504),\n",
       " (256, 0.04493725301301905),\n",
       " (3701, 0.04492293256628642),\n",
       " (2529, 0.04489259678235398),\n",
       " (223, 0.04485571635544993),\n",
       " (2378, 0.044807803572212326),\n",
       " (4559, 0.04473750953714088),\n",
       " (3354, 0.04464008895287131),\n",
       " (2538, 0.04455272260905641),\n",
       " (480, 0.044505741763857104),\n",
       " (2575, 0.04441682913642183),\n",
       " (286, 0.044238169387284684),\n",
       " (270, 0.04414594097425563),\n",
       " (3755, 0.04402659409109042),\n",
       " (1158, 0.04393793375864),\n",
       " (486, 0.04391372328230023),\n",
       " (2243, 0.04388739797417623),\n",
       " (283, 0.04369152681223407),\n",
       " (3028, 0.04354889431254519),\n",
       " (2794, 0.043480768689323636),\n",
       " (4010, 0.04344627865956587),\n",
       " (3340, 0.043435256936774136),\n",
       " (72, 0.04339401319962725),\n",
       " (4654, 0.04329545946845991),\n",
       " (4624, 0.043287022541568784),\n",
       " (2439, 0.04327712846529764),\n",
       " (3881, 0.043199765651017824),\n",
       " (4626, 0.04315668831357758),\n",
       " (2642, 0.043147350808331826),\n",
       " (5, 0.04313780591604264),\n",
       " (123, 0.042885920628250286),\n",
       " (1614, 0.04276845118267669),\n",
       " (632, 0.042720641335972705),\n",
       " (2144, 0.04271326115734992),\n",
       " (141, 0.04265140150772058),\n",
       " (246, 0.04262958294705667),\n",
       " (3930, 0.04261428003765991),\n",
       " (4120, 0.042543632964546385),\n",
       " (262, 0.04252797555027774),\n",
       " (2093, 0.04250750180138788),\n",
       " (3390, 0.04248561063281468),\n",
       " (2994, 0.042397552248851875),\n",
       " (2763, 0.04233466907097322),\n",
       " (222, 0.04231961539697579),\n",
       " (4451, 0.042182513823226464),\n",
       " (2075, 0.042118983575015104),\n",
       " (3060, 0.042081044222572805),\n",
       " (1832, 0.042064361635358004),\n",
       " (363, 0.04201255843042058),\n",
       " (1294, 0.04198292080008578),\n",
       " (870, 0.04192924719165029),\n",
       " (1467, 0.04188907115744117),\n",
       " (2148, 0.04175038959918553),\n",
       " (2389, 0.04172451744292765),\n",
       " (2018, 0.04170527071779172),\n",
       " (4652, 0.041693880497817346),\n",
       " (787, 0.04163755102604286),\n",
       " (2868, 0.04163105606605347),\n",
       " (85, 0.041629600362856026),\n",
       " (1556, 0.04160817125854674),\n",
       " (1686, 0.04160605372721142),\n",
       " (1650, 0.041538345569480634),\n",
       " (4803, 0.04140066605934652),\n",
       " (3542, 0.04138782578435669),\n",
       " (1884, 0.04134600395284693),\n",
       " (3182, 0.04130981209536115),\n",
       " (1860, 0.04124896491648082),\n",
       " (4798, 0.04112043599837681),\n",
       " (2066, 0.04111036550283235),\n",
       " (2813, 0.04102472931913052),\n",
       " (785, 0.040997045620463496),\n",
       " (420, 0.04097535486570911),\n",
       " (2968, 0.04094255772733643),\n",
       " (70, 0.04083402416114309),\n",
       " (678, 0.040824594846732856),\n",
       " (375, 0.0407445472479065),\n",
       " (187, 0.04070195289859327),\n",
       " (2388, 0.04067111385299194),\n",
       " (3423, 0.040624733279079416),\n",
       " (2367, 0.04062091512957639),\n",
       " (1771, 0.04061014728690368),\n",
       " (1534, 0.04056755392040158),\n",
       " (4673, 0.04051406463994583),\n",
       " (448, 0.04051090237739491),\n",
       " (199, 0.04035688111109521),\n",
       " (4532, 0.040341857358247066),\n",
       " (1161, 0.040327446298196984),\n",
       " (1486, 0.040129702269211545),\n",
       " (2892, 0.0400952955704403),\n",
       " (1849, 0.0400336178844822),\n",
       " (674, 0.04002216668538271),\n",
       " (3306, 0.04001568758020235),\n",
       " (21, 0.03996536025137544),\n",
       " (1037, 0.039945116344731094),\n",
       " (331, 0.039935337674550805),\n",
       " (2622, 0.03992274793166962),\n",
       " (1553, 0.039893906332799295),\n",
       " (14, 0.03983562979390806),\n",
       " (2689, 0.039768624192157015),\n",
       " (138, 0.039732563050527525),\n",
       " (1769, 0.03973160888834581),\n",
       " (365, 0.039695459335575396),\n",
       " (2456, 0.039652948458968745),\n",
       " (4343, 0.03963328297223834),\n",
       " (3344, 0.03958394041334807),\n",
       " (131, 0.03956083228748399),\n",
       " (306, 0.03944613000196279),\n",
       " (4341, 0.039379062101928555),\n",
       " (1121, 0.039354921754120434),\n",
       " (704, 0.039293185990340936),\n",
       " (1957, 0.03924403460770336),\n",
       " (1312, 0.0392191689061892),\n",
       " (2663, 0.03921690316312642),\n",
       " (368, 0.03912462101859256),\n",
       " (2199, 0.03912431981799893),\n",
       " (988, 0.03904109700244798),\n",
       " (997, 0.03902009888211581),\n",
       " (1096, 0.0390120734227403),\n",
       " (126, 0.03898143949546465),\n",
       " (2430, 0.03897920877935178),\n",
       " (3074, 0.0389077603639408),\n",
       " (193, 0.038854818801433155),\n",
       " (3634, 0.038823180139852434),\n",
       " (1036, 0.0387246973410954),\n",
       " (160, 0.03856647088662443),\n",
       " (1440, 0.03853894717442318),\n",
       " (1655, 0.03840982678990698),\n",
       " (4492, 0.038342570154306116),\n",
       " (4006, 0.03833053154523074),\n",
       " (3819, 0.03829847178562472),\n",
       " (786, 0.03821394691055103),\n",
       " (2817, 0.03811605495740359),\n",
       " (2022, 0.038104401253609574),\n",
       " (1018, 0.03808129916281683),\n",
       " (1944, 0.03807815982097559),\n",
       " (1408, 0.038012388677136924),\n",
       " (935, 0.0379894975625593),\n",
       " (304, 0.03791057394480084),\n",
       " (687, 0.03789491370047506),\n",
       " (1327, 0.03788042756527406),\n",
       " (2955, 0.03787189836227476),\n",
       " (413, 0.03785992807009515),\n",
       " (781, 0.03785949147846775),\n",
       " (3310, 0.03779504968541342),\n",
       " (2232, 0.0377883226889348),\n",
       " (4243, 0.03767251228279876),\n",
       " (254, 0.03761751808373984),\n",
       " (1288, 0.03759076032814844),\n",
       " (472, 0.037407830392937394),\n",
       " (1600, 0.03738386784205036),\n",
       " (274, 0.03737135311145071),\n",
       " (3430, 0.03736893999107601),\n",
       " (2552, 0.0373640489357239),\n",
       " (653, 0.03729674800059228),\n",
       " (142, 0.03726682802505868),\n",
       " (600, 0.037233585393094085),\n",
       " (536, 0.03721115798578312),\n",
       " (2650, 0.03718504741862794),\n",
       " (1963, 0.03717222101597996),\n",
       " (1023, 0.03706979940265906),\n",
       " (1810, 0.0370670036807325),\n",
       " (770, 0.037007203843129825),\n",
       " (1658, 0.03698432799551131),\n",
       " (1523, 0.03695873488423946),\n",
       " (189, 0.03692416081002065),\n",
       " (901, 0.036898299261900795),\n",
       " (156, 0.03689491967149015),\n",
       " (132, 0.036892041392996275),\n",
       " (2259, 0.03680505834432805),\n",
       " (4207, 0.03659748468285275),\n",
       " (4358, 0.03659622858482477),\n",
       " (4128, 0.036590611391157934),\n",
       " (1906, 0.03658385187207155),\n",
       " (2632, 0.03654874290498485),\n",
       " (3022, 0.03646465983541915),\n",
       " (467, 0.03643536889197326),\n",
       " (2397, 0.03642322644858066),\n",
       " (4558, 0.036398815494382265),\n",
       " (2035, 0.036396377005397954),\n",
       " (2645, 0.036394731285917636),\n",
       " (1538, 0.036374347696558076),\n",
       " (2592, 0.036305729258605327),\n",
       " (208, 0.0362895472861583),\n",
       " (4799, 0.03626718626051448),\n",
       " (2639, 0.03626232911987998),\n",
       " (897, 0.03612644404135599),\n",
       " (3392, 0.03609373131174474),\n",
       " (3, 0.03607901947827776),\n",
       " (1612, 0.036016810346737246),\n",
       " (2356, 0.03600836202290186),\n",
       " (602, 0.036003309056048205),\n",
       " (1477, 0.03596073664626649),\n",
       " (2448, 0.03595165773737759),\n",
       " (3440, 0.03590940409538703),\n",
       " (4490, 0.03589981887839016),\n",
       " (3560, 0.035845126791364784),\n",
       " (415, 0.03573289664569812),\n",
       " (4623, 0.035724957046312567),\n",
       " (3744, 0.0357155626454798),\n",
       " (2200, 0.0356870707086498),\n",
       " (3297, 0.0356388414359677),\n",
       " (951, 0.035621973482734604),\n",
       " (2762, 0.03560841035908505),\n",
       " (4781, 0.03559221534831417),\n",
       " (410, 0.035572309695313824),\n",
       " (1361, 0.03542401974232927),\n",
       " (182, 0.0354160880736007),\n",
       " (4348, 0.03541096490013018),\n",
       " (2880, 0.03540396950017304),\n",
       " (3322, 0.035388107363259064),\n",
       " (3389, 0.03527165739901682),\n",
       " (2904, 0.0352135927340222),\n",
       " (59, 0.035171328419616094),\n",
       " (3164, 0.03511370970911791),\n",
       " (1575, 0.03508336581834355),\n",
       " (2856, 0.0350183589626132),\n",
       " (2686, 0.034993080585438895),\n",
       " (617, 0.03499071718532361),\n",
       " (1401, 0.03498580928271433),\n",
       " (4675, 0.034965846584215476),\n",
       " (2376, 0.03486365364581892),\n",
       " (963, 0.03479171103711501),\n",
       " (107, 0.03477044339667295),\n",
       " (423, 0.03474799433932077),\n",
       " (2593, 0.03470643507803077),\n",
       " (490, 0.034696052167297105),\n",
       " (1282, 0.03466416479728823),\n",
       " (1120, 0.03463145428374884),\n",
       " (1775, 0.03462118999692053),\n",
       " (302, 0.03459034411128878),\n",
       " (866, 0.034534248381348984),\n",
       " (1004, 0.03452180401574936),\n",
       " (430, 0.03449489794797544),\n",
       " (3739, 0.03447644205231423),\n",
       " (325, 0.03445263997147344),\n",
       " (4403, 0.034428434496755415),\n",
       " (3069, 0.03439025650453496),\n",
       " (3910, 0.03438004705153786),\n",
       " (4510, 0.0343367960407969),\n",
       " (1324, 0.034250739998670336),\n",
       " (2498, 0.03424792986852705),\n",
       " (2712, 0.03415636486103319),\n",
       " (572, 0.034155036817620256),\n",
       " (746, 0.03409192015646663),\n",
       " (2852, 0.034055764709355375),\n",
       " (2478, 0.03402612271513818),\n",
       " (445, 0.03397696036272104),\n",
       " (571, 0.03392455194823418),\n",
       " (2203, 0.03386051401567908),\n",
       " (2138, 0.03383523237787403),\n",
       " (169, 0.033793659099069014),\n",
       " (3740, 0.03376672033541824),\n",
       " (341, 0.03375555953159304),\n",
       " (3901, 0.03368529143833374),\n",
       " (680, 0.03352963817820849),\n",
       " (2295, 0.03350828018646297),\n",
       " (153, 0.03346923348969032),\n",
       " (1524, 0.03341355585571723),\n",
       " (4472, 0.03339420863308291),\n",
       " (2003, 0.03339387684148134),\n",
       " (219, 0.03335949542881211),\n",
       " (3507, 0.03335028574374194),\n",
       " (1171, 0.03334116238181961),\n",
       " (154, 0.0332860825262991),\n",
       " (488, 0.03324297471661715),\n",
       " (1249, 0.033241697269169465),\n",
       " (102, 0.033241181723851085),\n",
       " (3176, 0.033168783472831385),\n",
       " (2013, 0.03315729534349836),\n",
       " (4331, 0.03315251560130431),\n",
       " (122, 0.03312586563078895),\n",
       " (2741, 0.03309023193312884),\n",
       " (1231, 0.03307701739435383),\n",
       " (1496, 0.033030048216430526),\n",
       " (894, 0.032993065534728125),\n",
       " (235, 0.03292370849404287),\n",
       " (672, 0.03292107295729177),\n",
       " (3072, 0.0329064521502227),\n",
       " (3152, 0.03285632537533141),\n",
       " (1427, 0.03284406871760963),\n",
       " (234, 0.032758273554532535),\n",
       " (814, 0.03272874162259888),\n",
       " (4594, 0.032653998900925005),\n",
       " (3678, 0.03264454160811882),\n",
       " (1970, 0.0326036389277449),\n",
       " (2127, 0.03260249828260586),\n",
       " (2386, 0.03253325523836163),\n",
       " (4180, 0.032530019510233855),\n",
       " (4657, 0.03250639905326926),\n",
       " (3737, 0.032464481361592586),\n",
       " (3597, 0.03246014099183688),\n",
       " (2017, 0.03244071944711206),\n",
       " (2802, 0.03243265970360602),\n",
       " (1833, 0.03238584695848014),\n",
       " (3451, 0.032358579955390404),\n",
       " (2115, 0.03231669508314726),\n",
       " (2832, 0.032306991596969745),\n",
       " (63, 0.032219762282488386),\n",
       " (1070, 0.03217967092934116),\n",
       " (1191, 0.03214096403679394),\n",
       " (1519, 0.03212255788694553),\n",
       " (3834, 0.03209979035611005),\n",
       " (1280, 0.03207912382042533),\n",
       " (4483, 0.03205687413693294),\n",
       " (4112, 0.0319271047471779),\n",
       " (2902, 0.03190743275321451),\n",
       " (1207, 0.03190723231911771),\n",
       " (1681, 0.0318648855944858),\n",
       " (1175, 0.03186328245529234),\n",
       " (4256, 0.03184157813660579),\n",
       " (773, 0.03183071352617321),\n",
       " (334, 0.03175117810321802),\n",
       " (614, 0.03174167442389305),\n",
       " (4205, 0.031674769882818546),\n",
       " (4591, 0.03163224234509548),\n",
       " (200, 0.031584525027391064),\n",
       " (2410, 0.03149394317579941),\n",
       " (25, 0.03135021273475664),\n",
       " (654, 0.03130454286678323),\n",
       " (11, 0.031285469458919885),\n",
       " (1237, 0.031266785957306205),\n",
       " (330, 0.031228014447893727),\n",
       " (4203, 0.031218624619030362),\n",
       " (3524, 0.031086180814415255),\n",
       " (2570, 0.03108609738564525),\n",
       " (2504, 0.03105872339855839),\n",
       " (3498, 0.031049399056130765),\n",
       " (3400, 0.03101212508322342),\n",
       " (2106, 0.031011924313671207),\n",
       " (148, 0.030855857657138164),\n",
       " (361, 0.03082637166723072),\n",
       " (2583, 0.030821326321649318),\n",
       " (3795, 0.030782652801380216),\n",
       " (3285, 0.030727974996340363),\n",
       " (1659, 0.030690191556667013),\n",
       " (1438, 0.030689568991309868),\n",
       " (4744, 0.030661088064003313),\n",
       " (3537, 0.03064490034569899),\n",
       " (2005, 0.030638695410969613),\n",
       " (3368, 0.03060776651059543),\n",
       " (38, 0.030596146613645687),\n",
       " (1721, 0.030582315548297084),\n",
       " (4757, 0.030574596713706628),\n",
       " (1883, 0.03049877573032312),\n",
       " (576, 0.03043966857034954),\n",
       " (4038, 0.03039997964075158),\n",
       " (4443, 0.030385003477157956),\n",
       " (4448, 0.03030634668161706),\n",
       " (1195, 0.030303884307769438),\n",
       " (1701, 0.030189459984628467),\n",
       " (4316, 0.030157118430836596),\n",
       " (4046, 0.0301565391338071),\n",
       " (4160, 0.030145048626592015),\n",
       " (428, 0.030138104072000012),\n",
       " (533, 0.030134205787977566),\n",
       " (2121, 0.03011440661525132),\n",
       " (2053, 0.030098989943255314),\n",
       " (229, 0.030035117187067494),\n",
       " (3300, 0.030012846091930445),\n",
       " (50, 0.029994456562176808),\n",
       " (768, 0.029969649807880572),\n",
       " (2057, 0.029904738823223427),\n",
       " (3225, 0.029899162877705054),\n",
       " (232, 0.029868873527775272),\n",
       " (1240, 0.02983705272628151),\n",
       " (412, 0.029830476726538102),\n",
       " (257, 0.029726638341327452),\n",
       " (4618, 0.0296935589360601),\n",
       " (10, 0.029688359242159984),\n",
       " (2864, 0.02958342765427296),\n",
       " (4037, 0.029572542502408514),\n",
       " (2449, 0.029569790846128992),\n",
       " (1946, 0.029565821139002097),\n",
       " (3673, 0.029561207607436163),\n",
       " (1027, 0.02950467402478816),\n",
       " (3556, 0.029493627546812184),\n",
       " (190, 0.029484603773272264),\n",
       " (3165, 0.0294715026788007),\n",
       " (3154, 0.029422624818267643),\n",
       " (238, 0.029401131860123934),\n",
       " (956, 0.02939506328607676),\n",
       " (4125, 0.02939485725887505),\n",
       " (1254, 0.02928424542445118),\n",
       " (3475, 0.029249083628759717),\n",
       " (3851, 0.029241604596186993),\n",
       " (89, 0.029241317695512085),\n",
       " (2161, 0.029227686139673748),\n",
       " (1077, 0.029225385215677913),\n",
       " (1782, 0.029209002424860547),\n",
       " (835, 0.029204407292877557),\n",
       " (192, 0.029182012159305333),\n",
       " (81, 0.02917241420184188),\n",
       " (2264, 0.029142262133334377),\n",
       " (217, 0.029113591453313263),\n",
       " (125, 0.029046379950635585),\n",
       " (4782, 0.02902432708056648),\n",
       " (1692, 0.029014300024242472),\n",
       " (1305, 0.029000267011383654),\n",
       " (1381, 0.02897363568614137),\n",
       " (3879, 0.02897204613645674),\n",
       " (2910, 0.02890897779978427),\n",
       " (2015, 0.02889939523826038),\n",
       " (4789, 0.028897096472455152),\n",
       " (4351, 0.028880042322110066),\n",
       " (2216, 0.028877939520333504),\n",
       " (3298, 0.028873990008321783),\n",
       " (475, 0.028809852580329504),\n",
       " (4306, 0.02879969430350998),\n",
       " (4080, 0.028792398893182004),\n",
       " (980, 0.02878539474722776),\n",
       " (1428, 0.02869494339835178),\n",
       " (4324, 0.028688876653069136),\n",
       " (4777, 0.028656518959770238),\n",
       " (4374, 0.028605979965011824),\n",
       " (1299, 0.028604841016253105),\n",
       " (512, 0.028545060187289608),\n",
       " (4055, 0.028542838856603754),\n",
       " (1743, 0.028529828593911698),\n",
       " (3611, 0.02851195857540199),\n",
       " (762, 0.02846062842342331),\n",
       " (356, 0.02845781460497409),\n",
       " (243, 0.02845336456002153),\n",
       " (3905, 0.02843232807662746),\n",
       " (871, 0.02842850694276388),\n",
       " (782, 0.028344402960191924),\n",
       " (794, 0.028285425298195093),\n",
       " (1457, 0.028278561050830427),\n",
       " (899, 0.028263521531148986),\n",
       " (3502, 0.02821914047899992),\n",
       " (3515, 0.028217285120528943),\n",
       " (2347, 0.02820383454241581),\n",
       " (2395, 0.028199019190946008),\n",
       " (2256, 0.02819161387087367),\n",
       " (3822, 0.028180906776147513),\n",
       " (1501, 0.028142149434751865),\n",
       " (3620, 0.02814212022877951),\n",
       " (2854, 0.02809143501205658),\n",
       " (2995, 0.028065433713289373),\n",
       " (4695, 0.028039101280739002),\n",
       " (4178, 0.028036770852420678),\n",
       " (989, 0.02799862222888802),\n",
       " (2651, 0.027956087570311823),\n",
       " (4135, 0.02794841362654604),\n",
       " (970, 0.02793881454060465),\n",
       " (3938, 0.027930502775117744),\n",
       " (2924, 0.027928719875493196),\n",
       " (1973, 0.027927782019929487),\n",
       " (2218, 0.027891684679802763),\n",
       " (3810, 0.02787991964395379),\n",
       " (2948, 0.02785958653567056),\n",
       " (103, 0.02785903910874927),\n",
       " (2072, 0.027841021624284805),\n",
       " (2, 0.02782692837142641),\n",
       " (3485, 0.02782273664780873),\n",
       " (4638, 0.02778110026191021),\n",
       " (1068, 0.027774418590617137),\n",
       " (1828, 0.027750114438438507),\n",
       " (3721, 0.027718259628458457),\n",
       " (4542, 0.027701116036053887),\n",
       " (3782, 0.027671815613741005),\n",
       " (1289, 0.027656769514435686),\n",
       " (596, 0.027647113394516525),\n",
       " (615, 0.027633540543579915),\n",
       " (3131, 0.027623454755903668),\n",
       " (266, 0.027561141258460507),\n",
       " (2049, 0.02752628102626615),\n",
       " (4087, 0.027501602181903277),\n",
       " (4485, 0.027465190259583),\n",
       " (319, 0.027402950104414646),\n",
       " (3407, 0.027358869723869875),\n",
       " (2190, 0.02734001591986185),\n",
       " (1573, 0.02732764932815964),\n",
       " (1768, 0.02731283912496572),\n",
       " (2320, 0.027305655947630764),\n",
       " (2920, 0.027265965218279453),\n",
       " (1673, 0.02725726298093431),\n",
       " (2957, 0.027247017447832547),\n",
       " (4380, 0.027240957771180112),\n",
       " (4754, 0.027229671490256527),\n",
       " (3996, 0.027215138345421754),\n",
       " (3233, 0.027202907308890585),\n",
       " (3078, 0.02720046969502662),\n",
       " (1080, 0.027117882479924048),\n",
       " (3635, 0.027065284911918057),\n",
       " (3497, 0.027061398602868516),\n",
       " (946, 0.02704895705449125),\n",
       " (1924, 0.02700101221182276),\n",
       " (1942, 0.02698857368950837),\n",
       " (2743, 0.02696096872483931),\n",
       " (3253, 0.02695452093975946),\n",
       " (945, 0.02693125074065821),\n",
       " (84, 0.026923059240232264),\n",
       " (3621, 0.02683909800324758),\n",
       " (3199, 0.026795448150888076),\n",
       " (4620, 0.026673717473394483),\n",
       " (2882, 0.02655002879498053),\n",
       " (797, 0.02652220136122461),\n",
       " (4555, 0.026470834346178026),\n",
       " (1168, 0.026470578637953573),\n",
       " (1749, 0.026467021184084324),\n",
       " (2480, 0.0264354022801801),\n",
       " (1352, 0.02642869397887647),\n",
       " (1480, 0.026395650599000307),\n",
       " (4044, 0.026326995527917504),\n",
       " (937, 0.026236903992554492),\n",
       " (4392, 0.02623032769994322),\n",
       " (861, 0.026200139437011688),\n",
       " (403, 0.026162817949485925),\n",
       " (4330, 0.026146324152987767),\n",
       " (1770, 0.02612951637682487),\n",
       " (1541, 0.026128331887050167),\n",
       " (4051, 0.026054518556191373),\n",
       " (3349, 0.026036117499872988),\n",
       " (2308, 0.025984274365959237),\n",
       " (3821, 0.02597875021012315),\n",
       " (245, 0.025964623238028697),\n",
       " (1886, 0.025960983096510182),\n",
       " (143, 0.02595970584747899),\n",
       " (2113, 0.025955448206850987),\n",
       " (3914, 0.025952358124114564),\n",
       " (1861, 0.025910151188972972),\n",
       " (1491, 0.0259097011333922),\n",
       " (1233, 0.025908888454648612),\n",
       " (1469, 0.025873783267861203),\n",
       " (3412, 0.025858665752416875),\n",
       " (1698, 0.025841599937254923),\n",
       " (1671, 0.02582684100452006),\n",
       " (627, 0.02578736789946398),\n",
       " (4011, 0.025765866096534886),\n",
       " (3140, 0.025688779059532846),\n",
       " (2877, 0.025653478653807203),\n",
       " (3188, 0.02565131991605632),\n",
       " (4655, 0.025641825280858045),\n",
       " (4790, 0.025626983669815872),\n",
       " (1688, 0.02562167207445295),\n",
       " (4737, 0.025606455493732947),\n",
       " (2339, 0.025592127559606395),\n",
       " (4292, 0.025588694660950574),\n",
       " (1487, 0.02556629024246138),\n",
       " (3398, 0.025545529722774917),\n",
       " (556, 0.025532793965018598),\n",
       " (2128, 0.025515580095221133),\n",
       " (875, 0.025513324380748797),\n",
       " (1535, 0.025507503512653455),\n",
       " (3331, 0.025497729310277942),\n",
       " (121, 0.02548930235455127),\n",
       " (1958, 0.025453867777355817),\n",
       " (2435, 0.025427587714786558),\n",
       " (4679, 0.025421975652429655),\n",
       " (2567, 0.025342065031675787),\n",
       " (2519, 0.02533752053683263),\n",
       " (1908, 0.025314356417402088),\n",
       " (4166, 0.025303064623026922),\n",
       " (3470, 0.02522962174790938),\n",
       " (1990, 0.02520627260845394),\n",
       " (2692, 0.02518222254280479),\n",
       " (4165, 0.025004526324137598),\n",
       " (3931, 0.02498656856237453),\n",
       " (381, 0.024958990461668704),\n",
       " (3180, 0.024889064547974717),\n",
       " (3978, 0.02484816355369454),\n",
       " (2445, 0.02484687270746048),\n",
       " (93, 0.024819437388192415),\n",
       " (584, 0.02480083682650188),\n",
       " (3926, 0.024762431434146328),\n",
       " (2059, 0.024755458694935343),\n",
       " (4484, 0.024739600756330554),\n",
       " (1783, 0.024713726729797145),\n",
       " (2796, 0.024696353830396423),\n",
       " (1047, 0.02463230133984854),\n",
       " (729, 0.024619666819207173),\n",
       " (2820, 0.02459472857889989),\n",
       " (4575, 0.024590938612169815),\n",
       " (710, 0.02456424140377063),\n",
       " (3118, 0.024491541471420703),\n",
       " (2323, 0.024485199605351525),\n",
       " (2988, 0.024479262771011763),\n",
       " (119, 0.024410511908851254),\n",
       " (227, 0.024407137340612353),\n",
       " (827, 0.024398926975135196),\n",
       " (547, 0.024364182372769067),\n",
       " (4459, 0.024356101315552586),\n",
       " (920, 0.02432335823472459),\n",
       " (2023, 0.02431078942443233),\n",
       " (2600, 0.024302538606324833),\n",
       " (210, 0.024300545591577308),\n",
       " (292, 0.024282001966627952),\n",
       " (3299, 0.024262442009730923),\n",
       " (3650, 0.024249627070117102),\n",
       " (58, 0.024226195730385803),\n",
       " (491, 0.02422171008881808),\n",
       " (3070, 0.0242185829835476),\n",
       " (400, 0.024189719017390764),\n",
       " (3860, 0.024182301939468482),\n",
       " (4063, 0.024159961670882246),\n",
       " (244, 0.024121214752260492),\n",
       " (295, 0.024067338865316316),\n",
       " (443, 0.024062815267566623),\n",
       " (2527, 0.024037644414427482),\n",
       " (776, 0.023978227103856546),\n",
       " (813, 0.02397817555600954),\n",
       " (2562, 0.023928475672551037),\n",
       " (2823, 0.02391802502036295),\n",
       " (3355, 0.023892119527810878),\n",
       " (2990, 0.023866355133352418),\n",
       " (4619, 0.023864444064616814),\n",
       " (730, 0.023852156586000213),\n",
       " (19, 0.02379814784726209),\n",
       " (2309, 0.023773577582757145),\n",
       " (637, 0.023773089115042008),\n",
       " (3505, 0.023735167602948047),\n",
       " (2729, 0.023734636555259626),\n",
       " (224, 0.023708626091339835),\n",
       " (3549, 0.023685240042489942),\n",
       " (287, 0.0236559214430757),\n",
       " (4556, 0.0236198109445041),\n",
       " (492, 0.023586200038480092),\n",
       " (183, 0.023556916734642473),\n",
       " (4560, 0.023552043165392344),\n",
       " (1445, 0.023538595327109193),\n",
       " (4651, 0.023537731443941196),\n",
       " (2440, 0.023460895501773906),\n",
       " (23, 0.023412166598255617),\n",
       " (984, 0.023391893653453413),\n",
       " (2363, 0.02339015308876332),\n",
       " (1262, 0.02338889951660523),\n",
       " (540, 0.023379006736638487),\n",
       " (3257, 0.023374977097306543),\n",
       " (1474, 0.023373231539114067),\n",
       " (618, 0.0233563238521216),\n",
       " (1530, 0.023316595100743402),\n",
       " (715, 0.023283402422251413),\n",
       " (4473, 0.02324820689010086),\n",
       " (1119, 0.023225362037920364),\n",
       " ...]"
      ]
     },
     "execution_count": 60,
     "metadata": {},
     "output_type": "execute_result"
    }
   ],
   "source": [
    "sorted(enumerate(similarity[0]) , reverse=True , key= lambda x : x[1])"
   ]
  },
  {
   "cell_type": "code",
   "execution_count": 61,
   "id": "09332fff",
   "metadata": {},
   "outputs": [
    {
     "data": {
      "text/plain": [
       "'Battle: Los Angeles'"
      ]
     },
     "execution_count": 61,
     "metadata": {},
     "output_type": "execute_result"
    }
   ],
   "source": [
    "new_data.iloc[582].title"
   ]
  },
  {
   "cell_type": "code",
   "execution_count": 62,
   "id": "14007951",
   "metadata": {},
   "outputs": [
    {
     "data": {
      "text/plain": [
       "582"
      ]
     },
     "execution_count": 62,
     "metadata": {},
     "output_type": "execute_result"
    }
   ],
   "source": [
    "new_data[new_data['title'] == 'Battle: Los Angeles'].index[0]"
   ]
  },
  {
   "cell_type": "markdown",
   "id": "ad9f0805",
   "metadata": {},
   "source": [
    "#### Recommendation System"
   ]
  },
  {
   "cell_type": "code",
   "execution_count": 63,
   "id": "23ee9d8c",
   "metadata": {},
   "outputs": [],
   "source": [
    "def recommender(name):\n",
    "\n",
    "    index = new_data[new_data['title'] == name].index[0]\n",
    "    top6 = sorted(enumerate(similarity[index]) , reverse=True , key= lambda x : x[1])[1:7]\n",
    "    \n",
    "    for i in top6:\n",
    "        movie = new_data.iloc[i[0]].title\n",
    "        print(movie)\n",
    "        "
   ]
  },
  {
   "cell_type": "code",
   "execution_count": 64,
   "id": "f9d7e4a2",
   "metadata": {},
   "outputs": [
    {
     "name": "stdout",
     "output_type": "stream",
     "text": [
      "Aliens\n",
      "Falcon Rising\n",
      "Battle: Los Angeles\n",
      "Apollo 18\n",
      "Meet Dave\n",
      "Predators\n"
     ]
    }
   ],
   "source": [
    "recommender('Avatar')"
   ]
  },
  {
   "cell_type": "code",
   "execution_count": 65,
   "id": "6f8bafe0",
   "metadata": {},
   "outputs": [
    {
     "name": "stdout",
     "output_type": "stream",
     "text": [
      "Sands of Iwo Jima\n",
      "Falcon Rising\n",
      "Avatar\n",
      "Skyline\n",
      "Force 10 from Navarone\n",
      "The Thin Red Line\n"
     ]
    }
   ],
   "source": [
    "recommender('Battle: Los Angeles')"
   ]
  },
  {
   "cell_type": "code",
   "execution_count": 66,
   "id": "7bd5f439",
   "metadata": {},
   "outputs": [],
   "source": [
    "def movie(name):\n",
    "    \n",
    "    name = name.lower()\n",
    "    new_title = [re.sub(r'[^\\w\\s]', '', title.lower()) for title in new_data['title']]\n",
    "\n",
    "    if name in new_title:\n",
    "        index = new_title.index(name)\n",
    "        recommender(new_data.iloc[index].title)\n",
    "    else:\n",
    "        print(f'No movie available for \"{name}\"')"
   ]
  },
  {
   "cell_type": "code",
   "execution_count": 67,
   "id": "c097bdff",
   "metadata": {},
   "outputs": [],
   "source": [
    "# name = input('Enter Movie Name : ')\n",
    "# movie(name)"
   ]
  },
  {
   "cell_type": "markdown",
   "id": "96173ea6",
   "metadata": {},
   "source": [
    "#### Generates Pickle files for app"
   ]
  },
  {
   "cell_type": "code",
   "execution_count": 68,
   "id": "d66dc0fc",
   "metadata": {},
   "outputs": [
    {
     "data": {
      "text/html": [
       "<div>\n",
       "<style scoped>\n",
       "    .dataframe tbody tr th:only-of-type {\n",
       "        vertical-align: middle;\n",
       "    }\n",
       "\n",
       "    .dataframe tbody tr th {\n",
       "        vertical-align: top;\n",
       "    }\n",
       "\n",
       "    .dataframe thead th {\n",
       "        text-align: right;\n",
       "    }\n",
       "</style>\n",
       "<table border=\"1\" class=\"dataframe\">\n",
       "  <thead>\n",
       "    <tr style=\"text-align: right;\">\n",
       "      <th></th>\n",
       "      <th>id</th>\n",
       "      <th>title</th>\n",
       "      <th>genres</th>\n",
       "      <th>overview</th>\n",
       "      <th>cast</th>\n",
       "      <th>crew</th>\n",
       "    </tr>\n",
       "  </thead>\n",
       "  <tbody>\n",
       "    <tr>\n",
       "      <th>0</th>\n",
       "      <td>19995</td>\n",
       "      <td>Avatar</td>\n",
       "      <td>[Action, Adventure, Fantasy, Science Fiction]</td>\n",
       "      <td>In the 22nd century, a paraplegic Marine is di...</td>\n",
       "      <td>[Sam Worthington, Zoe Saldana, Sigourney Weaver]</td>\n",
       "      <td>[James Cameron]</td>\n",
       "    </tr>\n",
       "  </tbody>\n",
       "</table>\n",
       "</div>"
      ],
      "text/plain": [
       "      id   title                                         genres  \\\n",
       "0  19995  Avatar  [Action, Adventure, Fantasy, Science Fiction]   \n",
       "\n",
       "                                            overview  \\\n",
       "0  In the 22nd century, a paraplegic Marine is di...   \n",
       "\n",
       "                                               cast             crew  \n",
       "0  [Sam Worthington, Zoe Saldana, Sigourney Weaver]  [James Cameron]  "
      ]
     },
     "execution_count": 68,
     "metadata": {},
     "output_type": "execute_result"
    }
   ],
   "source": [
    "data_app.head(1)"
   ]
  },
  {
   "cell_type": "code",
   "execution_count": 69,
   "id": "1e9f9a70",
   "metadata": {},
   "outputs": [],
   "source": [
    "data_dict = data_app.to_dict()"
   ]
  },
  {
   "cell_type": "code",
   "execution_count": 70,
   "id": "2cfaaa54",
   "metadata": {},
   "outputs": [],
   "source": [
    "pickle.dump(data_dict, open('deployment/movie_dict.pkl', 'wb'))"
   ]
  },
  {
   "cell_type": "code",
   "execution_count": 71,
   "id": "1d06e1f1",
   "metadata": {},
   "outputs": [],
   "source": [
    "pickle.dump(similarity, open('deployment/similarity.pkl', 'wb'))"
   ]
  }
 ],
 "metadata": {
  "kernelspec": {
   "display_name": "Python 3 (ipykernel)",
   "language": "python",
   "name": "python3"
  },
  "language_info": {
   "codemirror_mode": {
    "name": "ipython",
    "version": 3
   },
   "file_extension": ".py",
   "mimetype": "text/x-python",
   "name": "python",
   "nbconvert_exporter": "python",
   "pygments_lexer": "ipython3",
   "version": "3.10.12"
  }
 },
 "nbformat": 4,
 "nbformat_minor": 5
}
