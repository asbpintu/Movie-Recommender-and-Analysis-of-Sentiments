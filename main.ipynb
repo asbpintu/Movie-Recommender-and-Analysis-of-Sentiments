{
 "cells": [
  {
   "cell_type": "code",
   "execution_count": 60,
   "metadata": {},
   "outputs": [],
   "source": [
    "import os\n",
    "path = os.getcwd()\n",
    "\n"
   ]
  },
  {
   "cell_type": "code",
   "execution_count": 61,
   "metadata": {},
   "outputs": [],
   "source": [
    "import numpy as np\n",
    "import pandas as pd\n",
    "import ast\n",
    "import re\n",
    "import datetime\n",
    "\n",
    "from nltk import word_tokenize\n",
    "from nltk.stem import PorterStemmer\n",
    "\n",
    "from sklearn.feature_extraction.text import TfidfVectorizer\n",
    "from sklearn.metrics.pairwise import cosine_similarity\n",
    "import pickle"
   ]
  },
  {
   "cell_type": "code",
   "execution_count": 62,
   "metadata": {},
   "outputs": [],
   "source": [
    "import warnings\n",
    "warnings.filterwarnings('ignore')"
   ]
  },
  {
   "cell_type": "markdown",
   "metadata": {},
   "source": [
    "### Import Datasets"
   ]
  },
  {
   "cell_type": "code",
   "execution_count": 63,
   "metadata": {},
   "outputs": [],
   "source": [
    "credits = pd.read_csv(path + r'\\data\\credits.csv')\n",
    "keywords = pd.read_csv(path + r'\\data\\keywords.csv')\n",
    "links = pd.read_csv(path + r'\\data\\links.csv')\n",
    "movies_metadata = pd.read_csv(path + r'\\data\\movies_metadata.csv')"
   ]
  },
  {
   "cell_type": "code",
   "execution_count": 64,
   "metadata": {},
   "outputs": [],
   "source": [
    "# credits[['cast','crew','id']]\n",
    "# keywords[['id','keywords']]\n",
    "# links[['movieId', 'imdbId', 'tmdbId']]\n",
    "# movies_metadata[['adult', 'belongs_to_collection', 'budget', 'genres', 'homepage', 'id',\n",
    "#        'imdb_id', 'original_language', 'original_title', 'overview',\n",
    "#        'popularity', 'poster_path', 'production_companies',\n",
    "#        'production_countries', 'release_date', 'revenue', 'runtime',\n",
    "#        'spoken_languages', 'status', 'tagline', 'title', 'video',\n",
    "#        'vote_average', 'vote_count']]\n",
    "# ratings[['userId', 'movieId', 'rating', 'timestamp']]"
   ]
  },
  {
   "cell_type": "markdown",
   "metadata": {},
   "source": [
    "### Data Overview"
   ]
  },
  {
   "cell_type": "markdown",
   "metadata": {},
   "source": [
    "##### Movies Metadata"
   ]
  },
  {
   "cell_type": "code",
   "execution_count": 65,
   "metadata": {},
   "outputs": [
    {
     "data": {
      "text/plain": [
       "Index(['adult', 'belongs_to_collection', 'budget', 'genres', 'homepage', 'id',\n",
       "       'imdb_id', 'original_language', 'original_title', 'overview',\n",
       "       'popularity', 'poster_path', 'production_companies',\n",
       "       'production_countries', 'release_date', 'revenue', 'runtime',\n",
       "       'spoken_languages', 'status', 'tagline', 'title', 'video',\n",
       "       'vote_average', 'vote_count'],\n",
       "      dtype='object')"
      ]
     },
     "execution_count": 65,
     "metadata": {},
     "output_type": "execute_result"
    }
   ],
   "source": [
    "movies_metadata.columns"
   ]
  },
  {
   "cell_type": "code",
   "execution_count": 66,
   "metadata": {},
   "outputs": [],
   "source": [
    "# ['id','title','genres','overview']"
   ]
  },
  {
   "cell_type": "code",
   "execution_count": 67,
   "metadata": {},
   "outputs": [
    {
     "data": {
      "text/plain": [
       "\"{'id': 10194, 'name': 'Toy Story Collection', 'poster_path': '/7G9915LfUQ2lVfwMEEhDsn3kT4B.jpg', 'backdrop_path': '/9FBwqcd9IRruEDUrTdcaafOMKUq.jpg'}\""
      ]
     },
     "execution_count": 67,
     "metadata": {},
     "output_type": "execute_result"
    }
   ],
   "source": [
    "movies_metadata['belongs_to_collection'][0]"
   ]
  },
  {
   "cell_type": "code",
   "execution_count": 68,
   "metadata": {},
   "outputs": [
    {
     "data": {
      "text/plain": [
       "40972"
      ]
     },
     "execution_count": 68,
     "metadata": {},
     "output_type": "execute_result"
    }
   ],
   "source": [
    "movies_metadata['belongs_to_collection'].isnull().sum()"
   ]
  },
  {
   "cell_type": "code",
   "execution_count": 69,
   "metadata": {},
   "outputs": [
    {
     "data": {
      "text/plain": [
       "0        21.946943\n",
       "1        17.015539\n",
       "2          11.7129\n",
       "3         3.859495\n",
       "4         8.387519\n",
       "           ...    \n",
       "45461     0.072051\n",
       "45462     0.178241\n",
       "45463     0.903007\n",
       "45464     0.003503\n",
       "45465     0.163015\n",
       "Name: popularity, Length: 45466, dtype: object"
      ]
     },
     "execution_count": 69,
     "metadata": {},
     "output_type": "execute_result"
    }
   ],
   "source": [
    "movies_metadata['popularity']"
   ]
  },
  {
   "cell_type": "code",
   "execution_count": 70,
   "metadata": {},
   "outputs": [
    {
     "data": {
      "text/plain": [
       "0                                                  NaN\n",
       "1            Roll the dice and unleash the excitement!\n",
       "2    Still Yelling. Still Fighting. Still Ready for...\n",
       "3    Friends are the people who let you be yourself...\n",
       "4    Just When His World Is Back To Normal... He's ...\n",
       "Name: tagline, dtype: object"
      ]
     },
     "execution_count": 70,
     "metadata": {},
     "output_type": "execute_result"
    }
   ],
   "source": [
    "movies_metadata['tagline'].head()"
   ]
  },
  {
   "cell_type": "code",
   "execution_count": 71,
   "metadata": {},
   "outputs": [
    {
     "data": {
      "text/plain": [
       "0    False\n",
       "1    False\n",
       "2    False\n",
       "3    False\n",
       "4    False\n",
       "Name: video, dtype: object"
      ]
     },
     "execution_count": 71,
     "metadata": {},
     "output_type": "execute_result"
    }
   ],
   "source": [
    "movies_metadata['video'].head()"
   ]
  },
  {
   "cell_type": "code",
   "execution_count": 72,
   "metadata": {},
   "outputs": [
    {
     "data": {
      "text/plain": [
       "array([False, True, nan], dtype=object)"
      ]
     },
     "execution_count": 72,
     "metadata": {},
     "output_type": "execute_result"
    }
   ],
   "source": [
    "movies_metadata['video'].unique()"
   ]
  },
  {
   "cell_type": "code",
   "execution_count": 73,
   "metadata": {},
   "outputs": [
    {
     "data": {
      "text/plain": [
       "6"
      ]
     },
     "execution_count": 73,
     "metadata": {},
     "output_type": "execute_result"
    }
   ],
   "source": [
    "movies_metadata['vote_average'].isnull().sum()"
   ]
  },
  {
   "cell_type": "code",
   "execution_count": 74,
   "metadata": {},
   "outputs": [
    {
     "data": {
      "text/plain": [
       "adult\n",
       "False                                                                                                                             45454\n",
       "True                                                                                                                                  9\n",
       " - Written by Ørnås                                                                                                                   1\n",
       " Rune Balot goes to a casino connected to the October corporation to try to wrap up her case once and for all.                        1\n",
       " Avalanche Sharks tells the story of a bikini contest that turns into a horrifying affair when it is hit by a shark avalanche.        1\n",
       "Name: count, dtype: int64"
      ]
     },
     "execution_count": 74,
     "metadata": {},
     "output_type": "execute_result"
    }
   ],
   "source": [
    "movies_metadata['adult'].value_counts()"
   ]
  },
  {
   "cell_type": "code",
   "execution_count": 75,
   "metadata": {},
   "outputs": [
    {
     "data": {
      "text/plain": [
       "(45463, 24)"
      ]
     },
     "execution_count": 75,
     "metadata": {},
     "output_type": "execute_result"
    }
   ],
   "source": [
    "movies_metadata[movies_metadata['adult'].isin(['False','True'])].shape"
   ]
  },
  {
   "cell_type": "code",
   "execution_count": 76,
   "metadata": {},
   "outputs": [
    {
     "data": {
      "text/plain": [
       "Index([19730, 29503, 35587], dtype='int64')"
      ]
     },
     "execution_count": 76,
     "metadata": {},
     "output_type": "execute_result"
    }
   ],
   "source": [
    "movies_metadata[~ movies_metadata['adult'].isin(['False','True'])].index"
   ]
  },
  {
   "cell_type": "markdown",
   "metadata": {},
   "source": [
    "### Data Preprocessing"
   ]
  },
  {
   "cell_type": "markdown",
   "metadata": {},
   "source": [
    "##### Movies Metadata"
   ]
  },
  {
   "cell_type": "code",
   "execution_count": 77,
   "metadata": {},
   "outputs": [
    {
     "data": {
      "text/html": [
       "<div>\n",
       "<style scoped>\n",
       "    .dataframe tbody tr th:only-of-type {\n",
       "        vertical-align: middle;\n",
       "    }\n",
       "\n",
       "    .dataframe tbody tr th {\n",
       "        vertical-align: top;\n",
       "    }\n",
       "\n",
       "    .dataframe thead th {\n",
       "        text-align: right;\n",
       "    }\n",
       "</style>\n",
       "<table border=\"1\" class=\"dataframe\">\n",
       "  <thead>\n",
       "    <tr style=\"text-align: right;\">\n",
       "      <th></th>\n",
       "      <th>adult</th>\n",
       "      <th>belongs_to_collection</th>\n",
       "      <th>budget</th>\n",
       "      <th>genres</th>\n",
       "      <th>homepage</th>\n",
       "      <th>id</th>\n",
       "      <th>imdb_id</th>\n",
       "      <th>original_language</th>\n",
       "      <th>original_title</th>\n",
       "      <th>overview</th>\n",
       "      <th>...</th>\n",
       "      <th>release_date</th>\n",
       "      <th>revenue</th>\n",
       "      <th>runtime</th>\n",
       "      <th>spoken_languages</th>\n",
       "      <th>status</th>\n",
       "      <th>tagline</th>\n",
       "      <th>title</th>\n",
       "      <th>video</th>\n",
       "      <th>vote_average</th>\n",
       "      <th>vote_count</th>\n",
       "    </tr>\n",
       "  </thead>\n",
       "  <tbody>\n",
       "    <tr>\n",
       "      <th>0</th>\n",
       "      <td>False</td>\n",
       "      <td>{'id': 10194, 'name': 'Toy Story Collection', ...</td>\n",
       "      <td>30000000</td>\n",
       "      <td>[{'id': 16, 'name': 'Animation'}, {'id': 35, '...</td>\n",
       "      <td>http://toystory.disney.com/toy-story</td>\n",
       "      <td>862</td>\n",
       "      <td>tt0114709</td>\n",
       "      <td>en</td>\n",
       "      <td>Toy Story</td>\n",
       "      <td>Led by Woody, Andy's toys live happily in his ...</td>\n",
       "      <td>...</td>\n",
       "      <td>1995-10-30</td>\n",
       "      <td>373554033.0</td>\n",
       "      <td>81.0</td>\n",
       "      <td>[{'iso_639_1': 'en', 'name': 'English'}]</td>\n",
       "      <td>Released</td>\n",
       "      <td>NaN</td>\n",
       "      <td>Toy Story</td>\n",
       "      <td>False</td>\n",
       "      <td>7.7</td>\n",
       "      <td>5415.0</td>\n",
       "    </tr>\n",
       "  </tbody>\n",
       "</table>\n",
       "<p>1 rows × 24 columns</p>\n",
       "</div>"
      ],
      "text/plain": [
       "   adult                              belongs_to_collection    budget  \\\n",
       "0  False  {'id': 10194, 'name': 'Toy Story Collection', ...  30000000   \n",
       "\n",
       "                                              genres  \\\n",
       "0  [{'id': 16, 'name': 'Animation'}, {'id': 35, '...   \n",
       "\n",
       "                               homepage   id    imdb_id original_language  \\\n",
       "0  http://toystory.disney.com/toy-story  862  tt0114709                en   \n",
       "\n",
       "  original_title                                           overview  ...  \\\n",
       "0      Toy Story  Led by Woody, Andy's toys live happily in his ...  ...   \n",
       "\n",
       "  release_date      revenue runtime                          spoken_languages  \\\n",
       "0   1995-10-30  373554033.0    81.0  [{'iso_639_1': 'en', 'name': 'English'}]   \n",
       "\n",
       "     status  tagline      title  video vote_average vote_count  \n",
       "0  Released      NaN  Toy Story  False          7.7     5415.0  \n",
       "\n",
       "[1 rows x 24 columns]"
      ]
     },
     "execution_count": 77,
     "metadata": {},
     "output_type": "execute_result"
    }
   ],
   "source": [
    "movies_metadata.head(1)"
   ]
  },
  {
   "cell_type": "code",
   "execution_count": 78,
   "metadata": {},
   "outputs": [
    {
     "data": {
      "text/plain": [
       "Index(['adult', 'belongs_to_collection', 'budget', 'genres', 'homepage', 'id',\n",
       "       'imdb_id', 'original_language', 'original_title', 'overview',\n",
       "       'popularity', 'poster_path', 'production_companies',\n",
       "       'production_countries', 'release_date', 'revenue', 'runtime',\n",
       "       'spoken_languages', 'status', 'tagline', 'title', 'video',\n",
       "       'vote_average', 'vote_count'],\n",
       "      dtype='object')"
      ]
     },
     "execution_count": 78,
     "metadata": {},
     "output_type": "execute_result"
    }
   ],
   "source": [
    "movies_metadata.columns"
   ]
  },
  {
   "cell_type": "code",
   "execution_count": 79,
   "metadata": {},
   "outputs": [
    {
     "data": {
      "text/plain": [
       "array(['en', 'fr', 'zh', 'it', 'fa', 'nl', 'de', 'cn', 'ar', 'es', 'ru',\n",
       "       'sv', 'ja', 'ko', 'sr', 'bn', 'he', 'pt', 'wo', 'ro', 'hu', 'cy',\n",
       "       'vi', 'cs', 'da', 'no', 'nb', 'pl', 'el', 'sh', 'xx', 'mk', 'bo',\n",
       "       'ca', 'fi', 'th', 'sk', 'bs', 'hi', 'tr', 'is', 'ps', 'ab', 'eo',\n",
       "       'ka', 'mn', 'bm', 'zu', 'uk', 'af', 'la', 'et', 'ku', 'fy', 'lv',\n",
       "       'ta', 'sl', 'tl', 'ur', 'rw', 'id', 'bg', 'mr', 'lt', 'kk', 'ms',\n",
       "       'sq', nan, '104.0', 'qu', 'te', 'am', 'jv', 'tg', 'ml', 'hr', 'lo',\n",
       "       'ay', 'kn', 'eu', 'ne', 'pa', 'ky', 'gl', '68.0', 'uz', 'sm', 'mt',\n",
       "       '82.0', 'hy', 'iu', 'lb', 'si'], dtype=object)"
      ]
     },
     "execution_count": 79,
     "metadata": {},
     "output_type": "execute_result"
    }
   ],
   "source": [
    "movies_metadata['original_language'].unique()"
   ]
  },
  {
   "cell_type": "code",
   "execution_count": 80,
   "metadata": {},
   "outputs": [
    {
     "data": {
      "text/plain": [
       "original_language\n",
       "en       32269\n",
       "fr        2438\n",
       "it        1529\n",
       "ja        1350\n",
       "de        1080\n",
       "         ...  \n",
       "zu           1\n",
       "qu           1\n",
       "104.0        1\n",
       "la           1\n",
       "si           1\n",
       "Name: count, Length: 92, dtype: int64"
      ]
     },
     "execution_count": 80,
     "metadata": {},
     "output_type": "execute_result"
    }
   ],
   "source": [
    "movies_metadata['original_language'].value_counts()"
   ]
  },
  {
   "cell_type": "code",
   "execution_count": 81,
   "metadata": {},
   "outputs": [],
   "source": [
    "movies_metadata = movies_metadata[movies_metadata['original_language'].isin(['en','hi','bn','gu','ml','mr','pa','ta','te','ur'])]\n",
    "# movies_metadata = movies_metadata[movies_metadata['original_language'] == 'hi']"
   ]
  },
  {
   "cell_type": "code",
   "execution_count": 82,
   "metadata": {},
   "outputs": [],
   "source": [
    "movies_metadata['release_date'].fillna(0 , inplace=True)"
   ]
  },
  {
   "cell_type": "code",
   "execution_count": 83,
   "metadata": {},
   "outputs": [],
   "source": [
    "def convert(date_str):\n",
    "    try:\n",
    "        return pd.to_datetime(date_str)\n",
    "    except (ValueError, TypeError):\n",
    "        return pd.NaT"
   ]
  },
  {
   "cell_type": "code",
   "execution_count": 84,
   "metadata": {},
   "outputs": [],
   "source": [
    "movies_metadata['release_date'] = movies_metadata['release_date'].apply(convert)"
   ]
  },
  {
   "cell_type": "code",
   "execution_count": 85,
   "metadata": {},
   "outputs": [],
   "source": [
    "movies_metadata = movies_metadata[~ movies_metadata['release_date'].isna()]"
   ]
  },
  {
   "cell_type": "code",
   "execution_count": 86,
   "metadata": {},
   "outputs": [],
   "source": [
    "movies_metadata = movies_metadata[movies_metadata['release_date']>'1990-01-01']"
   ]
  },
  {
   "cell_type": "code",
   "execution_count": 87,
   "metadata": {},
   "outputs": [],
   "source": [
    "movies_metadata = movies_metadata.reset_index(drop=True)"
   ]
  },
  {
   "cell_type": "code",
   "execution_count": 88,
   "metadata": {},
   "outputs": [],
   "source": [
    "#####################################################################################"
   ]
  },
  {
   "cell_type": "code",
   "execution_count": 89,
   "metadata": {},
   "outputs": [],
   "source": [
    "eng = movies_metadata[movies_metadata['original_language'] == 'en']"
   ]
  },
  {
   "cell_type": "code",
   "execution_count": 90,
   "metadata": {},
   "outputs": [],
   "source": [
    "index = eng[eng['release_date'] <= '2005-01-01'].index"
   ]
  },
  {
   "cell_type": "code",
   "execution_count": 91,
   "metadata": {},
   "outputs": [],
   "source": [
    "filtered_movies = movies_metadata.drop(index , axis=0)"
   ]
  },
  {
   "cell_type": "code",
   "execution_count": 92,
   "metadata": {},
   "outputs": [
    {
     "data": {
      "text/plain": [
       "(14132, 24)"
      ]
     },
     "execution_count": 92,
     "metadata": {},
     "output_type": "execute_result"
    }
   ],
   "source": [
    "filtered_movies.shape"
   ]
  },
  {
   "cell_type": "code",
   "execution_count": 93,
   "metadata": {},
   "outputs": [],
   "source": [
    "filtered_movies = filtered_movies[(filtered_movies['runtime']>=100) & (filtered_movies['vote_average']>=5)]"
   ]
  },
  {
   "cell_type": "code",
   "execution_count": 94,
   "metadata": {},
   "outputs": [
    {
     "data": {
      "text/plain": [
       "(4107, 24)"
      ]
     },
     "execution_count": 94,
     "metadata": {},
     "output_type": "execute_result"
    }
   ],
   "source": [
    "filtered_movies.shape"
   ]
  },
  {
   "cell_type": "code",
   "execution_count": null,
   "metadata": {},
   "outputs": [],
   "source": []
  },
  {
   "cell_type": "code",
   "execution_count": 95,
   "metadata": {},
   "outputs": [],
   "source": [
    "#############################################################################################"
   ]
  },
  {
   "cell_type": "code",
   "execution_count": 96,
   "metadata": {},
   "outputs": [],
   "source": [
    "# Taking the required columns only for our analysis"
   ]
  },
  {
   "cell_type": "code",
   "execution_count": 97,
   "metadata": {},
   "outputs": [],
   "source": [
    "movies = filtered_movies[['id','title','genres','overview','vote_average']].reset_index(drop=True)"
   ]
  },
  {
   "cell_type": "code",
   "execution_count": 98,
   "metadata": {},
   "outputs": [
    {
     "data": {
      "text/html": [
       "<div>\n",
       "<style scoped>\n",
       "    .dataframe tbody tr th:only-of-type {\n",
       "        vertical-align: middle;\n",
       "    }\n",
       "\n",
       "    .dataframe tbody tr th {\n",
       "        vertical-align: top;\n",
       "    }\n",
       "\n",
       "    .dataframe thead th {\n",
       "        text-align: right;\n",
       "    }\n",
       "</style>\n",
       "<table border=\"1\" class=\"dataframe\">\n",
       "  <thead>\n",
       "    <tr style=\"text-align: right;\">\n",
       "      <th></th>\n",
       "      <th>id</th>\n",
       "      <th>title</th>\n",
       "      <th>genres</th>\n",
       "      <th>overview</th>\n",
       "      <th>vote_average</th>\n",
       "    </tr>\n",
       "  </thead>\n",
       "  <tbody>\n",
       "    <tr>\n",
       "      <th>0</th>\n",
       "      <td>79782</td>\n",
       "      <td>Venice</td>\n",
       "      <td>[{'id': 18, 'name': 'Drama'}, {'id': 10749, 'n...</td>\n",
       "      <td>An atmospheric coming-of-age story featuring a...</td>\n",
       "      <td>7.5</td>\n",
       "    </tr>\n",
       "    <tr>\n",
       "      <th>1</th>\n",
       "      <td>480</td>\n",
       "      <td>Monsoon Wedding</td>\n",
       "      <td>[{'id': 35, 'name': 'Comedy'}, {'id': 18, 'nam...</td>\n",
       "      <td>From an exciting Indian wedding comes a relati...</td>\n",
       "      <td>6.8</td>\n",
       "    </tr>\n",
       "    <tr>\n",
       "      <th>2</th>\n",
       "      <td>4435</td>\n",
       "      <td>Asoka</td>\n",
       "      <td>[{'id': 18, 'name': 'Drama'}, {'id': 36, 'name...</td>\n",
       "      <td>In India, about 260 BC in the Empire of Magadh...</td>\n",
       "      <td>5.8</td>\n",
       "    </tr>\n",
       "    <tr>\n",
       "      <th>3</th>\n",
       "      <td>7504</td>\n",
       "      <td>Earth</td>\n",
       "      <td>[{'id': 18, 'name': 'Drama'}]</td>\n",
       "      <td>It's 1947 and the borderlines between India an...</td>\n",
       "      <td>6.6</td>\n",
       "    </tr>\n",
       "    <tr>\n",
       "      <th>4</th>\n",
       "      <td>19666</td>\n",
       "      <td>Lagaan: Once Upon a Time in India</td>\n",
       "      <td>[{'id': 12, 'name': 'Adventure'}, {'id': 18, '...</td>\n",
       "      <td>Lagaan tells the tale of the Indian village Ch...</td>\n",
       "      <td>7.2</td>\n",
       "    </tr>\n",
       "  </tbody>\n",
       "</table>\n",
       "</div>"
      ],
      "text/plain": [
       "      id                              title  \\\n",
       "0  79782                             Venice   \n",
       "1    480                    Monsoon Wedding   \n",
       "2   4435                              Asoka   \n",
       "3   7504                              Earth   \n",
       "4  19666  Lagaan: Once Upon a Time in India   \n",
       "\n",
       "                                              genres  \\\n",
       "0  [{'id': 18, 'name': 'Drama'}, {'id': 10749, 'n...   \n",
       "1  [{'id': 35, 'name': 'Comedy'}, {'id': 18, 'nam...   \n",
       "2  [{'id': 18, 'name': 'Drama'}, {'id': 36, 'name...   \n",
       "3                      [{'id': 18, 'name': 'Drama'}]   \n",
       "4  [{'id': 12, 'name': 'Adventure'}, {'id': 18, '...   \n",
       "\n",
       "                                            overview  vote_average  \n",
       "0  An atmospheric coming-of-age story featuring a...           7.5  \n",
       "1  From an exciting Indian wedding comes a relati...           6.8  \n",
       "2  In India, about 260 BC in the Empire of Magadh...           5.8  \n",
       "3  It's 1947 and the borderlines between India an...           6.6  \n",
       "4  Lagaan tells the tale of the Indian village Ch...           7.2  "
      ]
     },
     "execution_count": 98,
     "metadata": {},
     "output_type": "execute_result"
    }
   ],
   "source": [
    "movies.head()"
   ]
  },
  {
   "cell_type": "code",
   "execution_count": 99,
   "metadata": {},
   "outputs": [
    {
     "data": {
      "text/plain": [
       "id              0\n",
       "title           0\n",
       "genres          0\n",
       "overview        2\n",
       "vote_average    0\n",
       "dtype: int64"
      ]
     },
     "execution_count": 99,
     "metadata": {},
     "output_type": "execute_result"
    }
   ],
   "source": [
    "movies.isnull().sum()"
   ]
  },
  {
   "cell_type": "code",
   "execution_count": null,
   "metadata": {},
   "outputs": [],
   "source": []
  },
  {
   "cell_type": "code",
   "execution_count": 100,
   "metadata": {},
   "outputs": [],
   "source": [
    "movies = movies[~ movies['title'].isnull()]"
   ]
  },
  {
   "cell_type": "code",
   "execution_count": 101,
   "metadata": {},
   "outputs": [
    {
     "data": {
      "text/plain": [
       "(4107, 5)"
      ]
     },
     "execution_count": 101,
     "metadata": {},
     "output_type": "execute_result"
    }
   ],
   "source": [
    "movies.shape"
   ]
  },
  {
   "cell_type": "code",
   "execution_count": 102,
   "metadata": {},
   "outputs": [],
   "source": [
    "duplicates = movies['title'].duplicated()"
   ]
  },
  {
   "cell_type": "code",
   "execution_count": 103,
   "metadata": {},
   "outputs": [],
   "source": [
    "movies = movies[~ duplicates]"
   ]
  },
  {
   "cell_type": "code",
   "execution_count": 104,
   "metadata": {},
   "outputs": [
    {
     "data": {
      "text/plain": [
       "0"
      ]
     },
     "execution_count": 104,
     "metadata": {},
     "output_type": "execute_result"
    }
   ],
   "source": [
    "movies['id'].duplicated().sum()"
   ]
  },
  {
   "cell_type": "code",
   "execution_count": 105,
   "metadata": {},
   "outputs": [
    {
     "data": {
      "text/plain": [
       "(4076, 5)"
      ]
     },
     "execution_count": 105,
     "metadata": {},
     "output_type": "execute_result"
    }
   ],
   "source": [
    "movies.shape"
   ]
  },
  {
   "cell_type": "code",
   "execution_count": 106,
   "metadata": {},
   "outputs": [
    {
     "data": {
      "text/plain": [
       "0       An atmospheric coming-of-age story featuring a...\n",
       "1       From an exciting Indian wedding comes a relati...\n",
       "2       In India, about 260 BC in the Empire of Magadh...\n",
       "3       It's 1947 and the borderlines between India an...\n",
       "4       Lagaan tells the tale of the Indian village Ch...\n",
       "                              ...                        \n",
       "4101    A sensitive university student unraveling whil...\n",
       "4102    A man is forced to marry a tree to ward off il...\n",
       "4104    A woman and a young girl in different cities a...\n",
       "4105    Are we prepared for dealing with the prospect ...\n",
       "4106    The bliss of a biology teacher’s family life i...\n",
       "Name: overview, Length: 4076, dtype: object"
      ]
     },
     "execution_count": 106,
     "metadata": {},
     "output_type": "execute_result"
    }
   ],
   "source": [
    "movies['overview']"
   ]
  },
  {
   "cell_type": "code",
   "execution_count": 107,
   "metadata": {},
   "outputs": [
    {
     "data": {
      "text/plain": [
       "\"[{'id': 18, 'name': 'Drama'}, {'id': 10749, 'name': 'Romance'}]\""
      ]
     },
     "execution_count": 107,
     "metadata": {},
     "output_type": "execute_result"
    }
   ],
   "source": [
    "movies['genres'][0]"
   ]
  },
  {
   "cell_type": "code",
   "execution_count": 108,
   "metadata": {},
   "outputs": [
    {
     "data": {
      "text/plain": [
       "['Drama', 'Romance']"
      ]
     },
     "execution_count": 108,
     "metadata": {},
     "output_type": "execute_result"
    }
   ],
   "source": [
    "def genre_name(items):\n",
    "    items = ast.literal_eval(items)\n",
    "    g_list = []\n",
    "    for i in items:\n",
    "        g_list.append(i['name'])\n",
    "    return g_list\n",
    "\n",
    "genre_name(movies['genres'][0])\n"
   ]
  },
  {
   "cell_type": "code",
   "execution_count": 109,
   "metadata": {},
   "outputs": [],
   "source": [
    "movies['genres'] = movies['genres'].apply(genre_name)"
   ]
  },
  {
   "cell_type": "code",
   "execution_count": null,
   "metadata": {},
   "outputs": [],
   "source": []
  },
  {
   "cell_type": "code",
   "execution_count": 110,
   "metadata": {},
   "outputs": [],
   "source": [
    "movies['overview'] = movies['overview'].apply(lambda x : str(x).split())"
   ]
  },
  {
   "cell_type": "code",
   "execution_count": 111,
   "metadata": {},
   "outputs": [
    {
     "data": {
      "text/html": [
       "<div>\n",
       "<style scoped>\n",
       "    .dataframe tbody tr th:only-of-type {\n",
       "        vertical-align: middle;\n",
       "    }\n",
       "\n",
       "    .dataframe tbody tr th {\n",
       "        vertical-align: top;\n",
       "    }\n",
       "\n",
       "    .dataframe thead th {\n",
       "        text-align: right;\n",
       "    }\n",
       "</style>\n",
       "<table border=\"1\" class=\"dataframe\">\n",
       "  <thead>\n",
       "    <tr style=\"text-align: right;\">\n",
       "      <th></th>\n",
       "      <th>id</th>\n",
       "      <th>title</th>\n",
       "      <th>genres</th>\n",
       "      <th>overview</th>\n",
       "      <th>vote_average</th>\n",
       "    </tr>\n",
       "  </thead>\n",
       "  <tbody>\n",
       "    <tr>\n",
       "      <th>0</th>\n",
       "      <td>79782</td>\n",
       "      <td>Venice</td>\n",
       "      <td>[Drama, Romance]</td>\n",
       "      <td>[An, atmospheric, coming-of-age, story, featur...</td>\n",
       "      <td>7.5</td>\n",
       "    </tr>\n",
       "    <tr>\n",
       "      <th>1</th>\n",
       "      <td>480</td>\n",
       "      <td>Monsoon Wedding</td>\n",
       "      <td>[Comedy, Drama, Romance]</td>\n",
       "      <td>[From, an, exciting, Indian, wedding, comes, a...</td>\n",
       "      <td>6.8</td>\n",
       "    </tr>\n",
       "    <tr>\n",
       "      <th>2</th>\n",
       "      <td>4435</td>\n",
       "      <td>Asoka</td>\n",
       "      <td>[Drama, History]</td>\n",
       "      <td>[In, India,, about, 260, BC, in, the, Empire, ...</td>\n",
       "      <td>5.8</td>\n",
       "    </tr>\n",
       "    <tr>\n",
       "      <th>3</th>\n",
       "      <td>7504</td>\n",
       "      <td>Earth</td>\n",
       "      <td>[Drama]</td>\n",
       "      <td>[It's, 1947, and, the, borderlines, between, I...</td>\n",
       "      <td>6.6</td>\n",
       "    </tr>\n",
       "    <tr>\n",
       "      <th>4</th>\n",
       "      <td>19666</td>\n",
       "      <td>Lagaan: Once Upon a Time in India</td>\n",
       "      <td>[Adventure, Drama, Music, Romance]</td>\n",
       "      <td>[Lagaan, tells, the, tale, of, the, Indian, vi...</td>\n",
       "      <td>7.2</td>\n",
       "    </tr>\n",
       "  </tbody>\n",
       "</table>\n",
       "</div>"
      ],
      "text/plain": [
       "      id                              title  \\\n",
       "0  79782                             Venice   \n",
       "1    480                    Monsoon Wedding   \n",
       "2   4435                              Asoka   \n",
       "3   7504                              Earth   \n",
       "4  19666  Lagaan: Once Upon a Time in India   \n",
       "\n",
       "                               genres  \\\n",
       "0                    [Drama, Romance]   \n",
       "1            [Comedy, Drama, Romance]   \n",
       "2                    [Drama, History]   \n",
       "3                             [Drama]   \n",
       "4  [Adventure, Drama, Music, Romance]   \n",
       "\n",
       "                                            overview  vote_average  \n",
       "0  [An, atmospheric, coming-of-age, story, featur...           7.5  \n",
       "1  [From, an, exciting, Indian, wedding, comes, a...           6.8  \n",
       "2  [In, India,, about, 260, BC, in, the, Empire, ...           5.8  \n",
       "3  [It's, 1947, and, the, borderlines, between, I...           6.6  \n",
       "4  [Lagaan, tells, the, tale, of, the, Indian, vi...           7.2  "
      ]
     },
     "execution_count": 111,
     "metadata": {},
     "output_type": "execute_result"
    }
   ],
   "source": [
    "movies.head()"
   ]
  },
  {
   "cell_type": "markdown",
   "metadata": {},
   "source": [
    "##### Credits"
   ]
  },
  {
   "cell_type": "code",
   "execution_count": 112,
   "metadata": {},
   "outputs": [
    {
     "data": {
      "text/html": [
       "<div>\n",
       "<style scoped>\n",
       "    .dataframe tbody tr th:only-of-type {\n",
       "        vertical-align: middle;\n",
       "    }\n",
       "\n",
       "    .dataframe tbody tr th {\n",
       "        vertical-align: top;\n",
       "    }\n",
       "\n",
       "    .dataframe thead th {\n",
       "        text-align: right;\n",
       "    }\n",
       "</style>\n",
       "<table border=\"1\" class=\"dataframe\">\n",
       "  <thead>\n",
       "    <tr style=\"text-align: right;\">\n",
       "      <th></th>\n",
       "      <th>cast</th>\n",
       "      <th>crew</th>\n",
       "      <th>id</th>\n",
       "    </tr>\n",
       "  </thead>\n",
       "  <tbody>\n",
       "    <tr>\n",
       "      <th>0</th>\n",
       "      <td>[{'cast_id': 14, 'character': 'Woody (voice)',...</td>\n",
       "      <td>[{'credit_id': '52fe4284c3a36847f8024f49', 'de...</td>\n",
       "      <td>862</td>\n",
       "    </tr>\n",
       "    <tr>\n",
       "      <th>1</th>\n",
       "      <td>[{'cast_id': 1, 'character': 'Alan Parrish', '...</td>\n",
       "      <td>[{'credit_id': '52fe44bfc3a36847f80a7cd1', 'de...</td>\n",
       "      <td>8844</td>\n",
       "    </tr>\n",
       "    <tr>\n",
       "      <th>2</th>\n",
       "      <td>[{'cast_id': 2, 'character': 'Max Goldman', 'c...</td>\n",
       "      <td>[{'credit_id': '52fe466a9251416c75077a89', 'de...</td>\n",
       "      <td>15602</td>\n",
       "    </tr>\n",
       "    <tr>\n",
       "      <th>3</th>\n",
       "      <td>[{'cast_id': 1, 'character': \"Savannah 'Vannah...</td>\n",
       "      <td>[{'credit_id': '52fe44779251416c91011acb', 'de...</td>\n",
       "      <td>31357</td>\n",
       "    </tr>\n",
       "    <tr>\n",
       "      <th>4</th>\n",
       "      <td>[{'cast_id': 1, 'character': 'George Banks', '...</td>\n",
       "      <td>[{'credit_id': '52fe44959251416c75039ed7', 'de...</td>\n",
       "      <td>11862</td>\n",
       "    </tr>\n",
       "  </tbody>\n",
       "</table>\n",
       "</div>"
      ],
      "text/plain": [
       "                                                cast  \\\n",
       "0  [{'cast_id': 14, 'character': 'Woody (voice)',...   \n",
       "1  [{'cast_id': 1, 'character': 'Alan Parrish', '...   \n",
       "2  [{'cast_id': 2, 'character': 'Max Goldman', 'c...   \n",
       "3  [{'cast_id': 1, 'character': \"Savannah 'Vannah...   \n",
       "4  [{'cast_id': 1, 'character': 'George Banks', '...   \n",
       "\n",
       "                                                crew     id  \n",
       "0  [{'credit_id': '52fe4284c3a36847f8024f49', 'de...    862  \n",
       "1  [{'credit_id': '52fe44bfc3a36847f80a7cd1', 'de...   8844  \n",
       "2  [{'credit_id': '52fe466a9251416c75077a89', 'de...  15602  \n",
       "3  [{'credit_id': '52fe44779251416c91011acb', 'de...  31357  \n",
       "4  [{'credit_id': '52fe44959251416c75039ed7', 'de...  11862  "
      ]
     },
     "execution_count": 112,
     "metadata": {},
     "output_type": "execute_result"
    }
   ],
   "source": [
    "credits.head()"
   ]
  },
  {
   "cell_type": "code",
   "execution_count": 113,
   "metadata": {},
   "outputs": [
    {
     "data": {
      "text/plain": [
       "cast    0\n",
       "crew    0\n",
       "id      0\n",
       "dtype: int64"
      ]
     },
     "execution_count": 113,
     "metadata": {},
     "output_type": "execute_result"
    }
   ],
   "source": [
    "credits.isnull().sum()"
   ]
  },
  {
   "cell_type": "code",
   "execution_count": 114,
   "metadata": {},
   "outputs": [
    {
     "data": {
      "text/plain": [
       "44"
      ]
     },
     "execution_count": 114,
     "metadata": {},
     "output_type": "execute_result"
    }
   ],
   "source": [
    "credits['id'].duplicated().sum()"
   ]
  },
  {
   "cell_type": "code",
   "execution_count": 115,
   "metadata": {},
   "outputs": [],
   "source": [
    "credits = credits[~ credits['id'].duplicated()]"
   ]
  },
  {
   "cell_type": "code",
   "execution_count": 116,
   "metadata": {},
   "outputs": [],
   "source": [
    "# credits['cast'][0]"
   ]
  },
  {
   "cell_type": "code",
   "execution_count": 117,
   "metadata": {},
   "outputs": [
    {
     "data": {
      "text/plain": [
       "['Tom Hanks', 'Tim Allen', 'Don Rickles', 'Jim Varney']"
      ]
     },
     "execution_count": 117,
     "metadata": {},
     "output_type": "execute_result"
    }
   ],
   "source": [
    "def cast_name(items):\n",
    "    items = ast.literal_eval(items)\n",
    "    cast_list = []\n",
    "    count = 0\n",
    "    for i in items:\n",
    "        if count != 4:\n",
    "            cast_list.append(i['name'])\n",
    "            count += 1\n",
    "        else:\n",
    "            break\n",
    "    return cast_list\n",
    "\n",
    "cast_name(credits['cast'][0])"
   ]
  },
  {
   "cell_type": "code",
   "execution_count": 118,
   "metadata": {},
   "outputs": [],
   "source": [
    "credits['cast'] = credits['cast'].apply(cast_name)"
   ]
  },
  {
   "cell_type": "code",
   "execution_count": 119,
   "metadata": {},
   "outputs": [],
   "source": [
    "# credits['crew'][0]"
   ]
  },
  {
   "cell_type": "code",
   "execution_count": 120,
   "metadata": {},
   "outputs": [
    {
     "data": {
      "text/plain": [
       "['John Lasseter']"
      ]
     },
     "execution_count": 120,
     "metadata": {},
     "output_type": "execute_result"
    }
   ],
   "source": [
    "def director_name(items):\n",
    "    items = ast.literal_eval(items)\n",
    "    director_list = []\n",
    "    for i in items:\n",
    "        if i['job'] == 'Director':\n",
    "            director_list.append(i['name'])\n",
    "        else:\n",
    "            break\n",
    "    return director_list\n",
    "\n",
    "director_name(credits['crew'][0])"
   ]
  },
  {
   "cell_type": "code",
   "execution_count": 121,
   "metadata": {},
   "outputs": [],
   "source": [
    "credits['crew'] = credits['crew'].apply(director_name)"
   ]
  },
  {
   "cell_type": "code",
   "execution_count": 122,
   "metadata": {},
   "outputs": [
    {
     "data": {
      "text/html": [
       "<div>\n",
       "<style scoped>\n",
       "    .dataframe tbody tr th:only-of-type {\n",
       "        vertical-align: middle;\n",
       "    }\n",
       "\n",
       "    .dataframe tbody tr th {\n",
       "        vertical-align: top;\n",
       "    }\n",
       "\n",
       "    .dataframe thead th {\n",
       "        text-align: right;\n",
       "    }\n",
       "</style>\n",
       "<table border=\"1\" class=\"dataframe\">\n",
       "  <thead>\n",
       "    <tr style=\"text-align: right;\">\n",
       "      <th></th>\n",
       "      <th>cast</th>\n",
       "      <th>crew</th>\n",
       "      <th>id</th>\n",
       "    </tr>\n",
       "  </thead>\n",
       "  <tbody>\n",
       "    <tr>\n",
       "      <th>0</th>\n",
       "      <td>[Tom Hanks, Tim Allen, Don Rickles, Jim Varney]</td>\n",
       "      <td>[John Lasseter]</td>\n",
       "      <td>862</td>\n",
       "    </tr>\n",
       "    <tr>\n",
       "      <th>1</th>\n",
       "      <td>[Robin Williams, Jonathan Hyde, Kirsten Dunst,...</td>\n",
       "      <td>[]</td>\n",
       "      <td>8844</td>\n",
       "    </tr>\n",
       "    <tr>\n",
       "      <th>2</th>\n",
       "      <td>[Walter Matthau, Jack Lemmon, Ann-Margret, Sop...</td>\n",
       "      <td>[Howard Deutch]</td>\n",
       "      <td>15602</td>\n",
       "    </tr>\n",
       "    <tr>\n",
       "      <th>3</th>\n",
       "      <td>[Whitney Houston, Angela Bassett, Loretta Devi...</td>\n",
       "      <td>[Forest Whitaker]</td>\n",
       "      <td>31357</td>\n",
       "    </tr>\n",
       "    <tr>\n",
       "      <th>4</th>\n",
       "      <td>[Steve Martin, Diane Keaton, Martin Short, Kim...</td>\n",
       "      <td>[]</td>\n",
       "      <td>11862</td>\n",
       "    </tr>\n",
       "  </tbody>\n",
       "</table>\n",
       "</div>"
      ],
      "text/plain": [
       "                                                cast               crew     id\n",
       "0    [Tom Hanks, Tim Allen, Don Rickles, Jim Varney]    [John Lasseter]    862\n",
       "1  [Robin Williams, Jonathan Hyde, Kirsten Dunst,...                 []   8844\n",
       "2  [Walter Matthau, Jack Lemmon, Ann-Margret, Sop...    [Howard Deutch]  15602\n",
       "3  [Whitney Houston, Angela Bassett, Loretta Devi...  [Forest Whitaker]  31357\n",
       "4  [Steve Martin, Diane Keaton, Martin Short, Kim...                 []  11862"
      ]
     },
     "execution_count": 122,
     "metadata": {},
     "output_type": "execute_result"
    }
   ],
   "source": [
    "credits.head()"
   ]
  },
  {
   "cell_type": "markdown",
   "metadata": {},
   "source": [
    "##### Keywords"
   ]
  },
  {
   "cell_type": "code",
   "execution_count": 123,
   "metadata": {},
   "outputs": [
    {
     "data": {
      "text/html": [
       "<div>\n",
       "<style scoped>\n",
       "    .dataframe tbody tr th:only-of-type {\n",
       "        vertical-align: middle;\n",
       "    }\n",
       "\n",
       "    .dataframe tbody tr th {\n",
       "        vertical-align: top;\n",
       "    }\n",
       "\n",
       "    .dataframe thead th {\n",
       "        text-align: right;\n",
       "    }\n",
       "</style>\n",
       "<table border=\"1\" class=\"dataframe\">\n",
       "  <thead>\n",
       "    <tr style=\"text-align: right;\">\n",
       "      <th></th>\n",
       "      <th>id</th>\n",
       "      <th>keywords</th>\n",
       "    </tr>\n",
       "  </thead>\n",
       "  <tbody>\n",
       "    <tr>\n",
       "      <th>0</th>\n",
       "      <td>862</td>\n",
       "      <td>[{'id': 931, 'name': 'jealousy'}, {'id': 4290,...</td>\n",
       "    </tr>\n",
       "    <tr>\n",
       "      <th>1</th>\n",
       "      <td>8844</td>\n",
       "      <td>[{'id': 10090, 'name': 'board game'}, {'id': 1...</td>\n",
       "    </tr>\n",
       "    <tr>\n",
       "      <th>2</th>\n",
       "      <td>15602</td>\n",
       "      <td>[{'id': 1495, 'name': 'fishing'}, {'id': 12392...</td>\n",
       "    </tr>\n",
       "    <tr>\n",
       "      <th>3</th>\n",
       "      <td>31357</td>\n",
       "      <td>[{'id': 818, 'name': 'based on novel'}, {'id':...</td>\n",
       "    </tr>\n",
       "    <tr>\n",
       "      <th>4</th>\n",
       "      <td>11862</td>\n",
       "      <td>[{'id': 1009, 'name': 'baby'}, {'id': 1599, 'n...</td>\n",
       "    </tr>\n",
       "  </tbody>\n",
       "</table>\n",
       "</div>"
      ],
      "text/plain": [
       "      id                                           keywords\n",
       "0    862  [{'id': 931, 'name': 'jealousy'}, {'id': 4290,...\n",
       "1   8844  [{'id': 10090, 'name': 'board game'}, {'id': 1...\n",
       "2  15602  [{'id': 1495, 'name': 'fishing'}, {'id': 12392...\n",
       "3  31357  [{'id': 818, 'name': 'based on novel'}, {'id':...\n",
       "4  11862  [{'id': 1009, 'name': 'baby'}, {'id': 1599, 'n..."
      ]
     },
     "execution_count": 123,
     "metadata": {},
     "output_type": "execute_result"
    }
   ],
   "source": [
    "keywords.head()"
   ]
  },
  {
   "cell_type": "code",
   "execution_count": 124,
   "metadata": {},
   "outputs": [
    {
     "data": {
      "text/plain": [
       "\"[{'id': 931, 'name': 'jealousy'}, {'id': 4290, 'name': 'toy'}, {'id': 5202, 'name': 'boy'}, {'id': 6054, 'name': 'friendship'}, {'id': 9713, 'name': 'friends'}, {'id': 9823, 'name': 'rivalry'}, {'id': 165503, 'name': 'boy next door'}, {'id': 170722, 'name': 'new toy'}, {'id': 187065, 'name': 'toy comes to life'}]\""
      ]
     },
     "execution_count": 124,
     "metadata": {},
     "output_type": "execute_result"
    }
   ],
   "source": [
    "keywords['keywords'][0]"
   ]
  },
  {
   "cell_type": "code",
   "execution_count": 125,
   "metadata": {},
   "outputs": [
    {
     "data": {
      "text/plain": [
       "987"
      ]
     },
     "execution_count": 125,
     "metadata": {},
     "output_type": "execute_result"
    }
   ],
   "source": [
    "keywords['id'].duplicated().sum()"
   ]
  },
  {
   "cell_type": "code",
   "execution_count": 126,
   "metadata": {},
   "outputs": [],
   "source": [
    "keywords.drop_duplicates(subset='id',inplace=True)"
   ]
  },
  {
   "cell_type": "code",
   "execution_count": 127,
   "metadata": {},
   "outputs": [
    {
     "data": {
      "text/plain": [
       "['jealousy',\n",
       " 'toy',\n",
       " 'boy',\n",
       " 'friendship',\n",
       " 'friends',\n",
       " 'rivalry',\n",
       " 'boy next door',\n",
       " 'new toy',\n",
       " 'toy comes to life']"
      ]
     },
     "execution_count": 127,
     "metadata": {},
     "output_type": "execute_result"
    }
   ],
   "source": [
    "def keyword_name(items):\n",
    "    items = ast.literal_eval(items)\n",
    "    key_list = []\n",
    "    for i in items:\n",
    "        key_list.append(i['name'])\n",
    "    return key_list\n",
    "\n",
    "keyword_name(keywords['keywords'][0])"
   ]
  },
  {
   "cell_type": "code",
   "execution_count": 128,
   "metadata": {},
   "outputs": [],
   "source": [
    "keywords['keywords'] = keywords['keywords'].apply(keyword_name)"
   ]
  },
  {
   "cell_type": "code",
   "execution_count": 129,
   "metadata": {},
   "outputs": [
    {
     "data": {
      "text/html": [
       "<div>\n",
       "<style scoped>\n",
       "    .dataframe tbody tr th:only-of-type {\n",
       "        vertical-align: middle;\n",
       "    }\n",
       "\n",
       "    .dataframe tbody tr th {\n",
       "        vertical-align: top;\n",
       "    }\n",
       "\n",
       "    .dataframe thead th {\n",
       "        text-align: right;\n",
       "    }\n",
       "</style>\n",
       "<table border=\"1\" class=\"dataframe\">\n",
       "  <thead>\n",
       "    <tr style=\"text-align: right;\">\n",
       "      <th></th>\n",
       "      <th>id</th>\n",
       "      <th>keywords</th>\n",
       "    </tr>\n",
       "  </thead>\n",
       "  <tbody>\n",
       "    <tr>\n",
       "      <th>0</th>\n",
       "      <td>862</td>\n",
       "      <td>[jealousy, toy, boy, friendship, friends, riva...</td>\n",
       "    </tr>\n",
       "    <tr>\n",
       "      <th>1</th>\n",
       "      <td>8844</td>\n",
       "      <td>[board game, disappearance, based on children'...</td>\n",
       "    </tr>\n",
       "    <tr>\n",
       "      <th>2</th>\n",
       "      <td>15602</td>\n",
       "      <td>[fishing, best friend, duringcreditsstinger, o...</td>\n",
       "    </tr>\n",
       "    <tr>\n",
       "      <th>3</th>\n",
       "      <td>31357</td>\n",
       "      <td>[based on novel, interracial relationship, sin...</td>\n",
       "    </tr>\n",
       "    <tr>\n",
       "      <th>4</th>\n",
       "      <td>11862</td>\n",
       "      <td>[baby, midlife crisis, confidence, aging, daug...</td>\n",
       "    </tr>\n",
       "  </tbody>\n",
       "</table>\n",
       "</div>"
      ],
      "text/plain": [
       "      id                                           keywords\n",
       "0    862  [jealousy, toy, boy, friendship, friends, riva...\n",
       "1   8844  [board game, disappearance, based on children'...\n",
       "2  15602  [fishing, best friend, duringcreditsstinger, o...\n",
       "3  31357  [based on novel, interracial relationship, sin...\n",
       "4  11862  [baby, midlife crisis, confidence, aging, daug..."
      ]
     },
     "execution_count": 129,
     "metadata": {},
     "output_type": "execute_result"
    }
   ],
   "source": [
    "keywords.head()"
   ]
  },
  {
   "cell_type": "markdown",
   "metadata": {},
   "source": [
    "##### Links"
   ]
  },
  {
   "cell_type": "code",
   "execution_count": 130,
   "metadata": {},
   "outputs": [
    {
     "data": {
      "text/html": [
       "<div>\n",
       "<style scoped>\n",
       "    .dataframe tbody tr th:only-of-type {\n",
       "        vertical-align: middle;\n",
       "    }\n",
       "\n",
       "    .dataframe tbody tr th {\n",
       "        vertical-align: top;\n",
       "    }\n",
       "\n",
       "    .dataframe thead th {\n",
       "        text-align: right;\n",
       "    }\n",
       "</style>\n",
       "<table border=\"1\" class=\"dataframe\">\n",
       "  <thead>\n",
       "    <tr style=\"text-align: right;\">\n",
       "      <th></th>\n",
       "      <th>movieId</th>\n",
       "      <th>imdbId</th>\n",
       "      <th>tmdbId</th>\n",
       "    </tr>\n",
       "  </thead>\n",
       "  <tbody>\n",
       "    <tr>\n",
       "      <th>0</th>\n",
       "      <td>1</td>\n",
       "      <td>114709</td>\n",
       "      <td>862.0</td>\n",
       "    </tr>\n",
       "    <tr>\n",
       "      <th>1</th>\n",
       "      <td>2</td>\n",
       "      <td>113497</td>\n",
       "      <td>8844.0</td>\n",
       "    </tr>\n",
       "    <tr>\n",
       "      <th>2</th>\n",
       "      <td>3</td>\n",
       "      <td>113228</td>\n",
       "      <td>15602.0</td>\n",
       "    </tr>\n",
       "    <tr>\n",
       "      <th>3</th>\n",
       "      <td>4</td>\n",
       "      <td>114885</td>\n",
       "      <td>31357.0</td>\n",
       "    </tr>\n",
       "    <tr>\n",
       "      <th>4</th>\n",
       "      <td>5</td>\n",
       "      <td>113041</td>\n",
       "      <td>11862.0</td>\n",
       "    </tr>\n",
       "  </tbody>\n",
       "</table>\n",
       "</div>"
      ],
      "text/plain": [
       "   movieId  imdbId   tmdbId\n",
       "0        1  114709    862.0\n",
       "1        2  113497   8844.0\n",
       "2        3  113228  15602.0\n",
       "3        4  114885  31357.0\n",
       "4        5  113041  11862.0"
      ]
     },
     "execution_count": 130,
     "metadata": {},
     "output_type": "execute_result"
    }
   ],
   "source": [
    "links.head()"
   ]
  },
  {
   "cell_type": "code",
   "execution_count": null,
   "metadata": {},
   "outputs": [],
   "source": []
  },
  {
   "cell_type": "code",
   "execution_count": 131,
   "metadata": {},
   "outputs": [],
   "source": [
    "links = links[['tmdbId','imdbId']]"
   ]
  },
  {
   "cell_type": "code",
   "execution_count": 132,
   "metadata": {},
   "outputs": [],
   "source": [
    "links.columns = ['id','imdbid']"
   ]
  },
  {
   "cell_type": "code",
   "execution_count": 133,
   "metadata": {},
   "outputs": [
    {
     "data": {
      "text/html": [
       "<div>\n",
       "<style scoped>\n",
       "    .dataframe tbody tr th:only-of-type {\n",
       "        vertical-align: middle;\n",
       "    }\n",
       "\n",
       "    .dataframe tbody tr th {\n",
       "        vertical-align: top;\n",
       "    }\n",
       "\n",
       "    .dataframe thead th {\n",
       "        text-align: right;\n",
       "    }\n",
       "</style>\n",
       "<table border=\"1\" class=\"dataframe\">\n",
       "  <thead>\n",
       "    <tr style=\"text-align: right;\">\n",
       "      <th></th>\n",
       "      <th>id</th>\n",
       "      <th>imdbid</th>\n",
       "    </tr>\n",
       "  </thead>\n",
       "  <tbody>\n",
       "    <tr>\n",
       "      <th>0</th>\n",
       "      <td>862.0</td>\n",
       "      <td>114709</td>\n",
       "    </tr>\n",
       "    <tr>\n",
       "      <th>1</th>\n",
       "      <td>8844.0</td>\n",
       "      <td>113497</td>\n",
       "    </tr>\n",
       "    <tr>\n",
       "      <th>2</th>\n",
       "      <td>15602.0</td>\n",
       "      <td>113228</td>\n",
       "    </tr>\n",
       "    <tr>\n",
       "      <th>3</th>\n",
       "      <td>31357.0</td>\n",
       "      <td>114885</td>\n",
       "    </tr>\n",
       "    <tr>\n",
       "      <th>4</th>\n",
       "      <td>11862.0</td>\n",
       "      <td>113041</td>\n",
       "    </tr>\n",
       "  </tbody>\n",
       "</table>\n",
       "</div>"
      ],
      "text/plain": [
       "        id  imdbid\n",
       "0    862.0  114709\n",
       "1   8844.0  113497\n",
       "2  15602.0  113228\n",
       "3  31357.0  114885\n",
       "4  11862.0  113041"
      ]
     },
     "execution_count": 133,
     "metadata": {},
     "output_type": "execute_result"
    }
   ],
   "source": [
    "links.head()"
   ]
  },
  {
   "cell_type": "code",
   "execution_count": 134,
   "metadata": {},
   "outputs": [
    {
     "data": {
      "text/plain": [
       "id        219\n",
       "imdbid      0\n",
       "dtype: int64"
      ]
     },
     "execution_count": 134,
     "metadata": {},
     "output_type": "execute_result"
    }
   ],
   "source": [
    "links.isnull().sum()"
   ]
  },
  {
   "cell_type": "code",
   "execution_count": 135,
   "metadata": {},
   "outputs": [],
   "source": [
    "links.dropna(inplace = True)"
   ]
  },
  {
   "cell_type": "code",
   "execution_count": 136,
   "metadata": {},
   "outputs": [
    {
     "name": "stdout",
     "output_type": "stream",
     "text": [
      "<class 'pandas.core.frame.DataFrame'>\n",
      "Index: 45624 entries, 0 to 45842\n",
      "Data columns (total 2 columns):\n",
      " #   Column  Non-Null Count  Dtype  \n",
      "---  ------  --------------  -----  \n",
      " 0   id      45624 non-null  float64\n",
      " 1   imdbid  45624 non-null  int64  \n",
      "dtypes: float64(1), int64(1)\n",
      "memory usage: 1.0 MB\n"
     ]
    }
   ],
   "source": [
    "links.info()"
   ]
  },
  {
   "cell_type": "code",
   "execution_count": 137,
   "metadata": {},
   "outputs": [],
   "source": [
    "links['id'] = links['id'].astype(int)"
   ]
  },
  {
   "cell_type": "code",
   "execution_count": 138,
   "metadata": {},
   "outputs": [
    {
     "data": {
      "text/html": [
       "<div>\n",
       "<style scoped>\n",
       "    .dataframe tbody tr th:only-of-type {\n",
       "        vertical-align: middle;\n",
       "    }\n",
       "\n",
       "    .dataframe tbody tr th {\n",
       "        vertical-align: top;\n",
       "    }\n",
       "\n",
       "    .dataframe thead th {\n",
       "        text-align: right;\n",
       "    }\n",
       "</style>\n",
       "<table border=\"1\" class=\"dataframe\">\n",
       "  <thead>\n",
       "    <tr style=\"text-align: right;\">\n",
       "      <th></th>\n",
       "      <th>id</th>\n",
       "      <th>imdbid</th>\n",
       "    </tr>\n",
       "  </thead>\n",
       "  <tbody>\n",
       "    <tr>\n",
       "      <th>0</th>\n",
       "      <td>862</td>\n",
       "      <td>114709</td>\n",
       "    </tr>\n",
       "    <tr>\n",
       "      <th>1</th>\n",
       "      <td>8844</td>\n",
       "      <td>113497</td>\n",
       "    </tr>\n",
       "    <tr>\n",
       "      <th>2</th>\n",
       "      <td>15602</td>\n",
       "      <td>113228</td>\n",
       "    </tr>\n",
       "    <tr>\n",
       "      <th>3</th>\n",
       "      <td>31357</td>\n",
       "      <td>114885</td>\n",
       "    </tr>\n",
       "    <tr>\n",
       "      <th>4</th>\n",
       "      <td>11862</td>\n",
       "      <td>113041</td>\n",
       "    </tr>\n",
       "  </tbody>\n",
       "</table>\n",
       "</div>"
      ],
      "text/plain": [
       "      id  imdbid\n",
       "0    862  114709\n",
       "1   8844  113497\n",
       "2  15602  113228\n",
       "3  31357  114885\n",
       "4  11862  113041"
      ]
     },
     "execution_count": 138,
     "metadata": {},
     "output_type": "execute_result"
    }
   ],
   "source": [
    "links.head()"
   ]
  },
  {
   "cell_type": "code",
   "execution_count": 139,
   "metadata": {},
   "outputs": [
    {
     "data": {
      "text/plain": [
       "30"
      ]
     },
     "execution_count": 139,
     "metadata": {},
     "output_type": "execute_result"
    }
   ],
   "source": [
    "links['id'].duplicated().sum()"
   ]
  },
  {
   "cell_type": "code",
   "execution_count": 140,
   "metadata": {},
   "outputs": [],
   "source": [
    "links.drop_duplicates(subset = 'id' , inplace = True)"
   ]
  },
  {
   "cell_type": "code",
   "execution_count": null,
   "metadata": {},
   "outputs": [],
   "source": []
  },
  {
   "cell_type": "code",
   "execution_count": 141,
   "metadata": {},
   "outputs": [
    {
     "name": "stdout",
     "output_type": "stream",
     "text": [
      "<class 'pandas.core.frame.DataFrame'>\n",
      "Index: 4076 entries, 0 to 4106\n",
      "Data columns (total 5 columns):\n",
      " #   Column        Non-Null Count  Dtype  \n",
      "---  ------        --------------  -----  \n",
      " 0   id            4076 non-null   object \n",
      " 1   title         4076 non-null   object \n",
      " 2   genres        4076 non-null   object \n",
      " 3   overview      4076 non-null   object \n",
      " 4   vote_average  4076 non-null   float64\n",
      "dtypes: float64(1), object(4)\n",
      "memory usage: 320.1+ KB\n"
     ]
    }
   ],
   "source": [
    "movies.info()"
   ]
  },
  {
   "cell_type": "code",
   "execution_count": 142,
   "metadata": {},
   "outputs": [],
   "source": [
    "movies['id'] = movies['id'].astype(int)"
   ]
  },
  {
   "cell_type": "code",
   "execution_count": 143,
   "metadata": {},
   "outputs": [
    {
     "name": "stdout",
     "output_type": "stream",
     "text": [
      "<class 'pandas.core.frame.DataFrame'>\n",
      "Index: 4076 entries, 0 to 4106\n",
      "Data columns (total 5 columns):\n",
      " #   Column        Non-Null Count  Dtype  \n",
      "---  ------        --------------  -----  \n",
      " 0   id            4076 non-null   int32  \n",
      " 1   title         4076 non-null   object \n",
      " 2   genres        4076 non-null   object \n",
      " 3   overview      4076 non-null   object \n",
      " 4   vote_average  4076 non-null   float64\n",
      "dtypes: float64(1), int32(1), object(3)\n",
      "memory usage: 304.2+ KB\n"
     ]
    }
   ],
   "source": [
    "movies.info()"
   ]
  },
  {
   "cell_type": "code",
   "execution_count": 144,
   "metadata": {},
   "outputs": [
    {
     "name": "stdout",
     "output_type": "stream",
     "text": [
      "<class 'pandas.core.frame.DataFrame'>\n",
      "Index: 45432 entries, 0 to 45475\n",
      "Data columns (total 3 columns):\n",
      " #   Column  Non-Null Count  Dtype \n",
      "---  ------  --------------  ----- \n",
      " 0   cast    45432 non-null  object\n",
      " 1   crew    45432 non-null  object\n",
      " 2   id      45432 non-null  int64 \n",
      "dtypes: int64(1), object(2)\n",
      "memory usage: 2.4+ MB\n"
     ]
    }
   ],
   "source": [
    "credits.info()"
   ]
  },
  {
   "cell_type": "code",
   "execution_count": 145,
   "metadata": {},
   "outputs": [
    {
     "data": {
      "text/plain": [
       "(4076, 5)"
      ]
     },
     "execution_count": 145,
     "metadata": {},
     "output_type": "execute_result"
    }
   ],
   "source": [
    "movies.shape"
   ]
  },
  {
   "cell_type": "code",
   "execution_count": 146,
   "metadata": {},
   "outputs": [],
   "source": [
    "data = pd.merge(movies,credits,on='id')"
   ]
  },
  {
   "cell_type": "code",
   "execution_count": 147,
   "metadata": {},
   "outputs": [
    {
     "data": {
      "text/plain": [
       "(4076, 7)"
      ]
     },
     "execution_count": 147,
     "metadata": {},
     "output_type": "execute_result"
    }
   ],
   "source": [
    "data.shape"
   ]
  },
  {
   "cell_type": "code",
   "execution_count": 148,
   "metadata": {},
   "outputs": [],
   "source": [
    "data = data.merge(keywords , on='id')"
   ]
  },
  {
   "cell_type": "code",
   "execution_count": 149,
   "metadata": {},
   "outputs": [
    {
     "data": {
      "text/plain": [
       "(4076, 8)"
      ]
     },
     "execution_count": 149,
     "metadata": {},
     "output_type": "execute_result"
    }
   ],
   "source": [
    "data.shape"
   ]
  },
  {
   "cell_type": "code",
   "execution_count": 150,
   "metadata": {},
   "outputs": [],
   "source": [
    "data = data.merge(links , on='id')"
   ]
  },
  {
   "cell_type": "code",
   "execution_count": 151,
   "metadata": {},
   "outputs": [
    {
     "data": {
      "text/plain": [
       "(4076, 9)"
      ]
     },
     "execution_count": 151,
     "metadata": {},
     "output_type": "execute_result"
    }
   ],
   "source": [
    "data.shape"
   ]
  },
  {
   "cell_type": "code",
   "execution_count": 152,
   "metadata": {},
   "outputs": [],
   "source": [
    "#"
   ]
  },
  {
   "cell_type": "code",
   "execution_count": 153,
   "metadata": {},
   "outputs": [
    {
     "data": {
      "text/html": [
       "<div>\n",
       "<style scoped>\n",
       "    .dataframe tbody tr th:only-of-type {\n",
       "        vertical-align: middle;\n",
       "    }\n",
       "\n",
       "    .dataframe tbody tr th {\n",
       "        vertical-align: top;\n",
       "    }\n",
       "\n",
       "    .dataframe thead th {\n",
       "        text-align: right;\n",
       "    }\n",
       "</style>\n",
       "<table border=\"1\" class=\"dataframe\">\n",
       "  <thead>\n",
       "    <tr style=\"text-align: right;\">\n",
       "      <th></th>\n",
       "      <th>id</th>\n",
       "      <th>title</th>\n",
       "      <th>genres</th>\n",
       "      <th>overview</th>\n",
       "      <th>vote_average</th>\n",
       "      <th>cast</th>\n",
       "      <th>crew</th>\n",
       "      <th>keywords</th>\n",
       "      <th>imdbid</th>\n",
       "    </tr>\n",
       "  </thead>\n",
       "  <tbody>\n",
       "    <tr>\n",
       "      <th>0</th>\n",
       "      <td>79782</td>\n",
       "      <td>Venice</td>\n",
       "      <td>[Drama, Romance]</td>\n",
       "      <td>[An, atmospheric, coming-of-age, story, featur...</td>\n",
       "      <td>7.5</td>\n",
       "      <td>[Marcin Walewski, Magdalena Cielecka, Mariusz ...</td>\n",
       "      <td>[Jan Jakub Kolski]</td>\n",
       "      <td>[]</td>\n",
       "      <td>105729</td>\n",
       "    </tr>\n",
       "    <tr>\n",
       "      <th>1</th>\n",
       "      <td>480</td>\n",
       "      <td>Monsoon Wedding</td>\n",
       "      <td>[Comedy, Drama, Romance]</td>\n",
       "      <td>[From, an, exciting, Indian, wedding, comes, a...</td>\n",
       "      <td>6.8</td>\n",
       "      <td>[Naseeruddin Shah, Lillete Dubey, Vijay Raaz, ...</td>\n",
       "      <td>[Mira Nair]</td>\n",
       "      <td>[child abuse, adultery, arranged marriage, bol...</td>\n",
       "      <td>265343</td>\n",
       "    </tr>\n",
       "    <tr>\n",
       "      <th>2</th>\n",
       "      <td>4435</td>\n",
       "      <td>Asoka</td>\n",
       "      <td>[Drama, History]</td>\n",
       "      <td>[In, India,, about, 260, BC, in, the, Empire, ...</td>\n",
       "      <td>5.8</td>\n",
       "      <td>[Shah Rukh Khan, Kareena Kapoor, Ajith Kumar, ...</td>\n",
       "      <td>[]</td>\n",
       "      <td>[buddhism, emperor, commander, reue, india, an...</td>\n",
       "      <td>249371</td>\n",
       "    </tr>\n",
       "    <tr>\n",
       "      <th>3</th>\n",
       "      <td>7504</td>\n",
       "      <td>Earth</td>\n",
       "      <td>[Drama]</td>\n",
       "      <td>[It's, 1947, and, the, borderlines, between, I...</td>\n",
       "      <td>6.6</td>\n",
       "      <td>[Aamir Khan, Nandita Das, Maia Sethna, Kitu Gi...</td>\n",
       "      <td>[Deepa Mehta]</td>\n",
       "      <td>[based on novel, war of independence, period d...</td>\n",
       "      <td>150433</td>\n",
       "    </tr>\n",
       "    <tr>\n",
       "      <th>4</th>\n",
       "      <td>19666</td>\n",
       "      <td>Lagaan: Once Upon a Time in India</td>\n",
       "      <td>[Adventure, Drama, Music, Romance]</td>\n",
       "      <td>[Lagaan, tells, the, tale, of, the, Indian, vi...</td>\n",
       "      <td>7.2</td>\n",
       "      <td>[Aamir Khan, Gracy Singh, Rachel Shelley, Paul...</td>\n",
       "      <td>[]</td>\n",
       "      <td>[sport, british, bollywood, arrogance, based o...</td>\n",
       "      <td>282674</td>\n",
       "    </tr>\n",
       "  </tbody>\n",
       "</table>\n",
       "</div>"
      ],
      "text/plain": [
       "      id                              title  \\\n",
       "0  79782                             Venice   \n",
       "1    480                    Monsoon Wedding   \n",
       "2   4435                              Asoka   \n",
       "3   7504                              Earth   \n",
       "4  19666  Lagaan: Once Upon a Time in India   \n",
       "\n",
       "                               genres  \\\n",
       "0                    [Drama, Romance]   \n",
       "1            [Comedy, Drama, Romance]   \n",
       "2                    [Drama, History]   \n",
       "3                             [Drama]   \n",
       "4  [Adventure, Drama, Music, Romance]   \n",
       "\n",
       "                                            overview  vote_average  \\\n",
       "0  [An, atmospheric, coming-of-age, story, featur...           7.5   \n",
       "1  [From, an, exciting, Indian, wedding, comes, a...           6.8   \n",
       "2  [In, India,, about, 260, BC, in, the, Empire, ...           5.8   \n",
       "3  [It's, 1947, and, the, borderlines, between, I...           6.6   \n",
       "4  [Lagaan, tells, the, tale, of, the, Indian, vi...           7.2   \n",
       "\n",
       "                                                cast                crew  \\\n",
       "0  [Marcin Walewski, Magdalena Cielecka, Mariusz ...  [Jan Jakub Kolski]   \n",
       "1  [Naseeruddin Shah, Lillete Dubey, Vijay Raaz, ...         [Mira Nair]   \n",
       "2  [Shah Rukh Khan, Kareena Kapoor, Ajith Kumar, ...                  []   \n",
       "3  [Aamir Khan, Nandita Das, Maia Sethna, Kitu Gi...       [Deepa Mehta]   \n",
       "4  [Aamir Khan, Gracy Singh, Rachel Shelley, Paul...                  []   \n",
       "\n",
       "                                            keywords  imdbid  \n",
       "0                                                 []  105729  \n",
       "1  [child abuse, adultery, arranged marriage, bol...  265343  \n",
       "2  [buddhism, emperor, commander, reue, india, an...  249371  \n",
       "3  [based on novel, war of independence, period d...  150433  \n",
       "4  [sport, british, bollywood, arrogance, based o...  282674  "
      ]
     },
     "execution_count": 153,
     "metadata": {},
     "output_type": "execute_result"
    }
   ],
   "source": [
    "data.head()"
   ]
  },
  {
   "cell_type": "code",
   "execution_count": 154,
   "metadata": {},
   "outputs": [],
   "source": [
    "data = data[['id','title','genres','cast','crew','keywords','overview','vote_average','imdbid']]"
   ]
  },
  {
   "cell_type": "code",
   "execution_count": 155,
   "metadata": {},
   "outputs": [
    {
     "data": {
      "text/html": [
       "<div>\n",
       "<style scoped>\n",
       "    .dataframe tbody tr th:only-of-type {\n",
       "        vertical-align: middle;\n",
       "    }\n",
       "\n",
       "    .dataframe tbody tr th {\n",
       "        vertical-align: top;\n",
       "    }\n",
       "\n",
       "    .dataframe thead th {\n",
       "        text-align: right;\n",
       "    }\n",
       "</style>\n",
       "<table border=\"1\" class=\"dataframe\">\n",
       "  <thead>\n",
       "    <tr style=\"text-align: right;\">\n",
       "      <th></th>\n",
       "      <th>id</th>\n",
       "      <th>title</th>\n",
       "      <th>genres</th>\n",
       "      <th>cast</th>\n",
       "      <th>crew</th>\n",
       "      <th>keywords</th>\n",
       "      <th>overview</th>\n",
       "      <th>vote_average</th>\n",
       "      <th>imdbid</th>\n",
       "    </tr>\n",
       "  </thead>\n",
       "  <tbody>\n",
       "    <tr>\n",
       "      <th>0</th>\n",
       "      <td>79782</td>\n",
       "      <td>Venice</td>\n",
       "      <td>[Drama, Romance]</td>\n",
       "      <td>[Marcin Walewski, Magdalena Cielecka, Mariusz ...</td>\n",
       "      <td>[Jan Jakub Kolski]</td>\n",
       "      <td>[]</td>\n",
       "      <td>[An, atmospheric, coming-of-age, story, featur...</td>\n",
       "      <td>7.5</td>\n",
       "      <td>105729</td>\n",
       "    </tr>\n",
       "    <tr>\n",
       "      <th>1</th>\n",
       "      <td>480</td>\n",
       "      <td>Monsoon Wedding</td>\n",
       "      <td>[Comedy, Drama, Romance]</td>\n",
       "      <td>[Naseeruddin Shah, Lillete Dubey, Vijay Raaz, ...</td>\n",
       "      <td>[Mira Nair]</td>\n",
       "      <td>[child abuse, adultery, arranged marriage, bol...</td>\n",
       "      <td>[From, an, exciting, Indian, wedding, comes, a...</td>\n",
       "      <td>6.8</td>\n",
       "      <td>265343</td>\n",
       "    </tr>\n",
       "    <tr>\n",
       "      <th>2</th>\n",
       "      <td>4435</td>\n",
       "      <td>Asoka</td>\n",
       "      <td>[Drama, History]</td>\n",
       "      <td>[Shah Rukh Khan, Kareena Kapoor, Ajith Kumar, ...</td>\n",
       "      <td>[]</td>\n",
       "      <td>[buddhism, emperor, commander, reue, india, an...</td>\n",
       "      <td>[In, India,, about, 260, BC, in, the, Empire, ...</td>\n",
       "      <td>5.8</td>\n",
       "      <td>249371</td>\n",
       "    </tr>\n",
       "    <tr>\n",
       "      <th>3</th>\n",
       "      <td>7504</td>\n",
       "      <td>Earth</td>\n",
       "      <td>[Drama]</td>\n",
       "      <td>[Aamir Khan, Nandita Das, Maia Sethna, Kitu Gi...</td>\n",
       "      <td>[Deepa Mehta]</td>\n",
       "      <td>[based on novel, war of independence, period d...</td>\n",
       "      <td>[It's, 1947, and, the, borderlines, between, I...</td>\n",
       "      <td>6.6</td>\n",
       "      <td>150433</td>\n",
       "    </tr>\n",
       "    <tr>\n",
       "      <th>4</th>\n",
       "      <td>19666</td>\n",
       "      <td>Lagaan: Once Upon a Time in India</td>\n",
       "      <td>[Adventure, Drama, Music, Romance]</td>\n",
       "      <td>[Aamir Khan, Gracy Singh, Rachel Shelley, Paul...</td>\n",
       "      <td>[]</td>\n",
       "      <td>[sport, british, bollywood, arrogance, based o...</td>\n",
       "      <td>[Lagaan, tells, the, tale, of, the, Indian, vi...</td>\n",
       "      <td>7.2</td>\n",
       "      <td>282674</td>\n",
       "    </tr>\n",
       "  </tbody>\n",
       "</table>\n",
       "</div>"
      ],
      "text/plain": [
       "      id                              title  \\\n",
       "0  79782                             Venice   \n",
       "1    480                    Monsoon Wedding   \n",
       "2   4435                              Asoka   \n",
       "3   7504                              Earth   \n",
       "4  19666  Lagaan: Once Upon a Time in India   \n",
       "\n",
       "                               genres  \\\n",
       "0                    [Drama, Romance]   \n",
       "1            [Comedy, Drama, Romance]   \n",
       "2                    [Drama, History]   \n",
       "3                             [Drama]   \n",
       "4  [Adventure, Drama, Music, Romance]   \n",
       "\n",
       "                                                cast                crew  \\\n",
       "0  [Marcin Walewski, Magdalena Cielecka, Mariusz ...  [Jan Jakub Kolski]   \n",
       "1  [Naseeruddin Shah, Lillete Dubey, Vijay Raaz, ...         [Mira Nair]   \n",
       "2  [Shah Rukh Khan, Kareena Kapoor, Ajith Kumar, ...                  []   \n",
       "3  [Aamir Khan, Nandita Das, Maia Sethna, Kitu Gi...       [Deepa Mehta]   \n",
       "4  [Aamir Khan, Gracy Singh, Rachel Shelley, Paul...                  []   \n",
       "\n",
       "                                            keywords  \\\n",
       "0                                                 []   \n",
       "1  [child abuse, adultery, arranged marriage, bol...   \n",
       "2  [buddhism, emperor, commander, reue, india, an...   \n",
       "3  [based on novel, war of independence, period d...   \n",
       "4  [sport, british, bollywood, arrogance, based o...   \n",
       "\n",
       "                                            overview  vote_average  imdbid  \n",
       "0  [An, atmospheric, coming-of-age, story, featur...           7.5  105729  \n",
       "1  [From, an, exciting, Indian, wedding, comes, a...           6.8  265343  \n",
       "2  [In, India,, about, 260, BC, in, the, Empire, ...           5.8  249371  \n",
       "3  [It's, 1947, and, the, borderlines, between, I...           6.6  150433  \n",
       "4  [Lagaan, tells, the, tale, of, the, Indian, vi...           7.2  282674  "
      ]
     },
     "execution_count": 155,
     "metadata": {},
     "output_type": "execute_result"
    }
   ],
   "source": [
    "data.head()"
   ]
  },
  {
   "cell_type": "code",
   "execution_count": null,
   "metadata": {},
   "outputs": [],
   "source": []
  },
  {
   "cell_type": "code",
   "execution_count": 156,
   "metadata": {},
   "outputs": [
    {
     "data": {
      "text/plain": [
       "id              0\n",
       "title           0\n",
       "genres          0\n",
       "cast            0\n",
       "crew            0\n",
       "keywords        0\n",
       "overview        0\n",
       "vote_average    0\n",
       "imdbid          0\n",
       "dtype: int64"
      ]
     },
     "execution_count": 156,
     "metadata": {},
     "output_type": "execute_result"
    }
   ],
   "source": [
    "data.isnull().sum()"
   ]
  },
  {
   "cell_type": "code",
   "execution_count": null,
   "metadata": {},
   "outputs": [],
   "source": []
  },
  {
   "cell_type": "code",
   "execution_count": 157,
   "metadata": {},
   "outputs": [],
   "source": [
    "app_data = data.copy()"
   ]
  },
  {
   "cell_type": "code",
   "execution_count": 158,
   "metadata": {},
   "outputs": [],
   "source": [
    "# app_data.to_csv('data.csv')"
   ]
  },
  {
   "cell_type": "code",
   "execution_count": 159,
   "metadata": {},
   "outputs": [],
   "source": [
    "data['genres'] = data['genres'].apply(lambda x : [y.replace(' ','') for y in x])"
   ]
  },
  {
   "cell_type": "code",
   "execution_count": 160,
   "metadata": {},
   "outputs": [],
   "source": [
    "data['cast'] = data['cast'].apply(lambda x : [y.replace(' ','') for y in x])"
   ]
  },
  {
   "cell_type": "code",
   "execution_count": 161,
   "metadata": {},
   "outputs": [],
   "source": [
    "data['crew'] = data['crew'].apply(lambda x : [y.replace(' ','') for y in x])"
   ]
  },
  {
   "cell_type": "code",
   "execution_count": 162,
   "metadata": {},
   "outputs": [],
   "source": [
    "data['keywords'] = data['keywords'].apply(lambda x : [y.replace(' ','') for y in x])"
   ]
  },
  {
   "cell_type": "code",
   "execution_count": 163,
   "metadata": {},
   "outputs": [
    {
     "data": {
      "text/html": [
       "<div>\n",
       "<style scoped>\n",
       "    .dataframe tbody tr th:only-of-type {\n",
       "        vertical-align: middle;\n",
       "    }\n",
       "\n",
       "    .dataframe tbody tr th {\n",
       "        vertical-align: top;\n",
       "    }\n",
       "\n",
       "    .dataframe thead th {\n",
       "        text-align: right;\n",
       "    }\n",
       "</style>\n",
       "<table border=\"1\" class=\"dataframe\">\n",
       "  <thead>\n",
       "    <tr style=\"text-align: right;\">\n",
       "      <th></th>\n",
       "      <th>id</th>\n",
       "      <th>title</th>\n",
       "      <th>genres</th>\n",
       "      <th>cast</th>\n",
       "      <th>crew</th>\n",
       "      <th>keywords</th>\n",
       "      <th>overview</th>\n",
       "      <th>vote_average</th>\n",
       "      <th>imdbid</th>\n",
       "    </tr>\n",
       "  </thead>\n",
       "  <tbody>\n",
       "    <tr>\n",
       "      <th>0</th>\n",
       "      <td>79782</td>\n",
       "      <td>Venice</td>\n",
       "      <td>[Drama, Romance]</td>\n",
       "      <td>[MarcinWalewski, MagdalenaCielecka, MariuszBon...</td>\n",
       "      <td>[JanJakubKolski]</td>\n",
       "      <td>[]</td>\n",
       "      <td>[An, atmospheric, coming-of-age, story, featur...</td>\n",
       "      <td>7.5</td>\n",
       "      <td>105729</td>\n",
       "    </tr>\n",
       "    <tr>\n",
       "      <th>1</th>\n",
       "      <td>480</td>\n",
       "      <td>Monsoon Wedding</td>\n",
       "      <td>[Comedy, Drama, Romance]</td>\n",
       "      <td>[NaseeruddinShah, LilleteDubey, VijayRaaz, Til...</td>\n",
       "      <td>[MiraNair]</td>\n",
       "      <td>[childabuse, adultery, arrangedmarriage, bolly...</td>\n",
       "      <td>[From, an, exciting, Indian, wedding, comes, a...</td>\n",
       "      <td>6.8</td>\n",
       "      <td>265343</td>\n",
       "    </tr>\n",
       "    <tr>\n",
       "      <th>2</th>\n",
       "      <td>4435</td>\n",
       "      <td>Asoka</td>\n",
       "      <td>[Drama, History]</td>\n",
       "      <td>[ShahRukhKhan, KareenaKapoor, AjithKumar, Dann...</td>\n",
       "      <td>[]</td>\n",
       "      <td>[buddhism, emperor, commander, reue, india, an...</td>\n",
       "      <td>[In, India,, about, 260, BC, in, the, Empire, ...</td>\n",
       "      <td>5.8</td>\n",
       "      <td>249371</td>\n",
       "    </tr>\n",
       "    <tr>\n",
       "      <th>3</th>\n",
       "      <td>7504</td>\n",
       "      <td>Earth</td>\n",
       "      <td>[Drama]</td>\n",
       "      <td>[AamirKhan, NanditaDas, MaiaSethna, KituGidwani]</td>\n",
       "      <td>[DeepaMehta]</td>\n",
       "      <td>[basedonnovel, warofindependence, perioddrama,...</td>\n",
       "      <td>[It's, 1947, and, the, borderlines, between, I...</td>\n",
       "      <td>6.6</td>\n",
       "      <td>150433</td>\n",
       "    </tr>\n",
       "    <tr>\n",
       "      <th>4</th>\n",
       "      <td>19666</td>\n",
       "      <td>Lagaan: Once Upon a Time in India</td>\n",
       "      <td>[Adventure, Drama, Music, Romance]</td>\n",
       "      <td>[AamirKhan, GracySingh, RachelShelley, PaulBla...</td>\n",
       "      <td>[]</td>\n",
       "      <td>[sport, british, bollywood, arrogance, basedon...</td>\n",
       "      <td>[Lagaan, tells, the, tale, of, the, Indian, vi...</td>\n",
       "      <td>7.2</td>\n",
       "      <td>282674</td>\n",
       "    </tr>\n",
       "  </tbody>\n",
       "</table>\n",
       "</div>"
      ],
      "text/plain": [
       "      id                              title  \\\n",
       "0  79782                             Venice   \n",
       "1    480                    Monsoon Wedding   \n",
       "2   4435                              Asoka   \n",
       "3   7504                              Earth   \n",
       "4  19666  Lagaan: Once Upon a Time in India   \n",
       "\n",
       "                               genres  \\\n",
       "0                    [Drama, Romance]   \n",
       "1            [Comedy, Drama, Romance]   \n",
       "2                    [Drama, History]   \n",
       "3                             [Drama]   \n",
       "4  [Adventure, Drama, Music, Romance]   \n",
       "\n",
       "                                                cast              crew  \\\n",
       "0  [MarcinWalewski, MagdalenaCielecka, MariuszBon...  [JanJakubKolski]   \n",
       "1  [NaseeruddinShah, LilleteDubey, VijayRaaz, Til...        [MiraNair]   \n",
       "2  [ShahRukhKhan, KareenaKapoor, AjithKumar, Dann...                []   \n",
       "3   [AamirKhan, NanditaDas, MaiaSethna, KituGidwani]      [DeepaMehta]   \n",
       "4  [AamirKhan, GracySingh, RachelShelley, PaulBla...                []   \n",
       "\n",
       "                                            keywords  \\\n",
       "0                                                 []   \n",
       "1  [childabuse, adultery, arrangedmarriage, bolly...   \n",
       "2  [buddhism, emperor, commander, reue, india, an...   \n",
       "3  [basedonnovel, warofindependence, perioddrama,...   \n",
       "4  [sport, british, bollywood, arrogance, basedon...   \n",
       "\n",
       "                                            overview  vote_average  imdbid  \n",
       "0  [An, atmospheric, coming-of-age, story, featur...           7.5  105729  \n",
       "1  [From, an, exciting, Indian, wedding, comes, a...           6.8  265343  \n",
       "2  [In, India,, about, 260, BC, in, the, Empire, ...           5.8  249371  \n",
       "3  [It's, 1947, and, the, borderlines, between, I...           6.6  150433  \n",
       "4  [Lagaan, tells, the, tale, of, the, Indian, vi...           7.2  282674  "
      ]
     },
     "execution_count": 163,
     "metadata": {},
     "output_type": "execute_result"
    }
   ],
   "source": [
    "data.head()"
   ]
  },
  {
   "cell_type": "code",
   "execution_count": 164,
   "metadata": {},
   "outputs": [],
   "source": [
    "data['tokens'] = data['cast'] + data['crew'] + data['genres'] + data['keywords'] + data['overview']"
   ]
  },
  {
   "cell_type": "code",
   "execution_count": 165,
   "metadata": {},
   "outputs": [
    {
     "data": {
      "text/html": [
       "<div>\n",
       "<style scoped>\n",
       "    .dataframe tbody tr th:only-of-type {\n",
       "        vertical-align: middle;\n",
       "    }\n",
       "\n",
       "    .dataframe tbody tr th {\n",
       "        vertical-align: top;\n",
       "    }\n",
       "\n",
       "    .dataframe thead th {\n",
       "        text-align: right;\n",
       "    }\n",
       "</style>\n",
       "<table border=\"1\" class=\"dataframe\">\n",
       "  <thead>\n",
       "    <tr style=\"text-align: right;\">\n",
       "      <th></th>\n",
       "      <th>id</th>\n",
       "      <th>title</th>\n",
       "      <th>genres</th>\n",
       "      <th>cast</th>\n",
       "      <th>crew</th>\n",
       "      <th>keywords</th>\n",
       "      <th>overview</th>\n",
       "      <th>vote_average</th>\n",
       "      <th>imdbid</th>\n",
       "      <th>tokens</th>\n",
       "    </tr>\n",
       "  </thead>\n",
       "  <tbody>\n",
       "    <tr>\n",
       "      <th>0</th>\n",
       "      <td>79782</td>\n",
       "      <td>Venice</td>\n",
       "      <td>[Drama, Romance]</td>\n",
       "      <td>[MarcinWalewski, MagdalenaCielecka, MariuszBon...</td>\n",
       "      <td>[JanJakubKolski]</td>\n",
       "      <td>[]</td>\n",
       "      <td>[An, atmospheric, coming-of-age, story, featur...</td>\n",
       "      <td>7.5</td>\n",
       "      <td>105729</td>\n",
       "      <td>[MarcinWalewski, MagdalenaCielecka, MariuszBon...</td>\n",
       "    </tr>\n",
       "    <tr>\n",
       "      <th>1</th>\n",
       "      <td>480</td>\n",
       "      <td>Monsoon Wedding</td>\n",
       "      <td>[Comedy, Drama, Romance]</td>\n",
       "      <td>[NaseeruddinShah, LilleteDubey, VijayRaaz, Til...</td>\n",
       "      <td>[MiraNair]</td>\n",
       "      <td>[childabuse, adultery, arrangedmarriage, bolly...</td>\n",
       "      <td>[From, an, exciting, Indian, wedding, comes, a...</td>\n",
       "      <td>6.8</td>\n",
       "      <td>265343</td>\n",
       "      <td>[NaseeruddinShah, LilleteDubey, VijayRaaz, Til...</td>\n",
       "    </tr>\n",
       "    <tr>\n",
       "      <th>2</th>\n",
       "      <td>4435</td>\n",
       "      <td>Asoka</td>\n",
       "      <td>[Drama, History]</td>\n",
       "      <td>[ShahRukhKhan, KareenaKapoor, AjithKumar, Dann...</td>\n",
       "      <td>[]</td>\n",
       "      <td>[buddhism, emperor, commander, reue, india, an...</td>\n",
       "      <td>[In, India,, about, 260, BC, in, the, Empire, ...</td>\n",
       "      <td>5.8</td>\n",
       "      <td>249371</td>\n",
       "      <td>[ShahRukhKhan, KareenaKapoor, AjithKumar, Dann...</td>\n",
       "    </tr>\n",
       "    <tr>\n",
       "      <th>3</th>\n",
       "      <td>7504</td>\n",
       "      <td>Earth</td>\n",
       "      <td>[Drama]</td>\n",
       "      <td>[AamirKhan, NanditaDas, MaiaSethna, KituGidwani]</td>\n",
       "      <td>[DeepaMehta]</td>\n",
       "      <td>[basedonnovel, warofindependence, perioddrama,...</td>\n",
       "      <td>[It's, 1947, and, the, borderlines, between, I...</td>\n",
       "      <td>6.6</td>\n",
       "      <td>150433</td>\n",
       "      <td>[AamirKhan, NanditaDas, MaiaSethna, KituGidwan...</td>\n",
       "    </tr>\n",
       "    <tr>\n",
       "      <th>4</th>\n",
       "      <td>19666</td>\n",
       "      <td>Lagaan: Once Upon a Time in India</td>\n",
       "      <td>[Adventure, Drama, Music, Romance]</td>\n",
       "      <td>[AamirKhan, GracySingh, RachelShelley, PaulBla...</td>\n",
       "      <td>[]</td>\n",
       "      <td>[sport, british, bollywood, arrogance, basedon...</td>\n",
       "      <td>[Lagaan, tells, the, tale, of, the, Indian, vi...</td>\n",
       "      <td>7.2</td>\n",
       "      <td>282674</td>\n",
       "      <td>[AamirKhan, GracySingh, RachelShelley, PaulBla...</td>\n",
       "    </tr>\n",
       "  </tbody>\n",
       "</table>\n",
       "</div>"
      ],
      "text/plain": [
       "      id                              title  \\\n",
       "0  79782                             Venice   \n",
       "1    480                    Monsoon Wedding   \n",
       "2   4435                              Asoka   \n",
       "3   7504                              Earth   \n",
       "4  19666  Lagaan: Once Upon a Time in India   \n",
       "\n",
       "                               genres  \\\n",
       "0                    [Drama, Romance]   \n",
       "1            [Comedy, Drama, Romance]   \n",
       "2                    [Drama, History]   \n",
       "3                             [Drama]   \n",
       "4  [Adventure, Drama, Music, Romance]   \n",
       "\n",
       "                                                cast              crew  \\\n",
       "0  [MarcinWalewski, MagdalenaCielecka, MariuszBon...  [JanJakubKolski]   \n",
       "1  [NaseeruddinShah, LilleteDubey, VijayRaaz, Til...        [MiraNair]   \n",
       "2  [ShahRukhKhan, KareenaKapoor, AjithKumar, Dann...                []   \n",
       "3   [AamirKhan, NanditaDas, MaiaSethna, KituGidwani]      [DeepaMehta]   \n",
       "4  [AamirKhan, GracySingh, RachelShelley, PaulBla...                []   \n",
       "\n",
       "                                            keywords  \\\n",
       "0                                                 []   \n",
       "1  [childabuse, adultery, arrangedmarriage, bolly...   \n",
       "2  [buddhism, emperor, commander, reue, india, an...   \n",
       "3  [basedonnovel, warofindependence, perioddrama,...   \n",
       "4  [sport, british, bollywood, arrogance, basedon...   \n",
       "\n",
       "                                            overview  vote_average  imdbid  \\\n",
       "0  [An, atmospheric, coming-of-age, story, featur...           7.5  105729   \n",
       "1  [From, an, exciting, Indian, wedding, comes, a...           6.8  265343   \n",
       "2  [In, India,, about, 260, BC, in, the, Empire, ...           5.8  249371   \n",
       "3  [It's, 1947, and, the, borderlines, between, I...           6.6  150433   \n",
       "4  [Lagaan, tells, the, tale, of, the, Indian, vi...           7.2  282674   \n",
       "\n",
       "                                              tokens  \n",
       "0  [MarcinWalewski, MagdalenaCielecka, MariuszBon...  \n",
       "1  [NaseeruddinShah, LilleteDubey, VijayRaaz, Til...  \n",
       "2  [ShahRukhKhan, KareenaKapoor, AjithKumar, Dann...  \n",
       "3  [AamirKhan, NanditaDas, MaiaSethna, KituGidwan...  \n",
       "4  [AamirKhan, GracySingh, RachelShelley, PaulBla...  "
      ]
     },
     "execution_count": 165,
     "metadata": {},
     "output_type": "execute_result"
    }
   ],
   "source": [
    "data.head()"
   ]
  },
  {
   "cell_type": "code",
   "execution_count": 166,
   "metadata": {},
   "outputs": [],
   "source": [
    "data['tokens'] = data['tokens'].apply(lambda x: ' '.join(x))"
   ]
  },
  {
   "cell_type": "code",
   "execution_count": 167,
   "metadata": {},
   "outputs": [],
   "source": [
    "data['tokens'] = data['tokens'].apply(lambda x: x.lower())"
   ]
  },
  {
   "cell_type": "code",
   "execution_count": 168,
   "metadata": {},
   "outputs": [
    {
     "data": {
      "text/plain": [
       "\"ewanmcgregor natalieportman haydenchristensen ianmcdiarmid sciencefiction adventure action showdown deathstar vision cultfigure hatred dreamsequence expectantmother spaceopera chancel childbirth galacticwar years after the onset of the clone wars, the noble jedi knights lead a massive clone army into a galaxy-wide battle against the separatists. when the sinister sith unveil a thousand-year-old plot to rule the galaxy, the republic crumbles and from its ashes rises the evil galactic empire. jedi hero anakin skywalker is seduced by the dark side of the force to become the emperor's new apprentice – darth vader. the jedi are decimated, as obi-wan kenobi and jedi master yoda are forced into hiding. the only hope for the galaxy are anakin's own offspring – the twin children born in secrecy who will grow up to become heroes.\""
      ]
     },
     "execution_count": 168,
     "metadata": {},
     "output_type": "execute_result"
    }
   ],
   "source": [
    "data['tokens'][45]"
   ]
  },
  {
   "cell_type": "code",
   "execution_count": 169,
   "metadata": {},
   "outputs": [],
   "source": [
    "X = data['tokens']"
   ]
  },
  {
   "cell_type": "code",
   "execution_count": 170,
   "metadata": {},
   "outputs": [
    {
     "data": {
      "text/plain": [
       "0    marcinwalewski magdalenacielecka mariuszbonasz...\n",
       "1    naseeruddinshah lilletedubey vijayraaz tillota...\n",
       "2    shahrukhkhan kareenakapoor ajithkumar dannyden...\n",
       "3    aamirkhan nanditadas maiasethna kitugidwani de...\n",
       "4    aamirkhan gracysingh rachelshelley paulblackth...\n",
       "Name: tokens, dtype: object"
      ]
     },
     "execution_count": 170,
     "metadata": {},
     "output_type": "execute_result"
    }
   ],
   "source": [
    "X.head()"
   ]
  },
  {
   "cell_type": "code",
   "execution_count": 171,
   "metadata": {},
   "outputs": [],
   "source": [
    "def clean_text(token):\n",
    "    \n",
    "    token = re.sub(r'\\[[0-9]*\\]', ' ',token)\n",
    "    token = re.sub(r'\\s+', ' ', token)\n",
    "    token = re.sub('[^a-zA-Z]', ' ', token )\n",
    "    token = re.sub(r'\\s+', ' ', token)\n",
    "    \n",
    "    return token"
   ]
  },
  {
   "cell_type": "code",
   "execution_count": 172,
   "metadata": {},
   "outputs": [],
   "source": [
    "X = X.apply(clean_text)"
   ]
  },
  {
   "cell_type": "code",
   "execution_count": 173,
   "metadata": {},
   "outputs": [],
   "source": [
    "word = word_tokenize\n",
    "stemmer = PorterStemmer()"
   ]
  },
  {
   "cell_type": "code",
   "execution_count": 174,
   "metadata": {},
   "outputs": [],
   "source": [
    "def stem(token):\n",
    "    token = word(token)\n",
    "    token = [stemmer.stem(x) for x in token]\n",
    "    return ' '.join(token)"
   ]
  },
  {
   "cell_type": "code",
   "execution_count": 175,
   "metadata": {},
   "outputs": [
    {
     "name": "stdout",
     "output_type": "stream",
     "text": [
      "showing info https://raw.githubusercontent.com/nltk/nltk_data/gh-pages/index.xml\n"
     ]
    },
    {
     "data": {
      "text/plain": [
       "True"
      ]
     },
     "execution_count": 175,
     "metadata": {},
     "output_type": "execute_result"
    }
   ],
   "source": [
    "import nltk\n",
    "# nltk.download()"
   ]
  },
  {
   "cell_type": "code",
   "execution_count": 176,
   "metadata": {},
   "outputs": [],
   "source": [
    "X = X.apply(stem)"
   ]
  },
  {
   "cell_type": "markdown",
   "metadata": {},
   "source": [
    "#### Vectorization"
   ]
  },
  {
   "cell_type": "code",
   "execution_count": 177,
   "metadata": {},
   "outputs": [],
   "source": [
    "tfidf = TfidfVectorizer(max_features=10000 , stop_words='english')"
   ]
  },
  {
   "cell_type": "code",
   "execution_count": 178,
   "metadata": {},
   "outputs": [],
   "source": [
    "vectors = tfidf.fit_transform(X).toarray()"
   ]
  },
  {
   "cell_type": "code",
   "execution_count": 179,
   "metadata": {},
   "outputs": [
    {
     "data": {
      "text/plain": [
       "(4076, 10000)"
      ]
     },
     "execution_count": 179,
     "metadata": {},
     "output_type": "execute_result"
    }
   ],
   "source": [
    "vectors.shape"
   ]
  },
  {
   "cell_type": "code",
   "execution_count": 180,
   "metadata": {},
   "outputs": [],
   "source": [
    "similarity = cosine_similarity(vectors)"
   ]
  },
  {
   "cell_type": "code",
   "execution_count": 188,
   "metadata": {},
   "outputs": [
    {
     "data": {
      "text/plain": [
       "(4076, 4076)"
      ]
     },
     "execution_count": 188,
     "metadata": {},
     "output_type": "execute_result"
    }
   ],
   "source": [
    "similarity.shape"
   ]
  },
  {
   "cell_type": "code",
   "execution_count": 181,
   "metadata": {},
   "outputs": [],
   "source": [
    "def recommender(name):\n",
    "\n",
    "    index = data[data['title'] == name].index[0]\n",
    "    top10 = sorted(enumerate(similarity[index]) , reverse=True , key= lambda x : x[1])[1:11]\n",
    "    \n",
    "    for i in top10:\n",
    "        movie = data.iloc[i[0]].title\n",
    "        print(movie)"
   ]
  },
  {
   "cell_type": "code",
   "execution_count": null,
   "metadata": {},
   "outputs": [],
   "source": []
  },
  {
   "cell_type": "code",
   "execution_count": 182,
   "metadata": {},
   "outputs": [],
   "source": [
    "def movie(name):\n",
    "    \n",
    "    name = name.lower()\n",
    "    new_title = [re.sub(r'[^\\w\\s]', '', title.lower()) for title in data['title']]\n",
    "\n",
    "    if name in new_title:\n",
    "        index = new_title.index(name)\n",
    "        recommender(data.iloc[index].title)\n",
    "    else:\n",
    "        print(f'No movie available for \"{name}\"')"
   ]
  },
  {
   "cell_type": "code",
   "execution_count": null,
   "metadata": {},
   "outputs": [],
   "source": []
  },
  {
   "cell_type": "code",
   "execution_count": 183,
   "metadata": {},
   "outputs": [
    {
     "name": "stdout",
     "output_type": "stream",
     "text": [
      "Thor: The Dark World\n",
      "Avengers: Age of Ultron\n",
      "Doctor Strange\n",
      "The Avengers\n",
      "Kon-Tiki\n",
      "Jack the Giant Slayer\n",
      "Man of Steel\n",
      "Guardians of the Galaxy\n",
      "Hellboy II: The Golden Army\n",
      "Iron Man 2\n"
     ]
    }
   ],
   "source": [
    "movie('thor')"
   ]
  },
  {
   "cell_type": "code",
   "execution_count": null,
   "metadata": {},
   "outputs": [],
   "source": []
  },
  {
   "cell_type": "code",
   "execution_count": 184,
   "metadata": {},
   "outputs": [
    {
     "name": "stdout",
     "output_type": "stream",
     "text": [
      "Dor\n",
      "Har Dil Jo Pyar Karega...\n",
      "unINDIAN\n",
      "Dilwale Dulhania Le Jayenge\n",
      "Indian\n",
      "Baghban\n",
      "Kismat Konnection\n",
      "Mujhse Dosti Karoge!\n",
      "Chori Chori Chupke Chupke\n",
      "Heropanti\n"
     ]
    }
   ],
   "source": [
    "movie('dilwale')"
   ]
  },
  {
   "cell_type": "code",
   "execution_count": 185,
   "metadata": {},
   "outputs": [],
   "source": [
    "data_dict = app_data.to_dict()"
   ]
  },
  {
   "cell_type": "code",
   "execution_count": 186,
   "metadata": {},
   "outputs": [],
   "source": [
    "pickle.dump(data_dict, open('deployment/movie_dict.pkl', 'wb'))"
   ]
  },
  {
   "cell_type": "code",
   "execution_count": 187,
   "metadata": {},
   "outputs": [],
   "source": [
    "pickle.dump(similarity, open('deployment/similarity.pkl', 'wb'))"
   ]
  }
 ],
 "metadata": {
  "kernelspec": {
   "display_name": "Python 3 (ipykernel)",
   "language": "python",
   "name": "python3"
  },
  "language_info": {
   "codemirror_mode": {
    "name": "ipython",
    "version": 3
   },
   "file_extension": ".py",
   "mimetype": "text/x-python",
   "name": "python",
   "nbconvert_exporter": "python",
   "pygments_lexer": "ipython3",
   "version": "3.11.5"
  }
 },
 "nbformat": 4,
 "nbformat_minor": 2
}
