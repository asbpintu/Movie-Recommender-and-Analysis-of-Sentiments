{
 "cells": [
  {
   "cell_type": "markdown",
   "metadata": {},
   "source": [
    "# INDIAN MOVIES RECOMMENDER SYSTEM"
   ]
  },
  {
   "cell_type": "markdown",
   "metadata": {},
   "source": [
    "## Packages"
   ]
  },
  {
   "cell_type": "code",
   "execution_count": 2,
   "metadata": {},
   "outputs": [],
   "source": [
    "import os\n",
    "import pandas as pd\n",
    "import numpy as np\n",
    "import re\n",
    "import ast\n",
    "\n",
    "from nltk import word_tokenize\n",
    "from nltk.stem import PorterStemmer\n",
    "\n",
    "from sklearn.feature_extraction.text import TfidfVectorizer\n",
    "from sklearn.metrics.pairwise import cosine_similarity\n",
    "import pickle"
   ]
  },
  {
   "cell_type": "code",
   "execution_count": 3,
   "metadata": {},
   "outputs": [],
   "source": [
    "import warnings\n",
    "warnings.filterwarnings('ignore')"
   ]
  },
  {
   "cell_type": "markdown",
   "metadata": {},
   "source": [
    "## Data"
   ]
  },
  {
   "cell_type": "code",
   "execution_count": 4,
   "metadata": {},
   "outputs": [],
   "source": [
    "movie = pd.read_csv(r'indian_movies\\bollywood_full_1950-2019.csv')\n",
    "crew = pd.read_csv(r'indian_movies\\bollywood_crew_1950-2019.csv')\n",
    "crew_data = pd.read_csv(r'indian_movies\\bollywood_crew_data_1950-2019.csv')\n",
    "writer_data = pd.read_csv(r'indian_movies\\bollywood_writers_data_1950-2019.csv')\n",
    "ids = pd.read_csv(r'indian_movies\\ids.csv')"
   ]
  },
  {
   "cell_type": "code",
   "execution_count": 3,
   "metadata": {},
   "outputs": [
    {
     "data": {
      "text/html": [
       "<div>\n",
       "<style scoped>\n",
       "    .dataframe tbody tr th:only-of-type {\n",
       "        vertical-align: middle;\n",
       "    }\n",
       "\n",
       "    .dataframe tbody tr th {\n",
       "        vertical-align: top;\n",
       "    }\n",
       "\n",
       "    .dataframe thead th {\n",
       "        text-align: right;\n",
       "    }\n",
       "</style>\n",
       "<table border=\"1\" class=\"dataframe\">\n",
       "  <thead>\n",
       "    <tr style=\"text-align: right;\">\n",
       "      <th></th>\n",
       "      <th>title_x</th>\n",
       "      <th>imdb_id</th>\n",
       "      <th>poster_path</th>\n",
       "      <th>wiki_link</th>\n",
       "      <th>title_y</th>\n",
       "      <th>original_title</th>\n",
       "      <th>is_adult</th>\n",
       "      <th>year_of_release</th>\n",
       "      <th>runtime</th>\n",
       "      <th>genres</th>\n",
       "      <th>imdb_rating</th>\n",
       "      <th>imdb_votes</th>\n",
       "      <th>story</th>\n",
       "      <th>summary</th>\n",
       "      <th>tagline</th>\n",
       "      <th>actors</th>\n",
       "      <th>wins_nominations</th>\n",
       "      <th>release_date</th>\n",
       "    </tr>\n",
       "  </thead>\n",
       "  <tbody>\n",
       "    <tr>\n",
       "      <th>0</th>\n",
       "      <td>Uri: The Surgical Strike</td>\n",
       "      <td>tt8291224</td>\n",
       "      <td>https://upload.wikimedia.org/wikipedia/en/thum...</td>\n",
       "      <td>https://en.wikipedia.org/wiki/Uri:_The_Surgica...</td>\n",
       "      <td>Uri: The Surgical Strike</td>\n",
       "      <td>Uri: The Surgical Strike</td>\n",
       "      <td>0</td>\n",
       "      <td>2019</td>\n",
       "      <td>138</td>\n",
       "      <td>Action|Drama|War</td>\n",
       "      <td>8.4</td>\n",
       "      <td>35112.0</td>\n",
       "      <td>Divided over five chapters  the film chronicle...</td>\n",
       "      <td>Indian army special forces execute a covert op...</td>\n",
       "      <td>NaN</td>\n",
       "      <td>Vicky Kaushal|Paresh Rawal|Mohit Raina|Yami Ga...</td>\n",
       "      <td>4 wins</td>\n",
       "      <td>11 January 2019 (USA)</td>\n",
       "    </tr>\n",
       "  </tbody>\n",
       "</table>\n",
       "</div>"
      ],
      "text/plain": [
       "                    title_x    imdb_id  \\\n",
       "0  Uri: The Surgical Strike  tt8291224   \n",
       "\n",
       "                                         poster_path  \\\n",
       "0  https://upload.wikimedia.org/wikipedia/en/thum...   \n",
       "\n",
       "                                           wiki_link  \\\n",
       "0  https://en.wikipedia.org/wiki/Uri:_The_Surgica...   \n",
       "\n",
       "                    title_y            original_title  is_adult  \\\n",
       "0  Uri: The Surgical Strike  Uri: The Surgical Strike         0   \n",
       "\n",
       "  year_of_release runtime            genres  imdb_rating  imdb_votes  \\\n",
       "0            2019     138  Action|Drama|War          8.4     35112.0   \n",
       "\n",
       "                                               story  \\\n",
       "0  Divided over five chapters  the film chronicle...   \n",
       "\n",
       "                                             summary tagline  \\\n",
       "0  Indian army special forces execute a covert op...     NaN   \n",
       "\n",
       "                                              actors wins_nominations  \\\n",
       "0  Vicky Kaushal|Paresh Rawal|Mohit Raina|Yami Ga...           4 wins   \n",
       "\n",
       "            release_date  \n",
       "0  11 January 2019 (USA)  "
      ]
     },
     "execution_count": 3,
     "metadata": {},
     "output_type": "execute_result"
    }
   ],
   "source": [
    "movie.head(1)"
   ]
  },
  {
   "cell_type": "code",
   "execution_count": 5,
   "metadata": {},
   "outputs": [
    {
     "data": {
      "text/html": [
       "<div>\n",
       "<style scoped>\n",
       "    .dataframe tbody tr th:only-of-type {\n",
       "        vertical-align: middle;\n",
       "    }\n",
       "\n",
       "    .dataframe tbody tr th {\n",
       "        vertical-align: top;\n",
       "    }\n",
       "\n",
       "    .dataframe thead th {\n",
       "        text-align: right;\n",
       "    }\n",
       "</style>\n",
       "<table border=\"1\" class=\"dataframe\">\n",
       "  <thead>\n",
       "    <tr style=\"text-align: right;\">\n",
       "      <th></th>\n",
       "      <th>crew_id</th>\n",
       "      <th>name</th>\n",
       "      <th>born_year</th>\n",
       "      <th>death_year</th>\n",
       "      <th>profession</th>\n",
       "      <th>known_for</th>\n",
       "    </tr>\n",
       "  </thead>\n",
       "  <tbody>\n",
       "    <tr>\n",
       "      <th>0</th>\n",
       "      <td>nm0000636</td>\n",
       "      <td>William Shakespeare</td>\n",
       "      <td>1564</td>\n",
       "      <td>1616</td>\n",
       "      <td>writer|soundtrack|miscellaneous</td>\n",
       "      <td>tt3894536|tt5377528|tt5932378|tt8632012</td>\n",
       "    </tr>\n",
       "  </tbody>\n",
       "</table>\n",
       "</div>"
      ],
      "text/plain": [
       "     crew_id                 name born_year death_year  \\\n",
       "0  nm0000636  William Shakespeare      1564       1616   \n",
       "\n",
       "                        profession                                known_for  \n",
       "0  writer|soundtrack|miscellaneous  tt3894536|tt5377528|tt5932378|tt8632012  "
      ]
     },
     "execution_count": 5,
     "metadata": {},
     "output_type": "execute_result"
    }
   ],
   "source": [
    "writer_data.head(1)"
   ]
  },
  {
   "cell_type": "code",
   "execution_count": 6,
   "metadata": {},
   "outputs": [
    {
     "data": {
      "text/html": [
       "<div>\n",
       "<style scoped>\n",
       "    .dataframe tbody tr th:only-of-type {\n",
       "        vertical-align: middle;\n",
       "    }\n",
       "\n",
       "    .dataframe tbody tr th {\n",
       "        vertical-align: top;\n",
       "    }\n",
       "\n",
       "    .dataframe thead th {\n",
       "        text-align: right;\n",
       "    }\n",
       "</style>\n",
       "<table border=\"1\" class=\"dataframe\">\n",
       "  <thead>\n",
       "    <tr style=\"text-align: right;\">\n",
       "      <th></th>\n",
       "      <th>crew_id</th>\n",
       "      <th>name</th>\n",
       "      <th>born_year</th>\n",
       "      <th>death_year</th>\n",
       "      <th>profession</th>\n",
       "      <th>known_for</th>\n",
       "    </tr>\n",
       "  </thead>\n",
       "  <tbody>\n",
       "    <tr>\n",
       "      <th>0</th>\n",
       "      <td>nm0001408</td>\n",
       "      <td>Shekhar Kapur</td>\n",
       "      <td>1945</td>\n",
       "      <td>\\N</td>\n",
       "      <td>actor|director|producer</td>\n",
       "      <td>tt0240510|tt0414055|tt0109206|tt0127536</td>\n",
       "    </tr>\n",
       "  </tbody>\n",
       "</table>\n",
       "</div>"
      ],
      "text/plain": [
       "     crew_id           name born_year death_year               profession  \\\n",
       "0  nm0001408  Shekhar Kapur      1945         \\N  actor|director|producer   \n",
       "\n",
       "                                 known_for  \n",
       "0  tt0240510|tt0414055|tt0109206|tt0127536  "
      ]
     },
     "execution_count": 6,
     "metadata": {},
     "output_type": "execute_result"
    }
   ],
   "source": [
    "crew_data.head(1)"
   ]
  },
  {
   "cell_type": "code",
   "execution_count": 7,
   "metadata": {},
   "outputs": [
    {
     "data": {
      "text/html": [
       "<div>\n",
       "<style scoped>\n",
       "    .dataframe tbody tr th:only-of-type {\n",
       "        vertical-align: middle;\n",
       "    }\n",
       "\n",
       "    .dataframe tbody tr th {\n",
       "        vertical-align: top;\n",
       "    }\n",
       "\n",
       "    .dataframe thead th {\n",
       "        text-align: right;\n",
       "    }\n",
       "</style>\n",
       "<table border=\"1\" class=\"dataframe\">\n",
       "  <thead>\n",
       "    <tr style=\"text-align: right;\">\n",
       "      <th></th>\n",
       "      <th>imdb_id</th>\n",
       "      <th>directors</th>\n",
       "      <th>writers</th>\n",
       "    </tr>\n",
       "  </thead>\n",
       "  <tbody>\n",
       "    <tr>\n",
       "      <th>0</th>\n",
       "      <td>tt0042184</td>\n",
       "      <td>nm0025608</td>\n",
       "      <td>nm0025608|nm0324690</td>\n",
       "    </tr>\n",
       "  </tbody>\n",
       "</table>\n",
       "</div>"
      ],
      "text/plain": [
       "     imdb_id  directors              writers\n",
       "0  tt0042184  nm0025608  nm0025608|nm0324690"
      ]
     },
     "execution_count": 7,
     "metadata": {},
     "output_type": "execute_result"
    }
   ],
   "source": [
    "crew.head(1)"
   ]
  },
  {
   "cell_type": "markdown",
   "metadata": {},
   "source": [
    "## Pre-Process"
   ]
  },
  {
   "cell_type": "markdown",
   "metadata": {},
   "source": [
    "### Movies Data"
   ]
  },
  {
   "cell_type": "code",
   "execution_count": 4,
   "metadata": {},
   "outputs": [
    {
     "data": {
      "text/plain": [
       "Index(['title_x', 'imdb_id', 'poster_path', 'wiki_link', 'title_y',\n",
       "       'original_title', 'is_adult', 'year_of_release', 'runtime', 'genres',\n",
       "       'imdb_rating', 'imdb_votes', 'story', 'summary', 'tagline', 'actors',\n",
       "       'wins_nominations', 'release_date'],\n",
       "      dtype='object')"
      ]
     },
     "execution_count": 4,
     "metadata": {},
     "output_type": "execute_result"
    }
   ],
   "source": [
    "movie.columns"
   ]
  },
  {
   "cell_type": "code",
   "execution_count": 5,
   "metadata": {},
   "outputs": [
    {
     "data": {
      "text/plain": [
       "title_x                0\n",
       "imdb_id                0\n",
       "poster_path          750\n",
       "wiki_link              0\n",
       "title_y                0\n",
       "original_title         0\n",
       "is_adult               0\n",
       "year_of_release        0\n",
       "runtime                0\n",
       "genres                 0\n",
       "imdb_rating           13\n",
       "imdb_votes            13\n",
       "story                265\n",
       "summary                1\n",
       "tagline             3645\n",
       "actors                10\n",
       "wins_nominations    2986\n",
       "release_date        1281\n",
       "dtype: int64"
      ]
     },
     "execution_count": 5,
     "metadata": {},
     "output_type": "execute_result"
    }
   ],
   "source": [
    "movie.isnull().sum()"
   ]
  },
  {
   "cell_type": "code",
   "execution_count": 6,
   "metadata": {},
   "outputs": [
    {
     "data": {
      "text/plain": [
       "0       8.4\n",
       "1       4.1\n",
       "2       6.1\n",
       "3       6.0\n",
       "4       7.3\n",
       "       ... \n",
       "4325    6.1\n",
       "4326    6.2\n",
       "4327    6.8\n",
       "4328    7.0\n",
       "4329    7.0\n",
       "Name: imdb_rating, Length: 4330, dtype: float64"
      ]
     },
     "execution_count": 6,
     "metadata": {},
     "output_type": "execute_result"
    }
   ],
   "source": [
    "movie['imdb_rating']"
   ]
  },
  {
   "cell_type": "code",
   "execution_count": 7,
   "metadata": {},
   "outputs": [
    {
     "data": {
      "text/plain": [
       "['imdb_id',\n",
       " 'original_title',\n",
       " 'genres',\n",
       " 'summary',\n",
       " 'tagline',\n",
       " 'story',\n",
       " 'actors',\n",
       " 'imdb_rating',\n",
       " 'year_of_release']"
      ]
     },
     "execution_count": 7,
     "metadata": {},
     "output_type": "execute_result"
    }
   ],
   "source": [
    "['imdb_id', 'original_title', 'genres','summary', 'tagline','story', 'actors', 'imdb_rating', 'year_of_release']"
   ]
  },
  {
   "cell_type": "code",
   "execution_count": 5,
   "metadata": {},
   "outputs": [],
   "source": [
    "movie = movie[['imdb_id', 'original_title', 'genres','summary', 'story', 'actors', 'imdb_rating', 'year_of_release']]"
   ]
  },
  {
   "cell_type": "code",
   "execution_count": 100,
   "metadata": {},
   "outputs": [
    {
     "data": {
      "text/html": [
       "<div>\n",
       "<style scoped>\n",
       "    .dataframe tbody tr th:only-of-type {\n",
       "        vertical-align: middle;\n",
       "    }\n",
       "\n",
       "    .dataframe tbody tr th {\n",
       "        vertical-align: top;\n",
       "    }\n",
       "\n",
       "    .dataframe thead th {\n",
       "        text-align: right;\n",
       "    }\n",
       "</style>\n",
       "<table border=\"1\" class=\"dataframe\">\n",
       "  <thead>\n",
       "    <tr style=\"text-align: right;\">\n",
       "      <th></th>\n",
       "      <th>imdb_id</th>\n",
       "      <th>original_title</th>\n",
       "      <th>genres</th>\n",
       "      <th>summary</th>\n",
       "      <th>tagline</th>\n",
       "      <th>story</th>\n",
       "      <th>actors</th>\n",
       "      <th>imdb_rating</th>\n",
       "      <th>year_of_release</th>\n",
       "    </tr>\n",
       "  </thead>\n",
       "  <tbody>\n",
       "    <tr>\n",
       "      <th>0</th>\n",
       "      <td>tt8291224</td>\n",
       "      <td>Uri: The Surgical Strike</td>\n",
       "      <td>Action|Drama|War</td>\n",
       "      <td>Indian army special forces execute a covert op...</td>\n",
       "      <td>NaN</td>\n",
       "      <td>Divided over five chapters  the film chronicle...</td>\n",
       "      <td>Vicky Kaushal|Paresh Rawal|Mohit Raina|Yami Ga...</td>\n",
       "      <td>8.4</td>\n",
       "      <td>2019</td>\n",
       "    </tr>\n",
       "  </tbody>\n",
       "</table>\n",
       "</div>"
      ],
      "text/plain": [
       "     imdb_id            original_title            genres  \\\n",
       "0  tt8291224  Uri: The Surgical Strike  Action|Drama|War   \n",
       "\n",
       "                                             summary tagline  \\\n",
       "0  Indian army special forces execute a covert op...     NaN   \n",
       "\n",
       "                                               story  \\\n",
       "0  Divided over five chapters  the film chronicle...   \n",
       "\n",
       "                                              actors  imdb_rating  \\\n",
       "0  Vicky Kaushal|Paresh Rawal|Mohit Raina|Yami Ga...          8.4   \n",
       "\n",
       "  year_of_release  \n",
       "0            2019  "
      ]
     },
     "execution_count": 100,
     "metadata": {},
     "output_type": "execute_result"
    }
   ],
   "source": [
    "movie.head(1)"
   ]
  },
  {
   "cell_type": "code",
   "execution_count": 9,
   "metadata": {},
   "outputs": [
    {
     "data": {
      "text/plain": [
       "'Indian army special forces execute a covert operation  avenging the killing of fellow army men at their base by a terrorist group.'"
      ]
     },
     "execution_count": 9,
     "metadata": {},
     "output_type": "execute_result"
    }
   ],
   "source": [
    "movie['summary'][0]"
   ]
  },
  {
   "cell_type": "code",
   "execution_count": 14,
   "metadata": {},
   "outputs": [
    {
     "data": {
      "text/plain": [
       "'Divided over five chapters  the film chronicles the events of the surgical strike conducted by the Indian military against suspected militants in Pakistan occupied Kashmir. It tells the story of the 11 tumultuous events over which the operation was carried out. Indian army special forces carry out a covert operation to avenge the killing of fellow army men at their base by a terrorist group.'"
      ]
     },
     "execution_count": 14,
     "metadata": {},
     "output_type": "execute_result"
    }
   ],
   "source": [
    "movie['story'][0]"
   ]
  },
  {
   "cell_type": "code",
   "execution_count": 107,
   "metadata": {},
   "outputs": [
    {
     "data": {
      "text/plain": [
       "imdb_id              0\n",
       "original_title       0\n",
       "genres               0\n",
       "summary              1\n",
       "story              265\n",
       "actors              10\n",
       "imdb_rating         13\n",
       "year_of_release      0\n",
       "dtype: int64"
      ]
     },
     "execution_count": 107,
     "metadata": {},
     "output_type": "execute_result"
    }
   ],
   "source": [
    "movie.isnull().sum()"
   ]
  },
  {
   "cell_type": "code",
   "execution_count": 10,
   "metadata": {},
   "outputs": [
    {
     "data": {
      "text/plain": [
       "4330"
      ]
     },
     "execution_count": 10,
     "metadata": {},
     "output_type": "execute_result"
    }
   ],
   "source": [
    "len(movie)"
   ]
  },
  {
   "cell_type": "code",
   "execution_count": 6,
   "metadata": {},
   "outputs": [
    {
     "data": {
      "text/html": [
       "<div>\n",
       "<style scoped>\n",
       "    .dataframe tbody tr th:only-of-type {\n",
       "        vertical-align: middle;\n",
       "    }\n",
       "\n",
       "    .dataframe tbody tr th {\n",
       "        vertical-align: top;\n",
       "    }\n",
       "\n",
       "    .dataframe thead th {\n",
       "        text-align: right;\n",
       "    }\n",
       "</style>\n",
       "<table border=\"1\" class=\"dataframe\">\n",
       "  <thead>\n",
       "    <tr style=\"text-align: right;\">\n",
       "      <th></th>\n",
       "      <th>imdb_id</th>\n",
       "      <th>original_title</th>\n",
       "      <th>genres</th>\n",
       "      <th>summary</th>\n",
       "      <th>story</th>\n",
       "      <th>actors</th>\n",
       "      <th>imdb_rating</th>\n",
       "      <th>year_of_release</th>\n",
       "    </tr>\n",
       "  </thead>\n",
       "  <tbody>\n",
       "    <tr>\n",
       "      <th>67</th>\n",
       "      <td>tt7743400</td>\n",
       "      <td>Jhalki</td>\n",
       "      <td>Drama</td>\n",
       "      <td>A life-altering disappearance of her 7-year ol...</td>\n",
       "      <td>A life-altering disappearance of her 7-year ol...</td>\n",
       "      <td>Boman Irani|Tannishtha Chatterjee|Divya Dutta|...</td>\n",
       "      <td>NaN</td>\n",
       "      <td>2019</td>\n",
       "    </tr>\n",
       "    <tr>\n",
       "      <th>68</th>\n",
       "      <td>tt9248934</td>\n",
       "      <td>Marjaavaan</td>\n",
       "      <td>Action|Romance</td>\n",
       "      <td>Marjaavaan is an upcoming Indian action romanc...</td>\n",
       "      <td>Marjaavaan is an upcoming Indian action romanc...</td>\n",
       "      <td>Riteish Deshmukh|Sidharth Malhotra|Tara Sutari...</td>\n",
       "      <td>NaN</td>\n",
       "      <td>2019</td>\n",
       "    </tr>\n",
       "    <tr>\n",
       "      <th>69</th>\n",
       "      <td>tt9172840</td>\n",
       "      <td>Motichoor Chaknachoor</td>\n",
       "      <td>Comedy|Romance</td>\n",
       "      <td>A hilarious story of a 36-year-old jobless man...</td>\n",
       "      <td>A hilarious story of a 36-year-old jobless man...</td>\n",
       "      <td>Nawazuddin Siddiqui|Athiya Shetty|Vibha Chhibb...</td>\n",
       "      <td>NaN</td>\n",
       "      <td>2019</td>\n",
       "    </tr>\n",
       "    <tr>\n",
       "      <th>70</th>\n",
       "      <td>tt8876008</td>\n",
       "      <td>Keep Safe Distance</td>\n",
       "      <td>Action|Thriller</td>\n",
       "      <td>Keep Safe Distance is an upcoming Indian thril...</td>\n",
       "      <td>Keep Safe Distance is an upcoming Indian thril...</td>\n",
       "      <td>Shahbaaz Khan|Adi Irani|Vikas Anand|Kiran Kuma...</td>\n",
       "      <td>NaN</td>\n",
       "      <td>2019</td>\n",
       "    </tr>\n",
       "    <tr>\n",
       "      <th>71</th>\n",
       "      <td>tt9495690</td>\n",
       "      <td>Pagalpanti</td>\n",
       "      <td>Action|Comedy</td>\n",
       "      <td>A tourist group from India sets out on a vacat...</td>\n",
       "      <td>A tourist group from India sets out on a vacat...</td>\n",
       "      <td>Kriti Kharbanda|John Abraham|Ileana D'Cruz|Ani...</td>\n",
       "      <td>NaN</td>\n",
       "      <td>2019</td>\n",
       "    </tr>\n",
       "    <tr>\n",
       "      <th>72</th>\n",
       "      <td>tt10196464</td>\n",
       "      <td>Ramprasad Ki Tehrvi</td>\n",
       "      <td>Comedy|Drama</td>\n",
       "      <td>Add a Plot »</td>\n",
       "      <td>NaN</td>\n",
       "      <td>Naseeruddin Shah|Vikrant Massey|Konkona Sen Sh...</td>\n",
       "      <td>NaN</td>\n",
       "      <td>\\N</td>\n",
       "    </tr>\n",
       "    <tr>\n",
       "      <th>73</th>\n",
       "      <td>tt10443846</td>\n",
       "      <td>Yeh Saali Aashiqui</td>\n",
       "      <td>Thriller</td>\n",
       "      <td>Add a Plot »</td>\n",
       "      <td>NaN</td>\n",
       "      <td>Vardhan Puri|Jessey Lever|</td>\n",
       "      <td>NaN</td>\n",
       "      <td>2019</td>\n",
       "    </tr>\n",
       "    <tr>\n",
       "      <th>74</th>\n",
       "      <td>tt8110330</td>\n",
       "      <td>Dil Bechara</td>\n",
       "      <td>Drama|Romance</td>\n",
       "      <td>A love story about two cancer patients.</td>\n",
       "      <td>A love story about two cancer patients.</td>\n",
       "      <td>Sushant Singh Rajput|Sanjana Sanghi|Sahil Vaid|</td>\n",
       "      <td>NaN</td>\n",
       "      <td>2019</td>\n",
       "    </tr>\n",
       "    <tr>\n",
       "      <th>75</th>\n",
       "      <td>tt9680136</td>\n",
       "      <td>Pati Patni Aur Woh</td>\n",
       "      <td>Comedy|Romance</td>\n",
       "      <td>Chintu Tyagi is an ordinary  middle class man ...</td>\n",
       "      <td>Chintu Tyagi is an ordinary  middle class man ...</td>\n",
       "      <td>Kartik Aaryan|Bhumi Pednekar|Ananya Panday|Apa...</td>\n",
       "      <td>NaN</td>\n",
       "      <td>2019</td>\n",
       "    </tr>\n",
       "    <tr>\n",
       "      <th>76</th>\n",
       "      <td>tt8983168</td>\n",
       "      <td>Commando 3</td>\n",
       "      <td>Action|Thriller</td>\n",
       "      <td>Commando 3 is a Hindi movie starring Vidyut Ja...</td>\n",
       "      <td>A mysterious man is on an impending mission to...</td>\n",
       "      <td>Vidyut Jammwal|Adah Sharma|Angira Dhar|Sumeet ...</td>\n",
       "      <td>NaN</td>\n",
       "      <td>2019</td>\n",
       "    </tr>\n",
       "    <tr>\n",
       "      <th>77</th>\n",
       "      <td>tt5668770</td>\n",
       "      <td>Mardaani 2</td>\n",
       "      <td>Action|Drama|Thriller</td>\n",
       "      <td>Shivani Shivaji Roy locks horns with the devil...</td>\n",
       "      <td>Shivani Shivaji Roy locks horns with the devil...</td>\n",
       "      <td>Rani Mukerji|Rajesh Sharma|Shruti Bapna|</td>\n",
       "      <td>NaN</td>\n",
       "      <td>2019</td>\n",
       "    </tr>\n",
       "    <tr>\n",
       "      <th>78</th>\n",
       "      <td>tt7059844</td>\n",
       "      <td>Dabangg 3</td>\n",
       "      <td>Action</td>\n",
       "      <td>Third installment of the Dabanng film series.</td>\n",
       "      <td>Third installment of the Dabanng film series.</td>\n",
       "      <td>Salman Khan|Sonakshi Sinha|Sudeep|Mahesh Manjr...</td>\n",
       "      <td>NaN</td>\n",
       "      <td>2019</td>\n",
       "    </tr>\n",
       "    <tr>\n",
       "      <th>79</th>\n",
       "      <td>tt8504014</td>\n",
       "      <td>Good Newwz</td>\n",
       "      <td>Comedy|Drama|Romance</td>\n",
       "      <td>It is an upcoming Indian romantic comedy film ...</td>\n",
       "      <td>It is an upcoming Indian romantic comedy film ...</td>\n",
       "      <td>Akshay Kumar|Kareena Kapoor|Kiara Advani|Tisca...</td>\n",
       "      <td>NaN</td>\n",
       "      <td>2019</td>\n",
       "    </tr>\n",
       "  </tbody>\n",
       "</table>\n",
       "</div>"
      ],
      "text/plain": [
       "       imdb_id         original_title                 genres  \\\n",
       "67   tt7743400                 Jhalki                  Drama   \n",
       "68   tt9248934             Marjaavaan         Action|Romance   \n",
       "69   tt9172840  Motichoor Chaknachoor         Comedy|Romance   \n",
       "70   tt8876008     Keep Safe Distance        Action|Thriller   \n",
       "71   tt9495690             Pagalpanti          Action|Comedy   \n",
       "72  tt10196464    Ramprasad Ki Tehrvi           Comedy|Drama   \n",
       "73  tt10443846     Yeh Saali Aashiqui               Thriller   \n",
       "74   tt8110330            Dil Bechara          Drama|Romance   \n",
       "75   tt9680136     Pati Patni Aur Woh         Comedy|Romance   \n",
       "76   tt8983168             Commando 3        Action|Thriller   \n",
       "77   tt5668770             Mardaani 2  Action|Drama|Thriller   \n",
       "78   tt7059844              Dabangg 3                 Action   \n",
       "79   tt8504014             Good Newwz   Comedy|Drama|Romance   \n",
       "\n",
       "                                              summary  \\\n",
       "67  A life-altering disappearance of her 7-year ol...   \n",
       "68  Marjaavaan is an upcoming Indian action romanc...   \n",
       "69  A hilarious story of a 36-year-old jobless man...   \n",
       "70  Keep Safe Distance is an upcoming Indian thril...   \n",
       "71  A tourist group from India sets out on a vacat...   \n",
       "72                                       Add a Plot »   \n",
       "73                                       Add a Plot »   \n",
       "74            A love story about two cancer patients.   \n",
       "75  Chintu Tyagi is an ordinary  middle class man ...   \n",
       "76  Commando 3 is a Hindi movie starring Vidyut Ja...   \n",
       "77  Shivani Shivaji Roy locks horns with the devil...   \n",
       "78      Third installment of the Dabanng film series.   \n",
       "79  It is an upcoming Indian romantic comedy film ...   \n",
       "\n",
       "                                                story  \\\n",
       "67  A life-altering disappearance of her 7-year ol...   \n",
       "68  Marjaavaan is an upcoming Indian action romanc...   \n",
       "69  A hilarious story of a 36-year-old jobless man...   \n",
       "70  Keep Safe Distance is an upcoming Indian thril...   \n",
       "71  A tourist group from India sets out on a vacat...   \n",
       "72                                                NaN   \n",
       "73                                                NaN   \n",
       "74            A love story about two cancer patients.   \n",
       "75  Chintu Tyagi is an ordinary  middle class man ...   \n",
       "76  A mysterious man is on an impending mission to...   \n",
       "77  Shivani Shivaji Roy locks horns with the devil...   \n",
       "78      Third installment of the Dabanng film series.   \n",
       "79  It is an upcoming Indian romantic comedy film ...   \n",
       "\n",
       "                                               actors  imdb_rating  \\\n",
       "67  Boman Irani|Tannishtha Chatterjee|Divya Dutta|...          NaN   \n",
       "68  Riteish Deshmukh|Sidharth Malhotra|Tara Sutari...          NaN   \n",
       "69  Nawazuddin Siddiqui|Athiya Shetty|Vibha Chhibb...          NaN   \n",
       "70  Shahbaaz Khan|Adi Irani|Vikas Anand|Kiran Kuma...          NaN   \n",
       "71  Kriti Kharbanda|John Abraham|Ileana D'Cruz|Ani...          NaN   \n",
       "72  Naseeruddin Shah|Vikrant Massey|Konkona Sen Sh...          NaN   \n",
       "73                         Vardhan Puri|Jessey Lever|          NaN   \n",
       "74    Sushant Singh Rajput|Sanjana Sanghi|Sahil Vaid|          NaN   \n",
       "75  Kartik Aaryan|Bhumi Pednekar|Ananya Panday|Apa...          NaN   \n",
       "76  Vidyut Jammwal|Adah Sharma|Angira Dhar|Sumeet ...          NaN   \n",
       "77           Rani Mukerji|Rajesh Sharma|Shruti Bapna|          NaN   \n",
       "78  Salman Khan|Sonakshi Sinha|Sudeep|Mahesh Manjr...          NaN   \n",
       "79  Akshay Kumar|Kareena Kapoor|Kiara Advani|Tisca...          NaN   \n",
       "\n",
       "   year_of_release  \n",
       "67            2019  \n",
       "68            2019  \n",
       "69            2019  \n",
       "70            2019  \n",
       "71            2019  \n",
       "72              \\N  \n",
       "73            2019  \n",
       "74            2019  \n",
       "75            2019  \n",
       "76            2019  \n",
       "77            2019  \n",
       "78            2019  \n",
       "79            2019  "
      ]
     },
     "execution_count": 6,
     "metadata": {},
     "output_type": "execute_result"
    }
   ],
   "source": [
    "movie[movie['imdb_rating'].isnull()]"
   ]
  },
  {
   "cell_type": "code",
   "execution_count": 7,
   "metadata": {},
   "outputs": [],
   "source": [
    "movie['imdb_rating'] = movie['imdb_rating'].apply(lambda x: np.random.uniform(6, 7) if pd.isnull(x) else x)"
   ]
  },
  {
   "cell_type": "code",
   "execution_count": 13,
   "metadata": {},
   "outputs": [
    {
     "data": {
      "text/plain": [
       "imdb_id              0\n",
       "original_title       0\n",
       "genres               0\n",
       "summary              1\n",
       "story              265\n",
       "actors              10\n",
       "imdb_rating          0\n",
       "year_of_release      0\n",
       "dtype: int64"
      ]
     },
     "execution_count": 13,
     "metadata": {},
     "output_type": "execute_result"
    }
   ],
   "source": [
    "movie.isnull().sum()"
   ]
  },
  {
   "cell_type": "code",
   "execution_count": 8,
   "metadata": {},
   "outputs": [],
   "source": [
    "movie = movie[~movie['actors'].isnull()]"
   ]
  },
  {
   "cell_type": "code",
   "execution_count": 15,
   "metadata": {},
   "outputs": [
    {
     "data": {
      "text/plain": [
       "4320"
      ]
     },
     "execution_count": 15,
     "metadata": {},
     "output_type": "execute_result"
    }
   ],
   "source": [
    "len(movie)"
   ]
  },
  {
   "cell_type": "code",
   "execution_count": 16,
   "metadata": {},
   "outputs": [
    {
     "data": {
      "text/plain": [
       "0       2019\n",
       "1       2019\n",
       "2       2019\n",
       "3       2019\n",
       "4       2018\n",
       "        ... \n",
       "4324    1950\n",
       "4325    1950\n",
       "4326    1950\n",
       "4327    1950\n",
       "4328    1950\n",
       "Name: year_of_release, Length: 4320, dtype: object"
      ]
     },
     "execution_count": 16,
     "metadata": {},
     "output_type": "execute_result"
    }
   ],
   "source": [
    "movie['year_of_release']"
   ]
  },
  {
   "cell_type": "code",
   "execution_count": 9,
   "metadata": {},
   "outputs": [],
   "source": [
    "movie['year_of_release'].replace('\\\\N', np.nan, inplace=True)"
   ]
  },
  {
   "cell_type": "code",
   "execution_count": 10,
   "metadata": {},
   "outputs": [
    {
     "data": {
      "text/plain": [
       "imdb_id              0\n",
       "original_title       0\n",
       "genres               0\n",
       "summary              0\n",
       "story              259\n",
       "actors               0\n",
       "imdb_rating          0\n",
       "year_of_release      1\n",
       "dtype: int64"
      ]
     },
     "execution_count": 10,
     "metadata": {},
     "output_type": "execute_result"
    }
   ],
   "source": [
    "movie.isnull().sum()"
   ]
  },
  {
   "cell_type": "code",
   "execution_count": 11,
   "metadata": {},
   "outputs": [],
   "source": [
    "movie = movie[~movie['year_of_release'].isnull()]"
   ]
  },
  {
   "cell_type": "code",
   "execution_count": 12,
   "metadata": {},
   "outputs": [
    {
     "data": {
      "text/plain": [
       "4319"
      ]
     },
     "execution_count": 12,
     "metadata": {},
     "output_type": "execute_result"
    }
   ],
   "source": [
    "len(movie)"
   ]
  },
  {
   "cell_type": "code",
   "execution_count": 21,
   "metadata": {},
   "outputs": [
    {
     "data": {
      "text/plain": [
       "imdb_id              0\n",
       "original_title       0\n",
       "genres               0\n",
       "summary              0\n",
       "story              258\n",
       "actors               0\n",
       "imdb_rating          0\n",
       "year_of_release      0\n",
       "dtype: int64"
      ]
     },
     "execution_count": 21,
     "metadata": {},
     "output_type": "execute_result"
    }
   ],
   "source": [
    "movie.isnull().sum()"
   ]
  },
  {
   "cell_type": "code",
   "execution_count": 13,
   "metadata": {},
   "outputs": [],
   "source": [
    "movie['year_of_release'] = pd.to_numeric(movie['year_of_release'])"
   ]
  },
  {
   "cell_type": "code",
   "execution_count": 14,
   "metadata": {},
   "outputs": [],
   "source": [
    "movie = movie[movie['year_of_release'] >= 1980]"
   ]
  },
  {
   "cell_type": "code",
   "execution_count": 15,
   "metadata": {},
   "outputs": [
    {
     "data": {
      "text/plain": [
       "3091"
      ]
     },
     "execution_count": 15,
     "metadata": {},
     "output_type": "execute_result"
    }
   ],
   "source": [
    "len(movie)"
   ]
  },
  {
   "cell_type": "code",
   "execution_count": 25,
   "metadata": {},
   "outputs": [
    {
     "data": {
      "text/html": [
       "<div>\n",
       "<style scoped>\n",
       "    .dataframe tbody tr th:only-of-type {\n",
       "        vertical-align: middle;\n",
       "    }\n",
       "\n",
       "    .dataframe tbody tr th {\n",
       "        vertical-align: top;\n",
       "    }\n",
       "\n",
       "    .dataframe thead th {\n",
       "        text-align: right;\n",
       "    }\n",
       "</style>\n",
       "<table border=\"1\" class=\"dataframe\">\n",
       "  <thead>\n",
       "    <tr style=\"text-align: right;\">\n",
       "      <th></th>\n",
       "      <th>imdb_id</th>\n",
       "      <th>original_title</th>\n",
       "      <th>genres</th>\n",
       "      <th>summary</th>\n",
       "      <th>story</th>\n",
       "      <th>actors</th>\n",
       "      <th>imdb_rating</th>\n",
       "      <th>year_of_release</th>\n",
       "    </tr>\n",
       "  </thead>\n",
       "  <tbody>\n",
       "    <tr>\n",
       "      <th>0</th>\n",
       "      <td>tt8291224</td>\n",
       "      <td>Uri: The Surgical Strike</td>\n",
       "      <td>Action|Drama|War</td>\n",
       "      <td>Indian army special forces execute a covert op...</td>\n",
       "      <td>Divided over five chapters  the film chronicle...</td>\n",
       "      <td>Vicky Kaushal|Paresh Rawal|Mohit Raina|Yami Ga...</td>\n",
       "      <td>8.4</td>\n",
       "      <td>2019</td>\n",
       "    </tr>\n",
       "  </tbody>\n",
       "</table>\n",
       "</div>"
      ],
      "text/plain": [
       "     imdb_id            original_title            genres  \\\n",
       "0  tt8291224  Uri: The Surgical Strike  Action|Drama|War   \n",
       "\n",
       "                                             summary  \\\n",
       "0  Indian army special forces execute a covert op...   \n",
       "\n",
       "                                               story  \\\n",
       "0  Divided over five chapters  the film chronicle...   \n",
       "\n",
       "                                              actors  imdb_rating  \\\n",
       "0  Vicky Kaushal|Paresh Rawal|Mohit Raina|Yami Ga...          8.4   \n",
       "\n",
       "   year_of_release  \n",
       "0             2019  "
      ]
     },
     "execution_count": 25,
     "metadata": {},
     "output_type": "execute_result"
    }
   ],
   "source": [
    "movie.head(1)"
   ]
  },
  {
   "cell_type": "code",
   "execution_count": 19,
   "metadata": {},
   "outputs": [],
   "source": [
    "### Clean Genres and Actors"
   ]
  },
  {
   "cell_type": "code",
   "execution_count": 16,
   "metadata": {},
   "outputs": [],
   "source": [
    "def separate(text):\n",
    "    new_txt = re.sub(r'\\|', ',', text)\n",
    "    return new_txt.split(',')"
   ]
  },
  {
   "cell_type": "code",
   "execution_count": 17,
   "metadata": {},
   "outputs": [],
   "source": [
    "movie['genres'] = movie['genres'].apply(separate)"
   ]
  },
  {
   "cell_type": "code",
   "execution_count": 18,
   "metadata": {},
   "outputs": [],
   "source": [
    "movie['actors'] = movie['actors'].apply(separate)"
   ]
  },
  {
   "cell_type": "code",
   "execution_count": 19,
   "metadata": {},
   "outputs": [
    {
     "data": {
      "text/plain": [
       "['Vicky Kaushal',\n",
       " 'Paresh Rawal',\n",
       " 'Mohit Raina',\n",
       " 'Yami Gautam',\n",
       " 'Kirti Kulhari',\n",
       " 'Rajit Kapoor',\n",
       " 'Ivan Rodrigues',\n",
       " 'Manasi Parekh',\n",
       " 'Swaroop Sampat',\n",
       " 'Riva Arora',\n",
       " 'Yogesh Soman',\n",
       " 'Fareed Ahmed',\n",
       " 'Akashdeep Arora',\n",
       " 'Kallol Banerjee',\n",
       " '']"
      ]
     },
     "execution_count": 19,
     "metadata": {},
     "output_type": "execute_result"
    }
   ],
   "source": [
    "movie['actors'][0]"
   ]
  },
  {
   "cell_type": "code",
   "execution_count": 20,
   "metadata": {},
   "outputs": [],
   "source": [
    "def cast_name(items):\n",
    "    # items = ast.literal_eval(items)\n",
    "    cast_list = []\n",
    "    count = 0\n",
    "    for i in items:\n",
    "        if count != 4:\n",
    "            cast_list.append(i)\n",
    "            count += 1\n",
    "        else:\n",
    "            break\n",
    "    return cast_list"
   ]
  },
  {
   "cell_type": "code",
   "execution_count": 21,
   "metadata": {},
   "outputs": [
    {
     "data": {
      "text/plain": [
       "['Vicky Kaushal', 'Paresh Rawal', 'Mohit Raina', 'Yami Gautam']"
      ]
     },
     "execution_count": 21,
     "metadata": {},
     "output_type": "execute_result"
    }
   ],
   "source": [
    "cast_name(movie['actors'][0])"
   ]
  },
  {
   "cell_type": "code",
   "execution_count": 22,
   "metadata": {},
   "outputs": [],
   "source": [
    "movie['actors'] = movie['actors'].apply(cast_name)"
   ]
  },
  {
   "cell_type": "code",
   "execution_count": 33,
   "metadata": {},
   "outputs": [
    {
     "data": {
      "text/html": [
       "<div>\n",
       "<style scoped>\n",
       "    .dataframe tbody tr th:only-of-type {\n",
       "        vertical-align: middle;\n",
       "    }\n",
       "\n",
       "    .dataframe tbody tr th {\n",
       "        vertical-align: top;\n",
       "    }\n",
       "\n",
       "    .dataframe thead th {\n",
       "        text-align: right;\n",
       "    }\n",
       "</style>\n",
       "<table border=\"1\" class=\"dataframe\">\n",
       "  <thead>\n",
       "    <tr style=\"text-align: right;\">\n",
       "      <th></th>\n",
       "      <th>imdb_id</th>\n",
       "      <th>original_title</th>\n",
       "      <th>genres</th>\n",
       "      <th>summary</th>\n",
       "      <th>story</th>\n",
       "      <th>actors</th>\n",
       "      <th>imdb_rating</th>\n",
       "      <th>year_of_release</th>\n",
       "    </tr>\n",
       "  </thead>\n",
       "  <tbody>\n",
       "    <tr>\n",
       "      <th>0</th>\n",
       "      <td>tt8291224</td>\n",
       "      <td>Uri: The Surgical Strike</td>\n",
       "      <td>[Action, Drama, War]</td>\n",
       "      <td>Indian army special forces execute a covert op...</td>\n",
       "      <td>Divided over five chapters  the film chronicle...</td>\n",
       "      <td>[Vicky Kaushal, Paresh Rawal, Mohit Raina, Yam...</td>\n",
       "      <td>8.4</td>\n",
       "      <td>2019</td>\n",
       "    </tr>\n",
       "  </tbody>\n",
       "</table>\n",
       "</div>"
      ],
      "text/plain": [
       "     imdb_id            original_title                genres  \\\n",
       "0  tt8291224  Uri: The Surgical Strike  [Action, Drama, War]   \n",
       "\n",
       "                                             summary  \\\n",
       "0  Indian army special forces execute a covert op...   \n",
       "\n",
       "                                               story  \\\n",
       "0  Divided over five chapters  the film chronicle...   \n",
       "\n",
       "                                              actors  imdb_rating  \\\n",
       "0  [Vicky Kaushal, Paresh Rawal, Mohit Raina, Yam...          8.4   \n",
       "\n",
       "   year_of_release  \n",
       "0             2019  "
      ]
     },
     "execution_count": 33,
     "metadata": {},
     "output_type": "execute_result"
    }
   ],
   "source": [
    "movie.head(1)"
   ]
  },
  {
   "cell_type": "code",
   "execution_count": 23,
   "metadata": {},
   "outputs": [
    {
     "data": {
      "text/plain": [
       "['Action',\n",
       " 'Drama',\n",
       " 'War',\n",
       " 'Vicky Kaushal',\n",
       " 'Paresh Rawal',\n",
       " 'Mohit Raina',\n",
       " 'Yami Gautam']"
      ]
     },
     "execution_count": 23,
     "metadata": {},
     "output_type": "execute_result"
    }
   ],
   "source": [
    "movie['genres'][0]+movie['actors'][0]"
   ]
  },
  {
   "cell_type": "code",
   "execution_count": 24,
   "metadata": {},
   "outputs": [],
   "source": [
    "movie['summary'] = movie['summary'].apply(lambda x : x.strip('.').split('.'))"
   ]
  },
  {
   "cell_type": "code",
   "execution_count": 25,
   "metadata": {},
   "outputs": [
    {
     "data": {
      "text/plain": [
       "['Add a Plot\\xa0»']"
      ]
     },
     "execution_count": 25,
     "metadata": {},
     "output_type": "execute_result"
    }
   ],
   "source": [
    "dr = movie['summary'][206]\n",
    "dr"
   ]
  },
  {
   "cell_type": "code",
   "execution_count": 26,
   "metadata": {},
   "outputs": [],
   "source": [
    "movie = movie[~movie['story'].isnull()]"
   ]
  },
  {
   "cell_type": "code",
   "execution_count": 27,
   "metadata": {},
   "outputs": [],
   "source": [
    "movie['story'] = movie['story'].apply(lambda x : x.strip('.').split('.'))"
   ]
  },
  {
   "cell_type": "code",
   "execution_count": 28,
   "metadata": {},
   "outputs": [
    {
     "data": {
      "text/plain": [
       "3003"
      ]
     },
     "execution_count": 28,
     "metadata": {},
     "output_type": "execute_result"
    }
   ],
   "source": [
    "len(movie)"
   ]
  },
  {
   "cell_type": "code",
   "execution_count": 29,
   "metadata": {},
   "outputs": [
    {
     "data": {
      "text/plain": [
       "imdb_id            0\n",
       "original_title     0\n",
       "genres             0\n",
       "summary            0\n",
       "story              0\n",
       "actors             0\n",
       "imdb_rating        0\n",
       "year_of_release    0\n",
       "dtype: int64"
      ]
     },
     "execution_count": 29,
     "metadata": {},
     "output_type": "execute_result"
    }
   ],
   "source": [
    "movie.isnull().sum()"
   ]
  },
  {
   "cell_type": "code",
   "execution_count": 41,
   "metadata": {},
   "outputs": [
    {
     "data": {
      "text/html": [
       "<div>\n",
       "<style scoped>\n",
       "    .dataframe tbody tr th:only-of-type {\n",
       "        vertical-align: middle;\n",
       "    }\n",
       "\n",
       "    .dataframe tbody tr th {\n",
       "        vertical-align: top;\n",
       "    }\n",
       "\n",
       "    .dataframe thead th {\n",
       "        text-align: right;\n",
       "    }\n",
       "</style>\n",
       "<table border=\"1\" class=\"dataframe\">\n",
       "  <thead>\n",
       "    <tr style=\"text-align: right;\">\n",
       "      <th></th>\n",
       "      <th>imdb_id</th>\n",
       "      <th>original_title</th>\n",
       "      <th>genres</th>\n",
       "      <th>summary</th>\n",
       "      <th>story</th>\n",
       "      <th>actors</th>\n",
       "      <th>imdb_rating</th>\n",
       "      <th>year_of_release</th>\n",
       "    </tr>\n",
       "  </thead>\n",
       "  <tbody>\n",
       "    <tr>\n",
       "      <th>0</th>\n",
       "      <td>tt8291224</td>\n",
       "      <td>Uri: The Surgical Strike</td>\n",
       "      <td>[Action, Drama, War]</td>\n",
       "      <td>[Indian army special forces execute a covert o...</td>\n",
       "      <td>[Divided over five chapters  the film chronicl...</td>\n",
       "      <td>[Vicky Kaushal, Paresh Rawal, Mohit Raina, Yam...</td>\n",
       "      <td>8.4</td>\n",
       "      <td>2019</td>\n",
       "    </tr>\n",
       "  </tbody>\n",
       "</table>\n",
       "</div>"
      ],
      "text/plain": [
       "     imdb_id            original_title                genres  \\\n",
       "0  tt8291224  Uri: The Surgical Strike  [Action, Drama, War]   \n",
       "\n",
       "                                             summary  \\\n",
       "0  [Indian army special forces execute a covert o...   \n",
       "\n",
       "                                               story  \\\n",
       "0  [Divided over five chapters  the film chronicl...   \n",
       "\n",
       "                                              actors  imdb_rating  \\\n",
       "0  [Vicky Kaushal, Paresh Rawal, Mohit Raina, Yam...          8.4   \n",
       "\n",
       "   year_of_release  \n",
       "0             2019  "
      ]
     },
     "execution_count": 41,
     "metadata": {},
     "output_type": "execute_result"
    }
   ],
   "source": [
    "movie.head(1)"
   ]
  },
  {
   "cell_type": "markdown",
   "metadata": {},
   "source": [
    "### Crew"
   ]
  },
  {
   "cell_type": "code",
   "execution_count": 42,
   "metadata": {},
   "outputs": [
    {
     "data": {
      "text/html": [
       "<div>\n",
       "<style scoped>\n",
       "    .dataframe tbody tr th:only-of-type {\n",
       "        vertical-align: middle;\n",
       "    }\n",
       "\n",
       "    .dataframe tbody tr th {\n",
       "        vertical-align: top;\n",
       "    }\n",
       "\n",
       "    .dataframe thead th {\n",
       "        text-align: right;\n",
       "    }\n",
       "</style>\n",
       "<table border=\"1\" class=\"dataframe\">\n",
       "  <thead>\n",
       "    <tr style=\"text-align: right;\">\n",
       "      <th></th>\n",
       "      <th>imdb_id</th>\n",
       "      <th>directors</th>\n",
       "      <th>writers</th>\n",
       "    </tr>\n",
       "  </thead>\n",
       "  <tbody>\n",
       "    <tr>\n",
       "      <th>0</th>\n",
       "      <td>tt0042184</td>\n",
       "      <td>nm0025608</td>\n",
       "      <td>nm0025608|nm0324690</td>\n",
       "    </tr>\n",
       "  </tbody>\n",
       "</table>\n",
       "</div>"
      ],
      "text/plain": [
       "     imdb_id  directors              writers\n",
       "0  tt0042184  nm0025608  nm0025608|nm0324690"
      ]
     },
     "execution_count": 42,
     "metadata": {},
     "output_type": "execute_result"
    }
   ],
   "source": [
    "crew.head(1)"
   ]
  },
  {
   "cell_type": "code",
   "execution_count": 43,
   "metadata": {},
   "outputs": [
    {
     "data": {
      "text/html": [
       "<div>\n",
       "<style scoped>\n",
       "    .dataframe tbody tr th:only-of-type {\n",
       "        vertical-align: middle;\n",
       "    }\n",
       "\n",
       "    .dataframe tbody tr th {\n",
       "        vertical-align: top;\n",
       "    }\n",
       "\n",
       "    .dataframe thead th {\n",
       "        text-align: right;\n",
       "    }\n",
       "</style>\n",
       "<table border=\"1\" class=\"dataframe\">\n",
       "  <thead>\n",
       "    <tr style=\"text-align: right;\">\n",
       "      <th></th>\n",
       "      <th>crew_id</th>\n",
       "      <th>name</th>\n",
       "      <th>born_year</th>\n",
       "      <th>death_year</th>\n",
       "      <th>profession</th>\n",
       "      <th>known_for</th>\n",
       "    </tr>\n",
       "  </thead>\n",
       "  <tbody>\n",
       "    <tr>\n",
       "      <th>0</th>\n",
       "      <td>nm0001408</td>\n",
       "      <td>Shekhar Kapur</td>\n",
       "      <td>1945</td>\n",
       "      <td>\\N</td>\n",
       "      <td>actor|director|producer</td>\n",
       "      <td>tt0240510|tt0414055|tt0109206|tt0127536</td>\n",
       "    </tr>\n",
       "  </tbody>\n",
       "</table>\n",
       "</div>"
      ],
      "text/plain": [
       "     crew_id           name born_year death_year               profession  \\\n",
       "0  nm0001408  Shekhar Kapur      1945         \\N  actor|director|producer   \n",
       "\n",
       "                                 known_for  \n",
       "0  tt0240510|tt0414055|tt0109206|tt0127536  "
      ]
     },
     "execution_count": 43,
     "metadata": {},
     "output_type": "execute_result"
    }
   ],
   "source": [
    "crew_data.head(1)"
   ]
  },
  {
   "cell_type": "code",
   "execution_count": 30,
   "metadata": {},
   "outputs": [],
   "source": [
    "crew_data = crew_data[['crew_id', 'name']]"
   ]
  },
  {
   "cell_type": "code",
   "execution_count": 31,
   "metadata": {},
   "outputs": [],
   "source": [
    "crew = pd.merge(crew, crew_data, left_on='directors', right_on='crew_id')"
   ]
  },
  {
   "cell_type": "code",
   "execution_count": 46,
   "metadata": {},
   "outputs": [
    {
     "data": {
      "text/html": [
       "<div>\n",
       "<style scoped>\n",
       "    .dataframe tbody tr th:only-of-type {\n",
       "        vertical-align: middle;\n",
       "    }\n",
       "\n",
       "    .dataframe tbody tr th {\n",
       "        vertical-align: top;\n",
       "    }\n",
       "\n",
       "    .dataframe thead th {\n",
       "        text-align: right;\n",
       "    }\n",
       "</style>\n",
       "<table border=\"1\" class=\"dataframe\">\n",
       "  <thead>\n",
       "    <tr style=\"text-align: right;\">\n",
       "      <th></th>\n",
       "      <th>imdb_id</th>\n",
       "      <th>directors</th>\n",
       "      <th>writers</th>\n",
       "      <th>crew_id</th>\n",
       "      <th>name</th>\n",
       "    </tr>\n",
       "  </thead>\n",
       "  <tbody>\n",
       "    <tr>\n",
       "      <th>0</th>\n",
       "      <td>tt0042184</td>\n",
       "      <td>nm0025608</td>\n",
       "      <td>nm0025608|nm0324690</td>\n",
       "      <td>nm0025608</td>\n",
       "      <td>Chetan Anand</td>\n",
       "    </tr>\n",
       "  </tbody>\n",
       "</table>\n",
       "</div>"
      ],
      "text/plain": [
       "     imdb_id  directors              writers    crew_id          name\n",
       "0  tt0042184  nm0025608  nm0025608|nm0324690  nm0025608  Chetan Anand"
      ]
     },
     "execution_count": 46,
     "metadata": {},
     "output_type": "execute_result"
    }
   ],
   "source": [
    "crew.head(1)"
   ]
  },
  {
   "cell_type": "code",
   "execution_count": 32,
   "metadata": {},
   "outputs": [],
   "source": [
    "crew.drop('directors', axis=1, inplace=True)"
   ]
  },
  {
   "cell_type": "code",
   "execution_count": 33,
   "metadata": {},
   "outputs": [],
   "source": [
    "crew.drop('crew_id', axis=1, inplace=True)"
   ]
  },
  {
   "cell_type": "code",
   "execution_count": 34,
   "metadata": {},
   "outputs": [],
   "source": [
    "crew.drop('writers', axis=1, inplace=True)"
   ]
  },
  {
   "cell_type": "code",
   "execution_count": 35,
   "metadata": {},
   "outputs": [
    {
     "data": {
      "text/html": [
       "<div>\n",
       "<style scoped>\n",
       "    .dataframe tbody tr th:only-of-type {\n",
       "        vertical-align: middle;\n",
       "    }\n",
       "\n",
       "    .dataframe tbody tr th {\n",
       "        vertical-align: top;\n",
       "    }\n",
       "\n",
       "    .dataframe thead th {\n",
       "        text-align: right;\n",
       "    }\n",
       "</style>\n",
       "<table border=\"1\" class=\"dataframe\">\n",
       "  <thead>\n",
       "    <tr style=\"text-align: right;\">\n",
       "      <th></th>\n",
       "      <th>imdb_id</th>\n",
       "      <th>name</th>\n",
       "    </tr>\n",
       "  </thead>\n",
       "  <tbody>\n",
       "    <tr>\n",
       "      <th>0</th>\n",
       "      <td>tt0042184</td>\n",
       "      <td>Chetan Anand</td>\n",
       "    </tr>\n",
       "  </tbody>\n",
       "</table>\n",
       "</div>"
      ],
      "text/plain": [
       "     imdb_id          name\n",
       "0  tt0042184  Chetan Anand"
      ]
     },
     "execution_count": 35,
     "metadata": {},
     "output_type": "execute_result"
    }
   ],
   "source": [
    "crew.head(1)"
   ]
  },
  {
   "cell_type": "code",
   "execution_count": 36,
   "metadata": {},
   "outputs": [
    {
     "data": {
      "text/plain": [
       "4423"
      ]
     },
     "execution_count": 36,
     "metadata": {},
     "output_type": "execute_result"
    }
   ],
   "source": [
    "len(crew)"
   ]
  },
  {
   "cell_type": "code",
   "execution_count": 37,
   "metadata": {},
   "outputs": [],
   "source": [
    "crew['name'] = crew['name'].apply(lambda x : x.split(','))"
   ]
  },
  {
   "cell_type": "code",
   "execution_count": 38,
   "metadata": {},
   "outputs": [
    {
     "data": {
      "text/plain": [
       "4413                 [Jagbir Dahiya]\n",
       "4414              [Debamitra Biswal]\n",
       "4415            [Naman Nitin Mukesh]\n",
       "4416              [Raaj Shaandilyaa]\n",
       "4417                  [Jagan Shakti]\n",
       "4418                [Abhishek Dixit]\n",
       "4419    [Brijesh Batuknath Tripathi]\n",
       "4420                [Mitali Ghoshal]\n",
       "4421                  [Ravi Sadasiv]\n",
       "4422                   [Aarun Nagar]\n",
       "Name: name, dtype: object"
      ]
     },
     "execution_count": 38,
     "metadata": {},
     "output_type": "execute_result"
    }
   ],
   "source": [
    "crew['name'].tail(10)"
   ]
  },
  {
   "cell_type": "code",
   "execution_count": null,
   "metadata": {},
   "outputs": [],
   "source": []
  },
  {
   "cell_type": "code",
   "execution_count": 39,
   "metadata": {},
   "outputs": [],
   "source": [
    "data = pd.merge(movie, crew, on='imdb_id')"
   ]
  },
  {
   "cell_type": "code",
   "execution_count": 40,
   "metadata": {},
   "outputs": [
    {
     "data": {
      "text/html": [
       "<div>\n",
       "<style scoped>\n",
       "    .dataframe tbody tr th:only-of-type {\n",
       "        vertical-align: middle;\n",
       "    }\n",
       "\n",
       "    .dataframe tbody tr th {\n",
       "        vertical-align: top;\n",
       "    }\n",
       "\n",
       "    .dataframe thead th {\n",
       "        text-align: right;\n",
       "    }\n",
       "</style>\n",
       "<table border=\"1\" class=\"dataframe\">\n",
       "  <thead>\n",
       "    <tr style=\"text-align: right;\">\n",
       "      <th></th>\n",
       "      <th>imdb_id</th>\n",
       "      <th>original_title</th>\n",
       "      <th>genres</th>\n",
       "      <th>summary</th>\n",
       "      <th>story</th>\n",
       "      <th>actors</th>\n",
       "      <th>imdb_rating</th>\n",
       "      <th>year_of_release</th>\n",
       "      <th>name</th>\n",
       "    </tr>\n",
       "  </thead>\n",
       "  <tbody>\n",
       "    <tr>\n",
       "      <th>0</th>\n",
       "      <td>tt8291224</td>\n",
       "      <td>Uri: The Surgical Strike</td>\n",
       "      <td>[Action, Drama, War]</td>\n",
       "      <td>[Indian army special forces execute a covert o...</td>\n",
       "      <td>[Divided over five chapters  the film chronicl...</td>\n",
       "      <td>[Vicky Kaushal, Paresh Rawal, Mohit Raina, Yam...</td>\n",
       "      <td>8.4</td>\n",
       "      <td>2019</td>\n",
       "      <td>[Aditya Dhar]</td>\n",
       "    </tr>\n",
       "  </tbody>\n",
       "</table>\n",
       "</div>"
      ],
      "text/plain": [
       "     imdb_id            original_title                genres  \\\n",
       "0  tt8291224  Uri: The Surgical Strike  [Action, Drama, War]   \n",
       "\n",
       "                                             summary  \\\n",
       "0  [Indian army special forces execute a covert o...   \n",
       "\n",
       "                                               story  \\\n",
       "0  [Divided over five chapters  the film chronicl...   \n",
       "\n",
       "                                              actors  imdb_rating  \\\n",
       "0  [Vicky Kaushal, Paresh Rawal, Mohit Raina, Yam...          8.4   \n",
       "\n",
       "   year_of_release           name  \n",
       "0             2019  [Aditya Dhar]  "
      ]
     },
     "execution_count": 40,
     "metadata": {},
     "output_type": "execute_result"
    }
   ],
   "source": [
    "data.head(1)"
   ]
  },
  {
   "cell_type": "code",
   "execution_count": 41,
   "metadata": {},
   "outputs": [
    {
     "data": {
      "text/plain": [
       "3003"
      ]
     },
     "execution_count": 41,
     "metadata": {},
     "output_type": "execute_result"
    }
   ],
   "source": [
    "len(movie)"
   ]
  },
  {
   "cell_type": "code",
   "execution_count": 59,
   "metadata": {},
   "outputs": [
    {
     "data": {
      "text/plain": [
       "4423"
      ]
     },
     "execution_count": 59,
     "metadata": {},
     "output_type": "execute_result"
    }
   ],
   "source": [
    "len(crew)"
   ]
  },
  {
   "cell_type": "code",
   "execution_count": 42,
   "metadata": {},
   "outputs": [
    {
     "data": {
      "text/plain": [
       "2888"
      ]
     },
     "execution_count": 42,
     "metadata": {},
     "output_type": "execute_result"
    }
   ],
   "source": [
    "len(data)"
   ]
  },
  {
   "cell_type": "code",
   "execution_count": 43,
   "metadata": {},
   "outputs": [
    {
     "name": "stdout",
     "output_type": "stream",
     "text": [
      "The TMDB ID for 'Uri: The Surgical Strike' is 554600\n"
     ]
    }
   ],
   "source": [
    "import requests\n",
    "\n",
    "def get_movie_id(api_key, movie_name):\n",
    "    base_url = \"https://api.themoviedb.org/3/search/movie\"\n",
    "    params = {\n",
    "        'api_key': api_key,\n",
    "        'query': movie_name\n",
    "    }\n",
    "\n",
    "    try:\n",
    "        response = requests.get(base_url, params=params)\n",
    "        data = response.json()\n",
    "        \n",
    "        # Assuming the first result is the most relevant one\n",
    "        movie_id = data['results'][0]['id'] if data['results'] else None\n",
    "        return movie_id\n",
    "    except requests.exceptions.RequestException as e:\n",
    "        print(f\"Error: {e}\")\n",
    "        return None\n",
    "\n",
    "# Replace 'YOUR_API_KEY' with your actual TMDB API key\n",
    "api_key = 'a2beae1401c2d48af273258951fe0f1c'\n",
    "movie_name = 'Uri: The Surgical Strike'  # Replace with the movie name you're searching for\n",
    "\n",
    "movie_id = get_movie_id(api_key, movie_name)\n",
    "\n",
    "if movie_id:\n",
    "    print(f\"The TMDB ID for '{movie_name}' is {movie_id}\")\n",
    "else:\n",
    "    print(f\"Unable to find the TMDB ID for '{movie_name}'\")\n"
   ]
  },
  {
   "cell_type": "code",
   "execution_count": 63,
   "metadata": {},
   "outputs": [],
   "source": [
    "data['id'] = 0"
   ]
  },
  {
   "cell_type": "code",
   "execution_count": 65,
   "metadata": {},
   "outputs": [
    {
     "data": {
      "text/html": [
       "<div>\n",
       "<style scoped>\n",
       "    .dataframe tbody tr th:only-of-type {\n",
       "        vertical-align: middle;\n",
       "    }\n",
       "\n",
       "    .dataframe tbody tr th {\n",
       "        vertical-align: top;\n",
       "    }\n",
       "\n",
       "    .dataframe thead th {\n",
       "        text-align: right;\n",
       "    }\n",
       "</style>\n",
       "<table border=\"1\" class=\"dataframe\">\n",
       "  <thead>\n",
       "    <tr style=\"text-align: right;\">\n",
       "      <th></th>\n",
       "      <th>imdb_id</th>\n",
       "      <th>original_title</th>\n",
       "      <th>genres</th>\n",
       "      <th>summary</th>\n",
       "      <th>story</th>\n",
       "      <th>actors</th>\n",
       "      <th>imdb_rating</th>\n",
       "      <th>year_of_release</th>\n",
       "      <th>name</th>\n",
       "      <th>id</th>\n",
       "    </tr>\n",
       "  </thead>\n",
       "  <tbody>\n",
       "    <tr>\n",
       "      <th>0</th>\n",
       "      <td>tt8291224</td>\n",
       "      <td>Uri: The Surgical Strike</td>\n",
       "      <td>[Action, Drama, War]</td>\n",
       "      <td>[Indian army special forces execute a covert o...</td>\n",
       "      <td>[Divided over five chapters  the film chronicl...</td>\n",
       "      <td>[Vicky Kaushal, Paresh Rawal, Mohit Raina, Yam...</td>\n",
       "      <td>8.4</td>\n",
       "      <td>2019</td>\n",
       "      <td>[Aditya Dhar]</td>\n",
       "      <td>0</td>\n",
       "    </tr>\n",
       "  </tbody>\n",
       "</table>\n",
       "</div>"
      ],
      "text/plain": [
       "     imdb_id            original_title                genres  \\\n",
       "0  tt8291224  Uri: The Surgical Strike  [Action, Drama, War]   \n",
       "\n",
       "                                             summary  \\\n",
       "0  [Indian army special forces execute a covert o...   \n",
       "\n",
       "                                               story  \\\n",
       "0  [Divided over five chapters  the film chronicl...   \n",
       "\n",
       "                                              actors  imdb_rating  \\\n",
       "0  [Vicky Kaushal, Paresh Rawal, Mohit Raina, Yam...          8.4   \n",
       "\n",
       "   year_of_release           name  id  \n",
       "0             2019  [Aditya Dhar]   0  "
      ]
     },
     "execution_count": 65,
     "metadata": {},
     "output_type": "execute_result"
    }
   ],
   "source": [
    "data.head(1)"
   ]
  },
  {
   "cell_type": "code",
   "execution_count": 73,
   "metadata": {},
   "outputs": [],
   "source": [
    "# api_key = 'a2beae1401c2d48af273258951fe0f1c'\n",
    "\n",
    "# for i in range(len(data)):\n",
    "\n",
    "#     movie_name = data['original_title'][i]\n",
    "\n",
    "#     movie_id = get_movie_id(api_key, movie_name)\n",
    "#     data['id'][i] = movie_id"
   ]
  },
  {
   "cell_type": "code",
   "execution_count": 45,
   "metadata": {},
   "outputs": [
    {
     "data": {
      "text/html": [
       "<div>\n",
       "<style scoped>\n",
       "    .dataframe tbody tr th:only-of-type {\n",
       "        vertical-align: middle;\n",
       "    }\n",
       "\n",
       "    .dataframe tbody tr th {\n",
       "        vertical-align: top;\n",
       "    }\n",
       "\n",
       "    .dataframe thead th {\n",
       "        text-align: right;\n",
       "    }\n",
       "</style>\n",
       "<table border=\"1\" class=\"dataframe\">\n",
       "  <thead>\n",
       "    <tr style=\"text-align: right;\">\n",
       "      <th></th>\n",
       "      <th>imdb_id</th>\n",
       "      <th>id</th>\n",
       "    </tr>\n",
       "  </thead>\n",
       "  <tbody>\n",
       "    <tr>\n",
       "      <th>0</th>\n",
       "      <td>tt8291224</td>\n",
       "      <td>554600</td>\n",
       "    </tr>\n",
       "    <tr>\n",
       "      <th>1</th>\n",
       "      <td>tt9472208</td>\n",
       "      <td>576152</td>\n",
       "    </tr>\n",
       "    <tr>\n",
       "      <th>2</th>\n",
       "      <td>tt6986710</td>\n",
       "      <td>460868</td>\n",
       "    </tr>\n",
       "    <tr>\n",
       "      <th>3</th>\n",
       "      <td>tt8108208</td>\n",
       "      <td>569584</td>\n",
       "    </tr>\n",
       "    <tr>\n",
       "      <th>4</th>\n",
       "      <td>tt6028796</td>\n",
       "      <td>512188</td>\n",
       "    </tr>\n",
       "  </tbody>\n",
       "</table>\n",
       "</div>"
      ],
      "text/plain": [
       "     imdb_id      id\n",
       "0  tt8291224  554600\n",
       "1  tt9472208  576152\n",
       "2  tt6986710  460868\n",
       "3  tt8108208  569584\n",
       "4  tt6028796  512188"
      ]
     },
     "execution_count": 45,
     "metadata": {},
     "output_type": "execute_result"
    }
   ],
   "source": [
    "ids.head()"
   ]
  },
  {
   "cell_type": "code",
   "execution_count": 47,
   "metadata": {},
   "outputs": [],
   "source": [
    "data = data.merge(ids , on='imdb_id')"
   ]
  },
  {
   "cell_type": "code",
   "execution_count": 48,
   "metadata": {},
   "outputs": [
    {
     "data": {
      "text/html": [
       "<div>\n",
       "<style scoped>\n",
       "    .dataframe tbody tr th:only-of-type {\n",
       "        vertical-align: middle;\n",
       "    }\n",
       "\n",
       "    .dataframe tbody tr th {\n",
       "        vertical-align: top;\n",
       "    }\n",
       "\n",
       "    .dataframe thead th {\n",
       "        text-align: right;\n",
       "    }\n",
       "</style>\n",
       "<table border=\"1\" class=\"dataframe\">\n",
       "  <thead>\n",
       "    <tr style=\"text-align: right;\">\n",
       "      <th></th>\n",
       "      <th>imdb_id</th>\n",
       "      <th>original_title</th>\n",
       "      <th>genres</th>\n",
       "      <th>summary</th>\n",
       "      <th>story</th>\n",
       "      <th>actors</th>\n",
       "      <th>imdb_rating</th>\n",
       "      <th>year_of_release</th>\n",
       "      <th>name</th>\n",
       "      <th>id</th>\n",
       "    </tr>\n",
       "  </thead>\n",
       "  <tbody>\n",
       "    <tr>\n",
       "      <th>0</th>\n",
       "      <td>tt8291224</td>\n",
       "      <td>Uri: The Surgical Strike</td>\n",
       "      <td>[Action, Drama, War]</td>\n",
       "      <td>[Indian army special forces execute a covert o...</td>\n",
       "      <td>[Divided over five chapters  the film chronicl...</td>\n",
       "      <td>[Vicky Kaushal, Paresh Rawal, Mohit Raina, Yam...</td>\n",
       "      <td>8.4</td>\n",
       "      <td>2019</td>\n",
       "      <td>[Aditya Dhar]</td>\n",
       "      <td>554600</td>\n",
       "    </tr>\n",
       "    <tr>\n",
       "      <th>1</th>\n",
       "      <td>tt9472208</td>\n",
       "      <td>Battalion 609</td>\n",
       "      <td>[War]</td>\n",
       "      <td>[The story of Battalion 609 revolves around a ...</td>\n",
       "      <td>[The story revolves around a cricket match bet...</td>\n",
       "      <td>[Vicky Ahuja, Shoaib Ibrahim, Shrikant Kamat, ...</td>\n",
       "      <td>4.1</td>\n",
       "      <td>2019</td>\n",
       "      <td>[Brijesh Batuknath Tripathi]</td>\n",
       "      <td>576152</td>\n",
       "    </tr>\n",
       "    <tr>\n",
       "      <th>2</th>\n",
       "      <td>tt6986710</td>\n",
       "      <td>The Accidental Prime Minister</td>\n",
       "      <td>[Biography, Drama]</td>\n",
       "      <td>[Explores Manmohan Singh's tenure as the Prime...</td>\n",
       "      <td>[Based on the memoir by Indian policy analyst ...</td>\n",
       "      <td>[Anupam Kher, Akshaye Khanna, Aahana Kumra, At...</td>\n",
       "      <td>6.1</td>\n",
       "      <td>2019</td>\n",
       "      <td>[Vijay Ratnakar Gutte]</td>\n",
       "      <td>460868</td>\n",
       "    </tr>\n",
       "    <tr>\n",
       "      <th>3</th>\n",
       "      <td>tt8108208</td>\n",
       "      <td>Why Cheat India</td>\n",
       "      <td>[Crime, Drama]</td>\n",
       "      <td>[The movie focuses on existing malpractices in...</td>\n",
       "      <td>[The movie focuses on existing malpractices in...</td>\n",
       "      <td>[Emraan Hashmi, Shreya Dhanwanthary, Snighdade...</td>\n",
       "      <td>6.0</td>\n",
       "      <td>2019</td>\n",
       "      <td>[Soumik Sen]</td>\n",
       "      <td>569584</td>\n",
       "    </tr>\n",
       "    <tr>\n",
       "      <th>4</th>\n",
       "      <td>tt6028796</td>\n",
       "      <td>Evening Shadows</td>\n",
       "      <td>[Drama]</td>\n",
       "      <td>[Under the 'Evening Shadows'  truth often play...</td>\n",
       "      <td>[While gay rights and marriage equality has be...</td>\n",
       "      <td>[Mona Ambegaonkar, Ananth Narayan Mahadevan, D...</td>\n",
       "      <td>7.3</td>\n",
       "      <td>2018</td>\n",
       "      <td>[Sridhar Rangayan]</td>\n",
       "      <td>512188</td>\n",
       "    </tr>\n",
       "  </tbody>\n",
       "</table>\n",
       "</div>"
      ],
      "text/plain": [
       "     imdb_id                 original_title                genres  \\\n",
       "0  tt8291224       Uri: The Surgical Strike  [Action, Drama, War]   \n",
       "1  tt9472208                  Battalion 609                 [War]   \n",
       "2  tt6986710  The Accidental Prime Minister    [Biography, Drama]   \n",
       "3  tt8108208                Why Cheat India        [Crime, Drama]   \n",
       "4  tt6028796                Evening Shadows               [Drama]   \n",
       "\n",
       "                                             summary  \\\n",
       "0  [Indian army special forces execute a covert o...   \n",
       "1  [The story of Battalion 609 revolves around a ...   \n",
       "2  [Explores Manmohan Singh's tenure as the Prime...   \n",
       "3  [The movie focuses on existing malpractices in...   \n",
       "4  [Under the 'Evening Shadows'  truth often play...   \n",
       "\n",
       "                                               story  \\\n",
       "0  [Divided over five chapters  the film chronicl...   \n",
       "1  [The story revolves around a cricket match bet...   \n",
       "2  [Based on the memoir by Indian policy analyst ...   \n",
       "3  [The movie focuses on existing malpractices in...   \n",
       "4  [While gay rights and marriage equality has be...   \n",
       "\n",
       "                                              actors  imdb_rating  \\\n",
       "0  [Vicky Kaushal, Paresh Rawal, Mohit Raina, Yam...          8.4   \n",
       "1  [Vicky Ahuja, Shoaib Ibrahim, Shrikant Kamat, ...          4.1   \n",
       "2  [Anupam Kher, Akshaye Khanna, Aahana Kumra, At...          6.1   \n",
       "3  [Emraan Hashmi, Shreya Dhanwanthary, Snighdade...          6.0   \n",
       "4  [Mona Ambegaonkar, Ananth Narayan Mahadevan, D...          7.3   \n",
       "\n",
       "   year_of_release                          name      id  \n",
       "0             2019                 [Aditya Dhar]  554600  \n",
       "1             2019  [Brijesh Batuknath Tripathi]  576152  \n",
       "2             2019        [Vijay Ratnakar Gutte]  460868  \n",
       "3             2019                  [Soumik Sen]  569584  \n",
       "4             2018            [Sridhar Rangayan]  512188  "
      ]
     },
     "execution_count": 48,
     "metadata": {},
     "output_type": "execute_result"
    }
   ],
   "source": [
    "data.head()"
   ]
  },
  {
   "cell_type": "code",
   "execution_count": 49,
   "metadata": {},
   "outputs": [],
   "source": [
    "data = data[~data['id'].isnull()]"
   ]
  },
  {
   "cell_type": "code",
   "execution_count": 50,
   "metadata": {},
   "outputs": [
    {
     "data": {
      "text/plain": [
       "2922"
      ]
     },
     "execution_count": 50,
     "metadata": {},
     "output_type": "execute_result"
    }
   ],
   "source": [
    "len(data)"
   ]
  },
  {
   "cell_type": "code",
   "execution_count": 51,
   "metadata": {},
   "outputs": [],
   "source": [
    "data['id'] = data['id'].apply(lambda x : int(x))"
   ]
  },
  {
   "cell_type": "code",
   "execution_count": 84,
   "metadata": {},
   "outputs": [],
   "source": [
    "id = data[['imdb_id', 'id']]"
   ]
  },
  {
   "cell_type": "code",
   "execution_count": 86,
   "metadata": {},
   "outputs": [],
   "source": [
    "id.to_csv('./indian_movies/ids.csv' , index=False)"
   ]
  },
  {
   "cell_type": "code",
   "execution_count": 52,
   "metadata": {},
   "outputs": [
    {
     "data": {
      "text/plain": [
       "Index(['imdb_id', 'original_title', 'genres', 'summary', 'story', 'actors',\n",
       "       'imdb_rating', 'year_of_release', 'name', 'id'],\n",
       "      dtype='object')"
      ]
     },
     "execution_count": 52,
     "metadata": {},
     "output_type": "execute_result"
    }
   ],
   "source": [
    "data.columns"
   ]
  },
  {
   "cell_type": "code",
   "execution_count": 53,
   "metadata": {},
   "outputs": [],
   "source": [
    "data.columns = ['imdbid', 'title', 'genres', 'overview', 'story', 'cast', 'vote_average', 'year_of_release', 'crew', 'id']"
   ]
  },
  {
   "cell_type": "code",
   "execution_count": 54,
   "metadata": {},
   "outputs": [
    {
     "data": {
      "text/html": [
       "<div>\n",
       "<style scoped>\n",
       "    .dataframe tbody tr th:only-of-type {\n",
       "        vertical-align: middle;\n",
       "    }\n",
       "\n",
       "    .dataframe tbody tr th {\n",
       "        vertical-align: top;\n",
       "    }\n",
       "\n",
       "    .dataframe thead th {\n",
       "        text-align: right;\n",
       "    }\n",
       "</style>\n",
       "<table border=\"1\" class=\"dataframe\">\n",
       "  <thead>\n",
       "    <tr style=\"text-align: right;\">\n",
       "      <th></th>\n",
       "      <th>imdbid</th>\n",
       "      <th>title</th>\n",
       "      <th>genres</th>\n",
       "      <th>overview</th>\n",
       "      <th>story</th>\n",
       "      <th>cast</th>\n",
       "      <th>vote_average</th>\n",
       "      <th>year_of_release</th>\n",
       "      <th>crew</th>\n",
       "      <th>id</th>\n",
       "    </tr>\n",
       "  </thead>\n",
       "  <tbody>\n",
       "    <tr>\n",
       "      <th>0</th>\n",
       "      <td>tt8291224</td>\n",
       "      <td>Uri: The Surgical Strike</td>\n",
       "      <td>[Action, Drama, War]</td>\n",
       "      <td>[Indian army special forces execute a covert o...</td>\n",
       "      <td>[Divided over five chapters  the film chronicl...</td>\n",
       "      <td>[Vicky Kaushal, Paresh Rawal, Mohit Raina, Yam...</td>\n",
       "      <td>8.4</td>\n",
       "      <td>2019</td>\n",
       "      <td>[Aditya Dhar]</td>\n",
       "      <td>554600</td>\n",
       "    </tr>\n",
       "  </tbody>\n",
       "</table>\n",
       "</div>"
      ],
      "text/plain": [
       "      imdbid                     title                genres  \\\n",
       "0  tt8291224  Uri: The Surgical Strike  [Action, Drama, War]   \n",
       "\n",
       "                                            overview  \\\n",
       "0  [Indian army special forces execute a covert o...   \n",
       "\n",
       "                                               story  \\\n",
       "0  [Divided over five chapters  the film chronicl...   \n",
       "\n",
       "                                                cast  vote_average  \\\n",
       "0  [Vicky Kaushal, Paresh Rawal, Mohit Raina, Yam...           8.4   \n",
       "\n",
       "   year_of_release           crew      id  \n",
       "0             2019  [Aditya Dhar]  554600  "
      ]
     },
     "execution_count": 54,
     "metadata": {},
     "output_type": "execute_result"
    }
   ],
   "source": [
    "data.head(1)"
   ]
  },
  {
   "cell_type": "code",
   "execution_count": 55,
   "metadata": {},
   "outputs": [],
   "source": [
    "data['imdbid'] = data['imdbid'].apply(lambda x: x[2:])"
   ]
  },
  {
   "cell_type": "code",
   "execution_count": 56,
   "metadata": {},
   "outputs": [
    {
     "data": {
      "text/html": [
       "<div>\n",
       "<style scoped>\n",
       "    .dataframe tbody tr th:only-of-type {\n",
       "        vertical-align: middle;\n",
       "    }\n",
       "\n",
       "    .dataframe tbody tr th {\n",
       "        vertical-align: top;\n",
       "    }\n",
       "\n",
       "    .dataframe thead th {\n",
       "        text-align: right;\n",
       "    }\n",
       "</style>\n",
       "<table border=\"1\" class=\"dataframe\">\n",
       "  <thead>\n",
       "    <tr style=\"text-align: right;\">\n",
       "      <th></th>\n",
       "      <th>imdbid</th>\n",
       "      <th>title</th>\n",
       "      <th>genres</th>\n",
       "      <th>overview</th>\n",
       "      <th>story</th>\n",
       "      <th>cast</th>\n",
       "      <th>vote_average</th>\n",
       "      <th>year_of_release</th>\n",
       "      <th>crew</th>\n",
       "      <th>id</th>\n",
       "    </tr>\n",
       "  </thead>\n",
       "  <tbody>\n",
       "    <tr>\n",
       "      <th>0</th>\n",
       "      <td>8291224</td>\n",
       "      <td>Uri: The Surgical Strike</td>\n",
       "      <td>[Action, Drama, War]</td>\n",
       "      <td>[Indian army special forces execute a covert o...</td>\n",
       "      <td>[Divided over five chapters  the film chronicl...</td>\n",
       "      <td>[Vicky Kaushal, Paresh Rawal, Mohit Raina, Yam...</td>\n",
       "      <td>8.4</td>\n",
       "      <td>2019</td>\n",
       "      <td>[Aditya Dhar]</td>\n",
       "      <td>554600</td>\n",
       "    </tr>\n",
       "    <tr>\n",
       "      <th>1</th>\n",
       "      <td>9472208</td>\n",
       "      <td>Battalion 609</td>\n",
       "      <td>[War]</td>\n",
       "      <td>[The story of Battalion 609 revolves around a ...</td>\n",
       "      <td>[The story revolves around a cricket match bet...</td>\n",
       "      <td>[Vicky Ahuja, Shoaib Ibrahim, Shrikant Kamat, ...</td>\n",
       "      <td>4.1</td>\n",
       "      <td>2019</td>\n",
       "      <td>[Brijesh Batuknath Tripathi]</td>\n",
       "      <td>576152</td>\n",
       "    </tr>\n",
       "  </tbody>\n",
       "</table>\n",
       "</div>"
      ],
      "text/plain": [
       "    imdbid                     title                genres  \\\n",
       "0  8291224  Uri: The Surgical Strike  [Action, Drama, War]   \n",
       "1  9472208             Battalion 609                 [War]   \n",
       "\n",
       "                                            overview  \\\n",
       "0  [Indian army special forces execute a covert o...   \n",
       "1  [The story of Battalion 609 revolves around a ...   \n",
       "\n",
       "                                               story  \\\n",
       "0  [Divided over five chapters  the film chronicl...   \n",
       "1  [The story revolves around a cricket match bet...   \n",
       "\n",
       "                                                cast  vote_average  \\\n",
       "0  [Vicky Kaushal, Paresh Rawal, Mohit Raina, Yam...           8.4   \n",
       "1  [Vicky Ahuja, Shoaib Ibrahim, Shrikant Kamat, ...           4.1   \n",
       "\n",
       "   year_of_release                          crew      id  \n",
       "0             2019                 [Aditya Dhar]  554600  \n",
       "1             2019  [Brijesh Batuknath Tripathi]  576152  "
      ]
     },
     "execution_count": 56,
     "metadata": {},
     "output_type": "execute_result"
    }
   ],
   "source": [
    "data.head(2)"
   ]
  },
  {
   "cell_type": "code",
   "execution_count": 57,
   "metadata": {},
   "outputs": [],
   "source": [
    "appdata = data.copy()"
   ]
  },
  {
   "cell_type": "code",
   "execution_count": 95,
   "metadata": {},
   "outputs": [],
   "source": [
    "data['genres'] = data['genres'].apply(lambda x : [y.replace(' ','') for y in x])"
   ]
  },
  {
   "cell_type": "code",
   "execution_count": 96,
   "metadata": {},
   "outputs": [],
   "source": [
    "data['cast'] = data['cast'].apply(lambda x : [y.replace(' ','') for y in x])"
   ]
  },
  {
   "cell_type": "code",
   "execution_count": 97,
   "metadata": {},
   "outputs": [],
   "source": [
    "data['crew'] = data['crew'].apply(lambda x : [y.replace(' ','') for y in x])"
   ]
  },
  {
   "cell_type": "code",
   "execution_count": 98,
   "metadata": {},
   "outputs": [
    {
     "data": {
      "text/html": [
       "<div>\n",
       "<style scoped>\n",
       "    .dataframe tbody tr th:only-of-type {\n",
       "        vertical-align: middle;\n",
       "    }\n",
       "\n",
       "    .dataframe tbody tr th {\n",
       "        vertical-align: top;\n",
       "    }\n",
       "\n",
       "    .dataframe thead th {\n",
       "        text-align: right;\n",
       "    }\n",
       "</style>\n",
       "<table border=\"1\" class=\"dataframe\">\n",
       "  <thead>\n",
       "    <tr style=\"text-align: right;\">\n",
       "      <th></th>\n",
       "      <th>imdbid</th>\n",
       "      <th>title</th>\n",
       "      <th>genres</th>\n",
       "      <th>overview</th>\n",
       "      <th>story</th>\n",
       "      <th>cast</th>\n",
       "      <th>vote_average</th>\n",
       "      <th>year_of_release</th>\n",
       "      <th>crew</th>\n",
       "      <th>id</th>\n",
       "    </tr>\n",
       "  </thead>\n",
       "  <tbody>\n",
       "    <tr>\n",
       "      <th>0</th>\n",
       "      <td>8291224</td>\n",
       "      <td>Uri: The Surgical Strike</td>\n",
       "      <td>[Action, Drama, War]</td>\n",
       "      <td>[Indian army special forces execute a covert o...</td>\n",
       "      <td>[Divided over five chapters  the film chronicl...</td>\n",
       "      <td>[VickyKaushal, PareshRawal, MohitRaina, YamiGa...</td>\n",
       "      <td>8.4</td>\n",
       "      <td>2019</td>\n",
       "      <td>[AdityaDhar]</td>\n",
       "      <td>554600</td>\n",
       "    </tr>\n",
       "  </tbody>\n",
       "</table>\n",
       "</div>"
      ],
      "text/plain": [
       "    imdbid                     title                genres  \\\n",
       "0  8291224  Uri: The Surgical Strike  [Action, Drama, War]   \n",
       "\n",
       "                                            overview  \\\n",
       "0  [Indian army special forces execute a covert o...   \n",
       "\n",
       "                                               story  \\\n",
       "0  [Divided over five chapters  the film chronicl...   \n",
       "\n",
       "                                                cast  vote_average  \\\n",
       "0  [VickyKaushal, PareshRawal, MohitRaina, YamiGa...           8.4   \n",
       "\n",
       "   year_of_release          crew      id  \n",
       "0             2019  [AdityaDhar]  554600  "
      ]
     },
     "execution_count": 98,
     "metadata": {},
     "output_type": "execute_result"
    }
   ],
   "source": [
    "data.head(1)"
   ]
  },
  {
   "cell_type": "code",
   "execution_count": 100,
   "metadata": {},
   "outputs": [],
   "source": [
    "data['tokens'] = data['cast'] + data['crew'] + data['genres'] + data['overview']"
   ]
  },
  {
   "cell_type": "code",
   "execution_count": 101,
   "metadata": {},
   "outputs": [
    {
     "data": {
      "text/html": [
       "<div>\n",
       "<style scoped>\n",
       "    .dataframe tbody tr th:only-of-type {\n",
       "        vertical-align: middle;\n",
       "    }\n",
       "\n",
       "    .dataframe tbody tr th {\n",
       "        vertical-align: top;\n",
       "    }\n",
       "\n",
       "    .dataframe thead th {\n",
       "        text-align: right;\n",
       "    }\n",
       "</style>\n",
       "<table border=\"1\" class=\"dataframe\">\n",
       "  <thead>\n",
       "    <tr style=\"text-align: right;\">\n",
       "      <th></th>\n",
       "      <th>imdbid</th>\n",
       "      <th>title</th>\n",
       "      <th>genres</th>\n",
       "      <th>overview</th>\n",
       "      <th>story</th>\n",
       "      <th>cast</th>\n",
       "      <th>vote_average</th>\n",
       "      <th>year_of_release</th>\n",
       "      <th>crew</th>\n",
       "      <th>id</th>\n",
       "      <th>tokens</th>\n",
       "    </tr>\n",
       "  </thead>\n",
       "  <tbody>\n",
       "    <tr>\n",
       "      <th>0</th>\n",
       "      <td>8291224</td>\n",
       "      <td>Uri: The Surgical Strike</td>\n",
       "      <td>[Action, Drama, War]</td>\n",
       "      <td>[Indian army special forces execute a covert o...</td>\n",
       "      <td>[Divided over five chapters  the film chronicl...</td>\n",
       "      <td>[VickyKaushal, PareshRawal, MohitRaina, YamiGa...</td>\n",
       "      <td>8.4</td>\n",
       "      <td>2019</td>\n",
       "      <td>[AdityaDhar]</td>\n",
       "      <td>554600</td>\n",
       "      <td>[VickyKaushal, PareshRawal, MohitRaina, YamiGa...</td>\n",
       "    </tr>\n",
       "  </tbody>\n",
       "</table>\n",
       "</div>"
      ],
      "text/plain": [
       "    imdbid                     title                genres  \\\n",
       "0  8291224  Uri: The Surgical Strike  [Action, Drama, War]   \n",
       "\n",
       "                                            overview  \\\n",
       "0  [Indian army special forces execute a covert o...   \n",
       "\n",
       "                                               story  \\\n",
       "0  [Divided over five chapters  the film chronicl...   \n",
       "\n",
       "                                                cast  vote_average  \\\n",
       "0  [VickyKaushal, PareshRawal, MohitRaina, YamiGa...           8.4   \n",
       "\n",
       "   year_of_release          crew      id  \\\n",
       "0             2019  [AdityaDhar]  554600   \n",
       "\n",
       "                                              tokens  \n",
       "0  [VickyKaushal, PareshRawal, MohitRaina, YamiGa...  "
      ]
     },
     "execution_count": 101,
     "metadata": {},
     "output_type": "execute_result"
    }
   ],
   "source": [
    "data.head(1)"
   ]
  },
  {
   "cell_type": "code",
   "execution_count": 102,
   "metadata": {},
   "outputs": [
    {
     "data": {
      "text/plain": [
       "['SunilGrover',\n",
       " 'ZakirHussain',\n",
       " 'DipannitaSharma',\n",
       " 'RajeshSharma',\n",
       " 'VishalMishra',\n",
       " 'Comedy',\n",
       " 'A celebrated journalist interviews one of the world\\'s most dreaded terrorists  \"D\"']"
      ]
     },
     "execution_count": 102,
     "metadata": {},
     "output_type": "execute_result"
    }
   ],
   "source": [
    "data['tokens'][155]"
   ]
  },
  {
   "cell_type": "code",
   "execution_count": 103,
   "metadata": {},
   "outputs": [
    {
     "data": {
      "text/plain": [
       "'Coffee with D'"
      ]
     },
     "execution_count": 103,
     "metadata": {},
     "output_type": "execute_result"
    }
   ],
   "source": [
    "data['title'][155]"
   ]
  },
  {
   "cell_type": "code",
   "execution_count": 104,
   "metadata": {},
   "outputs": [],
   "source": [
    "data['tokens'] = data['tokens'].apply(lambda x : ' '.join(x))"
   ]
  },
  {
   "cell_type": "code",
   "execution_count": 105,
   "metadata": {},
   "outputs": [],
   "source": [
    "data['tokens'] = data['tokens'].apply(lambda x : x.lower())"
   ]
  },
  {
   "cell_type": "code",
   "execution_count": 106,
   "metadata": {},
   "outputs": [
    {
     "data": {
      "text/plain": [
       "'sunilgrover zakirhussain dipannitasharma rajeshsharma vishalmishra comedy a celebrated journalist interviews one of the world\\'s most dreaded terrorists  \"d\"'"
      ]
     },
     "execution_count": 106,
     "metadata": {},
     "output_type": "execute_result"
    }
   ],
   "source": [
    "data['tokens'][155]"
   ]
  },
  {
   "cell_type": "code",
   "execution_count": 107,
   "metadata": {},
   "outputs": [],
   "source": [
    "X = data['tokens']"
   ]
  },
  {
   "cell_type": "code",
   "execution_count": 108,
   "metadata": {},
   "outputs": [
    {
     "data": {
      "text/plain": [
       "0    vickykaushal pareshrawal mohitraina yamigautam...\n",
       "1    vickyahuja shoaibibrahim shrikantkamat elenaka...\n",
       "2    anupamkher akshayekhanna aahanakumra atulsharm...\n",
       "3    emraanhashmi shreyadhanwanthary snighdadeepcha...\n",
       "4    monaambegaonkar ananthnarayanmahadevan devansh...\n",
       "Name: tokens, dtype: object"
      ]
     },
     "execution_count": 108,
     "metadata": {},
     "output_type": "execute_result"
    }
   ],
   "source": [
    "X.head()"
   ]
  },
  {
   "cell_type": "code",
   "execution_count": 109,
   "metadata": {},
   "outputs": [],
   "source": [
    "def clean_text(token):\n",
    "    \n",
    "    token = re.sub(r'\\[[0-9]*\\]', ' ',token)\n",
    "    token = re.sub(r'\\s+', ' ', token)\n",
    "    token = re.sub('[^a-zA-Z]', ' ', token )\n",
    "    token = re.sub(r'\\s+', ' ', token)\n",
    "    \n",
    "    return token"
   ]
  },
  {
   "cell_type": "code",
   "execution_count": 110,
   "metadata": {},
   "outputs": [],
   "source": [
    "X = X.apply(clean_text)"
   ]
  },
  {
   "cell_type": "code",
   "execution_count": 111,
   "metadata": {},
   "outputs": [],
   "source": [
    "word = word_tokenize\n",
    "stemmer = PorterStemmer()\n",
    "\n",
    "def stem(token):\n",
    "    token = word(token)\n",
    "    token = [stemmer.stem(x) for x in token]\n",
    "    return ' '.join(token)"
   ]
  },
  {
   "cell_type": "code",
   "execution_count": 112,
   "metadata": {},
   "outputs": [],
   "source": [
    "X = X.apply(stem)"
   ]
  },
  {
   "cell_type": "code",
   "execution_count": 113,
   "metadata": {},
   "outputs": [],
   "source": [
    "tfidf = TfidfVectorizer(max_features=10000 , stop_words='english')"
   ]
  },
  {
   "cell_type": "code",
   "execution_count": 114,
   "metadata": {},
   "outputs": [],
   "source": [
    "vectors = tfidf.fit_transform(X).toarray()"
   ]
  },
  {
   "cell_type": "code",
   "execution_count": 115,
   "metadata": {},
   "outputs": [
    {
     "data": {
      "text/plain": [
       "(2776, 10000)"
      ]
     },
     "execution_count": 115,
     "metadata": {},
     "output_type": "execute_result"
    }
   ],
   "source": [
    "vectors.shape"
   ]
  },
  {
   "cell_type": "code",
   "execution_count": 116,
   "metadata": {},
   "outputs": [],
   "source": [
    "similarity = cosine_similarity(vectors)"
   ]
  },
  {
   "cell_type": "code",
   "execution_count": 117,
   "metadata": {},
   "outputs": [
    {
     "data": {
      "text/plain": [
       "(2776, 2776)"
      ]
     },
     "execution_count": 117,
     "metadata": {},
     "output_type": "execute_result"
    }
   ],
   "source": [
    "similarity.shape"
   ]
  },
  {
   "cell_type": "code",
   "execution_count": 118,
   "metadata": {},
   "outputs": [],
   "source": [
    "def recommender(name):\n",
    "\n",
    "    index = data[data['title'] == name].index[0]\n",
    "    top10 = sorted(enumerate(similarity[index]) , reverse=True , key= lambda x : x[1])[1:11]\n",
    "    \n",
    "    for i in top10:\n",
    "        movie = data.iloc[i[0]].title\n",
    "        print(movie)"
   ]
  },
  {
   "cell_type": "code",
   "execution_count": 119,
   "metadata": {},
   "outputs": [],
   "source": [
    "def your_movie(name):\n",
    "    \n",
    "    name = name.lower()\n",
    "    new_title = [re.sub(r'[^\\w\\s]', '', title.lower()) for title in data['title']]\n",
    "\n",
    "    if name in new_title:\n",
    "        index = new_title.index(name)\n",
    "        recommender(data.iloc[index].title)\n",
    "    else:\n",
    "        print(f'No movie available for \"{name}\"')"
   ]
  },
  {
   "cell_type": "code",
   "execution_count": 121,
   "metadata": {},
   "outputs": [
    {
     "name": "stdout",
     "output_type": "stream",
     "text": [
      "Wanted: Dead or Alive\n",
      "Oonche Log\n",
      "Mohabbat Ki Kasam\n",
      "Aulad Ke Dushman\n",
      "Dharamyudh\n",
      "Pyaar Tune Kya Kiya...\n",
      "Waqt Ki Deewar\n",
      "Aulad\n",
      "Megha\n",
      "Take It Easy\n"
     ]
    }
   ],
   "source": [
    "your_movie('Judwaa')"
   ]
  },
  {
   "cell_type": "code",
   "execution_count": 58,
   "metadata": {},
   "outputs": [],
   "source": [
    "data_dict = appdata.to_dict()"
   ]
  },
  {
   "cell_type": "code",
   "execution_count": 59,
   "metadata": {},
   "outputs": [],
   "source": [
    "pickle.dump(data_dict , open('deployment/movie_dict.pkl', 'wb'))"
   ]
  },
  {
   "cell_type": "code",
   "execution_count": 124,
   "metadata": {},
   "outputs": [],
   "source": [
    "pickle.dump(similarity , open('deployment/similarity.pkl', 'wb'))"
   ]
  },
  {
   "cell_type": "markdown",
   "metadata": {},
   "source": [
    "# Now go to Deployment"
   ]
  }
 ],
 "metadata": {
  "kernelspec": {
   "display_name": "ds-11",
   "language": "python",
   "name": "python3"
  },
  "language_info": {
   "codemirror_mode": {
    "name": "ipython",
    "version": 3
   },
   "file_extension": ".py",
   "mimetype": "text/x-python",
   "name": "python",
   "nbconvert_exporter": "python",
   "pygments_lexer": "ipython3",
   "version": "3.11.5"
  }
 },
 "nbformat": 4,
 "nbformat_minor": 2
}
